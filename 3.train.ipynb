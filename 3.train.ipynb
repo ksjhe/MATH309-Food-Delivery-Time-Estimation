{
 "cells": [
  {
   "cell_type": "code",
   "execution_count": 39,
   "metadata": {
    "collapsed": true,
    "pycharm": {
     "name": "#%%\n"
    }
   },
   "outputs": [],
   "source": [
    "import numpy as np\n",
    "import pandas as pd\n",
    "import time\n",
    "import matplotlib.pyplot as plt\n",
    "from pprint import pprint\n",
    "from sklearn.pipeline import make_pipeline, Pipeline\n",
    "from sklearn.preprocessing import FunctionTransformer\n",
    "from sklearn.model_selection import GridSearchCV, KFold"
   ]
  },
  {
   "cell_type": "code",
   "execution_count": 40,
   "outputs": [
    {
     "data": {
      "text/plain": "       Delivery_person_Age  Delivery_person_Ratings Weatherconditions  \\\n0                     37.0                      4.9             Sunny   \n1                     34.0                      4.5            Stormy   \n2                     23.0                      4.4        Sandstorms   \n3                     38.0                      4.7             Sunny   \n4                     32.0                      4.6            Cloudy   \n...                    ...                      ...               ...   \n41363                 30.0                      4.8             Windy   \n41364                 21.0                      4.6             Windy   \n41365                 30.0                      4.9            Cloudy   \n41366                 20.0                      4.7            Cloudy   \n41367                 23.0                      4.9               Fog   \n\n      Road_traffic_density  Vehicle_condition Type_of_order Type_of_vehicle  \\\n0                    High                 2.0        Snack      motorcycle    \n1                     Jam                 2.0        Snack         scooter    \n2                     Low                 0.0       Drinks      motorcycle    \n3                  Medium                 0.0       Buffet      motorcycle    \n4                    High                 1.0        Snack         scooter    \n...                    ...                ...           ...             ...   \n41363                High                 1.0         Meal      motorcycle    \n41364                 Jam                 0.0       Buffet      motorcycle    \n41365                 Low                 1.0       Drinks         scooter    \n41366                High                 0.0        Snack      motorcycle    \n41367              Medium                 2.0        Snack         scooter    \n\n       multiple_deliveries Festival            City  Time_taken(min)  \\\n0                      0.0      No           Urban                24   \n1                      1.0      No   Metropolitian                33   \n2                      1.0      No           Urban                26   \n3                      1.0      No   Metropolitian                21   \n4                      1.0      No   Metropolitian                30   \n...                    ...      ...             ...              ...   \n41363                  0.0      No   Metropolitian                32   \n41364                  1.0      No   Metropolitian                36   \n41365                  0.0      No   Metropolitian                16   \n41366                  1.0      No   Metropolitian                26   \n41367                  1.0      No   Metropolitian                36   \n\n       Order_Pickup_Time  Delivery_Distance (m)  Ordered_month  Ordered_year  \\\n0                   15.0            3025.149286              3          2022   \n1                    5.0           20183.529729              3          2022   \n2                   15.0            1552.757802              3          2022   \n3                   10.0            7790.401360              4          2022   \n4                   15.0            6210.137966              3          2022   \n...                  ...                    ...            ...           ...   \n41363               10.0            1489.845884              3          2022   \n41364               15.0           11007.734764              2          2022   \n41365               15.0            4657.195394              3          2022   \n41366                5.0            6232.393050              3          2022   \n41367                5.0           12074.395526              3          2022   \n\n       Ordered_time (mins)  \n0                      690  \n1                     1185  \n2                      510  \n3                     1080  \n4                      810  \n...                    ...  \n41363                  695  \n41364                 1195  \n41365                 1430  \n41366                  815  \n41367                 1030  \n\n[41368 rows x 16 columns]",
      "text/html": "<div>\n<style scoped>\n    .dataframe tbody tr th:only-of-type {\n        vertical-align: middle;\n    }\n\n    .dataframe tbody tr th {\n        vertical-align: top;\n    }\n\n    .dataframe thead th {\n        text-align: right;\n    }\n</style>\n<table border=\"1\" class=\"dataframe\">\n  <thead>\n    <tr style=\"text-align: right;\">\n      <th></th>\n      <th>Delivery_person_Age</th>\n      <th>Delivery_person_Ratings</th>\n      <th>Weatherconditions</th>\n      <th>Road_traffic_density</th>\n      <th>Vehicle_condition</th>\n      <th>Type_of_order</th>\n      <th>Type_of_vehicle</th>\n      <th>multiple_deliveries</th>\n      <th>Festival</th>\n      <th>City</th>\n      <th>Time_taken(min)</th>\n      <th>Order_Pickup_Time</th>\n      <th>Delivery_Distance (m)</th>\n      <th>Ordered_month</th>\n      <th>Ordered_year</th>\n      <th>Ordered_time (mins)</th>\n    </tr>\n  </thead>\n  <tbody>\n    <tr>\n      <th>0</th>\n      <td>37.0</td>\n      <td>4.9</td>\n      <td>Sunny</td>\n      <td>High</td>\n      <td>2.0</td>\n      <td>Snack</td>\n      <td>motorcycle</td>\n      <td>0.0</td>\n      <td>No</td>\n      <td>Urban</td>\n      <td>24</td>\n      <td>15.0</td>\n      <td>3025.149286</td>\n      <td>3</td>\n      <td>2022</td>\n      <td>690</td>\n    </tr>\n    <tr>\n      <th>1</th>\n      <td>34.0</td>\n      <td>4.5</td>\n      <td>Stormy</td>\n      <td>Jam</td>\n      <td>2.0</td>\n      <td>Snack</td>\n      <td>scooter</td>\n      <td>1.0</td>\n      <td>No</td>\n      <td>Metropolitian</td>\n      <td>33</td>\n      <td>5.0</td>\n      <td>20183.529729</td>\n      <td>3</td>\n      <td>2022</td>\n      <td>1185</td>\n    </tr>\n    <tr>\n      <th>2</th>\n      <td>23.0</td>\n      <td>4.4</td>\n      <td>Sandstorms</td>\n      <td>Low</td>\n      <td>0.0</td>\n      <td>Drinks</td>\n      <td>motorcycle</td>\n      <td>1.0</td>\n      <td>No</td>\n      <td>Urban</td>\n      <td>26</td>\n      <td>15.0</td>\n      <td>1552.757802</td>\n      <td>3</td>\n      <td>2022</td>\n      <td>510</td>\n    </tr>\n    <tr>\n      <th>3</th>\n      <td>38.0</td>\n      <td>4.7</td>\n      <td>Sunny</td>\n      <td>Medium</td>\n      <td>0.0</td>\n      <td>Buffet</td>\n      <td>motorcycle</td>\n      <td>1.0</td>\n      <td>No</td>\n      <td>Metropolitian</td>\n      <td>21</td>\n      <td>10.0</td>\n      <td>7790.401360</td>\n      <td>4</td>\n      <td>2022</td>\n      <td>1080</td>\n    </tr>\n    <tr>\n      <th>4</th>\n      <td>32.0</td>\n      <td>4.6</td>\n      <td>Cloudy</td>\n      <td>High</td>\n      <td>1.0</td>\n      <td>Snack</td>\n      <td>scooter</td>\n      <td>1.0</td>\n      <td>No</td>\n      <td>Metropolitian</td>\n      <td>30</td>\n      <td>15.0</td>\n      <td>6210.137966</td>\n      <td>3</td>\n      <td>2022</td>\n      <td>810</td>\n    </tr>\n    <tr>\n      <th>...</th>\n      <td>...</td>\n      <td>...</td>\n      <td>...</td>\n      <td>...</td>\n      <td>...</td>\n      <td>...</td>\n      <td>...</td>\n      <td>...</td>\n      <td>...</td>\n      <td>...</td>\n      <td>...</td>\n      <td>...</td>\n      <td>...</td>\n      <td>...</td>\n      <td>...</td>\n      <td>...</td>\n    </tr>\n    <tr>\n      <th>41363</th>\n      <td>30.0</td>\n      <td>4.8</td>\n      <td>Windy</td>\n      <td>High</td>\n      <td>1.0</td>\n      <td>Meal</td>\n      <td>motorcycle</td>\n      <td>0.0</td>\n      <td>No</td>\n      <td>Metropolitian</td>\n      <td>32</td>\n      <td>10.0</td>\n      <td>1489.845884</td>\n      <td>3</td>\n      <td>2022</td>\n      <td>695</td>\n    </tr>\n    <tr>\n      <th>41364</th>\n      <td>21.0</td>\n      <td>4.6</td>\n      <td>Windy</td>\n      <td>Jam</td>\n      <td>0.0</td>\n      <td>Buffet</td>\n      <td>motorcycle</td>\n      <td>1.0</td>\n      <td>No</td>\n      <td>Metropolitian</td>\n      <td>36</td>\n      <td>15.0</td>\n      <td>11007.734764</td>\n      <td>2</td>\n      <td>2022</td>\n      <td>1195</td>\n    </tr>\n    <tr>\n      <th>41365</th>\n      <td>30.0</td>\n      <td>4.9</td>\n      <td>Cloudy</td>\n      <td>Low</td>\n      <td>1.0</td>\n      <td>Drinks</td>\n      <td>scooter</td>\n      <td>0.0</td>\n      <td>No</td>\n      <td>Metropolitian</td>\n      <td>16</td>\n      <td>15.0</td>\n      <td>4657.195394</td>\n      <td>3</td>\n      <td>2022</td>\n      <td>1430</td>\n    </tr>\n    <tr>\n      <th>41366</th>\n      <td>20.0</td>\n      <td>4.7</td>\n      <td>Cloudy</td>\n      <td>High</td>\n      <td>0.0</td>\n      <td>Snack</td>\n      <td>motorcycle</td>\n      <td>1.0</td>\n      <td>No</td>\n      <td>Metropolitian</td>\n      <td>26</td>\n      <td>5.0</td>\n      <td>6232.393050</td>\n      <td>3</td>\n      <td>2022</td>\n      <td>815</td>\n    </tr>\n    <tr>\n      <th>41367</th>\n      <td>23.0</td>\n      <td>4.9</td>\n      <td>Fog</td>\n      <td>Medium</td>\n      <td>2.0</td>\n      <td>Snack</td>\n      <td>scooter</td>\n      <td>1.0</td>\n      <td>No</td>\n      <td>Metropolitian</td>\n      <td>36</td>\n      <td>5.0</td>\n      <td>12074.395526</td>\n      <td>3</td>\n      <td>2022</td>\n      <td>1030</td>\n    </tr>\n  </tbody>\n</table>\n<p>41368 rows × 16 columns</p>\n</div>"
     },
     "execution_count": 40,
     "metadata": {},
     "output_type": "execute_result"
    }
   ],
   "source": [
    "df = pd.read_csv('data/train_engineered.csv')\n",
    "df"
   ],
   "metadata": {
    "collapsed": false,
    "pycharm": {
     "name": "#%%\n"
    }
   }
  },
  {
   "cell_type": "markdown",
   "source": [],
   "metadata": {
    "collapsed": false,
    "pycharm": {
     "name": "#%% md\n"
    }
   }
  },
  {
   "cell_type": "markdown",
   "source": [
    "# Train/Valid/Test Split"
   ],
   "metadata": {
    "collapsed": false,
    "pycharm": {
     "name": "#%% md\n"
    }
   }
  },
  {
   "cell_type": "code",
   "execution_count": 41,
   "outputs": [],
   "source": [
    "from sklearn.model_selection import train_test_split, cross_val_score"
   ],
   "metadata": {
    "collapsed": false,
    "pycharm": {
     "name": "#%%\n"
    }
   }
  },
  {
   "cell_type": "code",
   "execution_count": 42,
   "outputs": [],
   "source": [
    "X = df.drop('Time_taken(min)', axis=1)\n",
    "Y = df['Time_taken(min)']\n",
    "\n",
    "xtrain, xtest, ytrain, ytest = train_test_split(X,Y, test_size= 0.25)"
   ],
   "metadata": {
    "collapsed": false,
    "pycharm": {
     "name": "#%%\n"
    }
   }
  },
  {
   "cell_type": "markdown",
   "source": [
    "# Linear Classifiers\n",
    "- Lasso\n",
    "- Ridge\n",
    "- Polynomial"
   ],
   "metadata": {
    "collapsed": false,
    "pycharm": {
     "name": "#%% md\n"
    }
   }
  },
  {
   "cell_type": "code",
   "execution_count": 43,
   "outputs": [],
   "source": [
    "from sklearn.linear_model import LinearRegression, RidgeCV, LassoCV\n",
    "from sklearn.metrics import mean_squared_error\n",
    "from sklearn.preprocessing import PolynomialFeatures"
   ],
   "metadata": {
    "collapsed": false,
    "pycharm": {
     "name": "#%%\n"
    }
   }
  },
  {
   "cell_type": "markdown",
   "source": [
    "## Polynomial"
   ],
   "metadata": {
    "collapsed": false,
    "pycharm": {
     "name": "#%% md\n"
    }
   }
  },
  {
   "cell_type": "code",
   "execution_count": 44,
   "outputs": [],
   "source": [
    "linreg = make_pipeline(FunctionTransformer(pd.get_dummies, kw_args={'drop_first':True}), LinearRegression()).fit(xtrain, ytrain)"
   ],
   "metadata": {
    "collapsed": false,
    "pycharm": {
     "name": "#%%\n"
    }
   }
  },
  {
   "cell_type": "code",
   "execution_count": 45,
   "outputs": [
    {
     "data": {
      "text/plain": "37.15453154836071"
     },
     "execution_count": 45,
     "metadata": {},
     "output_type": "execute_result"
    }
   ],
   "source": [
    "mean_squared_error(linreg.predict(xtest), ytest)"
   ],
   "metadata": {
    "collapsed": false,
    "pycharm": {
     "name": "#%%\n"
    }
   }
  },
  {
   "cell_type": "markdown",
   "source": [
    "## Lasso"
   ],
   "metadata": {
    "collapsed": false,
    "pycharm": {
     "name": "#%% md\n"
    }
   }
  },
  {
   "cell_type": "code",
   "execution_count": 46,
   "outputs": [
    {
     "name": "stderr",
     "output_type": "stream",
     "text": [
      "/Users/ehniv/opt/anaconda3/lib/python3.9/site-packages/sklearn/linear_model/_ridge.py:157: LinAlgWarning: Ill-conditioned matrix (rcond=4.46807e-17): result may not be accurate.\n",
      "  return linalg.solve(A, Xy, sym_pos=True, overwrite_a=True).T\n",
      "/Users/ehniv/opt/anaconda3/lib/python3.9/site-packages/sklearn/linear_model/_ridge.py:157: LinAlgWarning: Ill-conditioned matrix (rcond=4.32268e-17): result may not be accurate.\n",
      "  return linalg.solve(A, Xy, sym_pos=True, overwrite_a=True).T\n",
      "/Users/ehniv/opt/anaconda3/lib/python3.9/site-packages/sklearn/linear_model/_ridge.py:157: LinAlgWarning: Ill-conditioned matrix (rcond=4.18803e-17): result may not be accurate.\n",
      "  return linalg.solve(A, Xy, sym_pos=True, overwrite_a=True).T\n",
      "/Users/ehniv/opt/anaconda3/lib/python3.9/site-packages/sklearn/linear_model/_ridge.py:157: LinAlgWarning: Ill-conditioned matrix (rcond=4.52658e-17): result may not be accurate.\n",
      "  return linalg.solve(A, Xy, sym_pos=True, overwrite_a=True).T\n",
      "/Users/ehniv/opt/anaconda3/lib/python3.9/site-packages/sklearn/linear_model/_ridge.py:157: LinAlgWarning: Ill-conditioned matrix (rcond=4.53134e-17): result may not be accurate.\n",
      "  return linalg.solve(A, Xy, sym_pos=True, overwrite_a=True).T\n",
      "/Users/ehniv/opt/anaconda3/lib/python3.9/site-packages/sklearn/linear_model/_ridge.py:157: LinAlgWarning: Ill-conditioned matrix (rcond=3.52258e-17): result may not be accurate.\n",
      "  return linalg.solve(A, Xy, sym_pos=True, overwrite_a=True).T\n"
     ]
    }
   ],
   "source": [
    "alpha = [0.1, 0.3, 0.5, 0.75, 1, 3, 5, 10]\n",
    "ridgecv = make_pipeline(FunctionTransformer(pd.get_dummies, kw_args={'drop_first':True}), RidgeCV(alphas=alpha, cv=5)).fit(xtrain,ytrain)"
   ],
   "metadata": {
    "collapsed": false,
    "pycharm": {
     "name": "#%%\n"
    }
   }
  },
  {
   "cell_type": "code",
   "execution_count": 47,
   "outputs": [
    {
     "data": {
      "text/plain": "37.15452078052192"
     },
     "execution_count": 47,
     "metadata": {},
     "output_type": "execute_result"
    }
   ],
   "source": [
    "# get cross validation results for ridge regression\n",
    "mean_squared_error(ridgecv.predict(xtest), ytest)"
   ],
   "metadata": {
    "collapsed": false,
    "pycharm": {
     "name": "#%%\n"
    }
   }
  },
  {
   "cell_type": "markdown",
   "source": [
    "## Lasso Regression"
   ],
   "metadata": {
    "collapsed": false,
    "pycharm": {
     "name": "#%% md\n"
    }
   }
  },
  {
   "cell_type": "code",
   "execution_count": 48,
   "outputs": [],
   "source": [
    "alpha = [0.1, 0.3, 0.5, 0.75, 1, 3, 5, 10]\n",
    "lassocv = make_pipeline(FunctionTransformer(pd.get_dummies, kw_args={'drop_first':True}), LassoCV(alphas=alpha, cv=5)).fit(xtrain,ytrain)"
   ],
   "metadata": {
    "collapsed": false,
    "pycharm": {
     "name": "#%%\n"
    }
   }
  },
  {
   "cell_type": "code",
   "execution_count": 49,
   "outputs": [
    {
     "data": {
      "text/plain": "39.04620848476174"
     },
     "execution_count": 49,
     "metadata": {},
     "output_type": "execute_result"
    }
   ],
   "source": [
    "# get cross validation results for lasso regression\n",
    "mean_squared_error(lassocv.predict(xtest), ytest)"
   ],
   "metadata": {
    "collapsed": false,
    "pycharm": {
     "name": "#%%\n"
    }
   }
  },
  {
   "cell_type": "markdown",
   "source": [
    "# Random Forest"
   ],
   "metadata": {
    "collapsed": false,
    "pycharm": {
     "name": "#%% md\n"
    }
   }
  },
  {
   "cell_type": "code",
   "execution_count": 50,
   "outputs": [],
   "source": [
    "from sklearn.ensemble import RandomForestRegressor\n",
    "from sklearn.model_selection import RandomizedSearchCV"
   ],
   "metadata": {
    "collapsed": false,
    "pycharm": {
     "name": "#%%\n"
    }
   }
  },
  {
   "cell_type": "code",
   "execution_count": 51,
   "outputs": [],
   "source": [
    "# Grid Search\n",
    "# Number of trees in random forest\n",
    "n_estimators = [int(x) for x in np.linspace(start = 320, stop = 380, num = 20)]\n",
    "# Number of features to consider at every split\n",
    "max_features = ['auto', 'sqrt', 'log2']\n",
    "# Maximum number of levels in tree\n",
    "max_depth = [int(x) for x in np.linspace(30, 50, num = 10)]\n",
    "max_depth.append(None)\n",
    "# Minimum number of samples required to split a node\n",
    "min_samples_split = [4, 5, 6]\n",
    "# Minimum number of samples required at each leaf node\n",
    "min_samples_leaf = [2, 3, 4, 5]\n",
    "# Method of selecting samples for training each tree\n",
    "bootstrap = [True, False]\n",
    "# Create the random grid\n",
    "random_grid = {'n_estimators': n_estimators,\n",
    "               'max_features': max_features,\n",
    "               'max_depth': max_depth,\n",
    "               'min_samples_split': min_samples_split,\n",
    "               'min_samples_leaf': min_samples_leaf,\n",
    "               'bootstrap': bootstrap}"
   ],
   "metadata": {
    "collapsed": false,
    "pycharm": {
     "name": "#%%\n"
    }
   }
  },
  {
   "cell_type": "code",
   "execution_count": null,
   "outputs": [
    {
     "name": "stdout",
     "output_type": "stream",
     "text": [
      "Fitting 5 folds for each of 10 candidates, totalling 50 fits\n"
     ]
    }
   ],
   "source": [
    "# Use the random grid to search for best hyperparameters\n",
    "# First create the base model to tune\n",
    "rf = RandomForestRegressor()\n",
    "\n",
    "rf_model = make_pipeline(FunctionTransformer(pd.get_dummies, kw_args={'drop_first':True}), RandomizedSearchCV(estimator = rf, param_distributions = random_grid, n_iter = 10, cv = 5, verbose=2, random_state=42, n_jobs = -1)).fit(xtrain, ytrain)"
   ],
   "metadata": {
    "collapsed": false,
    "pycharm": {
     "name": "#%%\n",
     "is_executing": true
    }
   }
  },
  {
   "cell_type": "code",
   "execution_count": null,
   "outputs": [],
   "source": [
    "# hyperparameter tuning\n",
    "rf_model['randomizedsearchcv'].best_params_"
   ],
   "metadata": {
    "collapsed": false,
    "pycharm": {
     "name": "#%%\n",
     "is_executing": true
    }
   }
  },
  {
   "cell_type": "code",
   "execution_count": null,
   "outputs": [],
   "source": [
    "mean_squared_error(ytest, rf_model.predict(xtest))"
   ],
   "metadata": {
    "collapsed": false,
    "pycharm": {
     "name": "#%%\n",
     "is_executing": true
    }
   }
  },
  {
   "cell_type": "markdown",
   "source": [
    "### Feature Importance"
   ],
   "metadata": {
    "collapsed": false,
    "pycharm": {
     "name": "#%% md\n"
    }
   }
  },
  {
   "cell_type": "code",
   "execution_count": null,
   "outputs": [],
   "source": [
    "start_time = time.time()\n",
    "rf_model_tree = rf_model['randomizedsearchcv'].feature_importances_\n",
    "std = np.std([tree.feature_importances_ for tree in rf_model['randomizedsearchcv'].estimators_], axis=0)\n",
    "elapsed_time = time.time() - start_time\n",
    "\n",
    "print(f\"Elapsed time to compute the importances: {elapsed_time:.3f} seconds\")"
   ],
   "metadata": {
    "collapsed": false,
    "pycharm": {
     "name": "#%%\n",
     "is_executing": true
    }
   }
  },
  {
   "cell_type": "code",
   "execution_count": null,
   "outputs": [],
   "source": [
    "forest_importance = pd.Series(rf_model_tree, index=df.columns.values)\n",
    "\n",
    "fig, ax = plt.subplots()\n",
    "forest_importance.plot.bar(yerr=std, ax=ax)\n",
    "ax.set_title(\"Feature importances using MDI\")\n",
    "ax.set_ylabel(\"Mean decrease in impurity\")\n",
    "fig.tight_layout()"
   ],
   "metadata": {
    "collapsed": false,
    "pycharm": {
     "name": "#%%\n",
     "is_executing": true
    }
   }
  },
  {
   "cell_type": "markdown",
   "source": [
    "# KNN Regression"
   ],
   "metadata": {
    "collapsed": false,
    "pycharm": {
     "name": "#%% md\n"
    }
   }
  },
  {
   "cell_type": "code",
   "execution_count": null,
   "outputs": [],
   "source": [
    "from sklearn.neighbors import KNeighborsRegressor\n",
    "from sklearn.preprocessing import Normalizer"
   ],
   "metadata": {
    "collapsed": false,
    "pycharm": {
     "name": "#%%\n",
     "is_executing": true
    }
   }
  },
  {
   "cell_type": "code",
   "execution_count": null,
   "outputs": [],
   "source": [
    "kfold = KFold(n_splits=5, shuffle=True)\n",
    "knn_hyper = {'model__n_neighbors':[21,22,23,24],\n",
    "              'model__weights':['uniform','distance']}\n",
    "\n",
    "knn = Pipeline([('onehot', FunctionTransformer(pd.get_dummies, kw_args={'drop_first':True})),\n",
    "                           ('normalize', Normalizer()),\n",
    "                           ('model', KNeighborsRegressor())\n",
    "                           ])\n",
    "\n",
    "knn_grid = GridSearchCV(estimator=knn, param_grid=knn_hyper, cv=kfold, scoring='neg_mean_squared_error')\n",
    "knn_grid.fit(xtrain,ytrain)"
   ],
   "metadata": {
    "collapsed": false,
    "pycharm": {
     "name": "#%%\n",
     "is_executing": true
    }
   }
  },
  {
   "cell_type": "code",
   "execution_count": null,
   "outputs": [],
   "source": [
    "knn_grid.best_estimator_"
   ],
   "metadata": {
    "collapsed": false,
    "pycharm": {
     "name": "#%%\n",
     "is_executing": true
    }
   }
  },
  {
   "cell_type": "code",
   "execution_count": null,
   "outputs": [],
   "source": [
    "mean_squared_error(ytest, knn_grid.predict(xtest))"
   ],
   "metadata": {
    "collapsed": false,
    "pycharm": {
     "name": "#%%\n",
     "is_executing": true
    }
   }
  }
 ],
 "metadata": {
  "kernelspec": {
   "display_name": "Python 3",
   "language": "python",
   "name": "python3"
  },
  "language_info": {
   "codemirror_mode": {
    "name": "ipython",
    "version": 2
   },
   "file_extension": ".py",
   "mimetype": "text/x-python",
   "name": "python",
   "nbconvert_exporter": "python",
   "pygments_lexer": "ipython2",
   "version": "2.7.6"
  }
 },
 "nbformat": 4,
 "nbformat_minor": 0
}