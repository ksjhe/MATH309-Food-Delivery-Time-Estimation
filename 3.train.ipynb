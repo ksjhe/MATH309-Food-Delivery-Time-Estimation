{
 "cells": [
  {
   "cell_type": "code",
   "execution_count": 32,
   "metadata": {
    "collapsed": true,
    "pycharm": {
     "name": "#%%\n"
    }
   },
   "outputs": [],
   "source": [
    "import numpy as np\n",
    "import pandas as pd"
   ]
  },
  {
   "cell_type": "code",
   "execution_count": 33,
   "outputs": [
    {
     "data": {
      "text/plain": "       Delivery_person_Age  Delivery_person_Ratings  Vehicle_condition  \\\n0                     37.0                      4.9                2.0   \n1                     34.0                      4.5                2.0   \n2                     23.0                      4.4                0.0   \n3                     38.0                      4.7                0.0   \n4                     32.0                      4.6                1.0   \n...                    ...                      ...                ...   \n41363                 30.0                      4.8                1.0   \n41364                 21.0                      4.6                0.0   \n41365                 30.0                      4.9                1.0   \n41366                 20.0                      4.7                0.0   \n41367                 23.0                      4.9                2.0   \n\n       multiple_deliveries  Time_taken(min)  Order_Pickup_Time  \\\n0                      0.0               24               15.0   \n1                      1.0               33                5.0   \n2                      1.0               26               15.0   \n3                      1.0               21               10.0   \n4                      1.0               30               15.0   \n...                    ...              ...                ...   \n41363                  0.0               32               10.0   \n41364                  1.0               36               15.0   \n41365                  0.0               16               15.0   \n41366                  1.0               26                5.0   \n41367                  1.0               36                5.0   \n\n       Delivery_Distance (m)  Ordered_month  Ordered_year  \\\n0                3025.149286              3          2022   \n1               20183.529729              3          2022   \n2                1552.757802              3          2022   \n3                7790.401360              4          2022   \n4                6210.137966              3          2022   \n...                      ...            ...           ...   \n41363            1489.845884              3          2022   \n41364           11007.734764              2          2022   \n41365            4657.195394              3          2022   \n41366            6232.393050              3          2022   \n41367           12074.395526              3          2022   \n\n       Ordered_time (mins)  ...  Road_traffic_density_Low   \\\n0                      690  ...                          0   \n1                     1185  ...                          0   \n2                      510  ...                          1   \n3                     1080  ...                          0   \n4                      810  ...                          0   \n...                    ...  ...                        ...   \n41363                  695  ...                          0   \n41364                 1195  ...                          0   \n41365                 1430  ...                          1   \n41366                  815  ...                          0   \n41367                 1030  ...                          0   \n\n       Road_traffic_density_Medium   Type_of_order_Drinks   \\\n0                                 0                      0   \n1                                 0                      0   \n2                                 0                      1   \n3                                 1                      0   \n4                                 0                      0   \n...                             ...                    ...   \n41363                             0                      0   \n41364                             0                      0   \n41365                             0                      1   \n41366                             0                      0   \n41367                             1                      0   \n\n       Type_of_order_Meal   Type_of_order_Snack   Type_of_vehicle_motorcycle   \\\n0                        0                     1                            1   \n1                        0                     1                            0   \n2                        0                     0                            1   \n3                        0                     0                            1   \n4                        0                     1                            0   \n...                    ...                   ...                          ...   \n41363                    1                     0                            1   \n41364                    0                     0                            1   \n41365                    0                     0                            0   \n41366                    0                     1                            1   \n41367                    0                     1                            0   \n\n       Type_of_vehicle_scooter   Festival_Yes   City_Semi-Urban   City_Urban   \n0                             0              0                 0            1  \n1                             1              0                 0            0  \n2                             0              0                 0            1  \n3                             0              0                 0            0  \n4                             1              0                 0            0  \n...                         ...            ...               ...          ...  \n41363                         0              0                 0            0  \n41364                         0              0                 0            0  \n41365                         1              0                 0            0  \n41366                         0              0                 0            0  \n41367                         1              0                 0            0  \n\n[41368 rows x 26 columns]",
      "text/html": "<div>\n<style scoped>\n    .dataframe tbody tr th:only-of-type {\n        vertical-align: middle;\n    }\n\n    .dataframe tbody tr th {\n        vertical-align: top;\n    }\n\n    .dataframe thead th {\n        text-align: right;\n    }\n</style>\n<table border=\"1\" class=\"dataframe\">\n  <thead>\n    <tr style=\"text-align: right;\">\n      <th></th>\n      <th>Delivery_person_Age</th>\n      <th>Delivery_person_Ratings</th>\n      <th>Vehicle_condition</th>\n      <th>multiple_deliveries</th>\n      <th>Time_taken(min)</th>\n      <th>Order_Pickup_Time</th>\n      <th>Delivery_Distance (m)</th>\n      <th>Ordered_month</th>\n      <th>Ordered_year</th>\n      <th>Ordered_time (mins)</th>\n      <th>...</th>\n      <th>Road_traffic_density_Low</th>\n      <th>Road_traffic_density_Medium</th>\n      <th>Type_of_order_Drinks</th>\n      <th>Type_of_order_Meal</th>\n      <th>Type_of_order_Snack</th>\n      <th>Type_of_vehicle_motorcycle</th>\n      <th>Type_of_vehicle_scooter</th>\n      <th>Festival_Yes</th>\n      <th>City_Semi-Urban</th>\n      <th>City_Urban</th>\n    </tr>\n  </thead>\n  <tbody>\n    <tr>\n      <th>0</th>\n      <td>37.0</td>\n      <td>4.9</td>\n      <td>2.0</td>\n      <td>0.0</td>\n      <td>24</td>\n      <td>15.0</td>\n      <td>3025.149286</td>\n      <td>3</td>\n      <td>2022</td>\n      <td>690</td>\n      <td>...</td>\n      <td>0</td>\n      <td>0</td>\n      <td>0</td>\n      <td>0</td>\n      <td>1</td>\n      <td>1</td>\n      <td>0</td>\n      <td>0</td>\n      <td>0</td>\n      <td>1</td>\n    </tr>\n    <tr>\n      <th>1</th>\n      <td>34.0</td>\n      <td>4.5</td>\n      <td>2.0</td>\n      <td>1.0</td>\n      <td>33</td>\n      <td>5.0</td>\n      <td>20183.529729</td>\n      <td>3</td>\n      <td>2022</td>\n      <td>1185</td>\n      <td>...</td>\n      <td>0</td>\n      <td>0</td>\n      <td>0</td>\n      <td>0</td>\n      <td>1</td>\n      <td>0</td>\n      <td>1</td>\n      <td>0</td>\n      <td>0</td>\n      <td>0</td>\n    </tr>\n    <tr>\n      <th>2</th>\n      <td>23.0</td>\n      <td>4.4</td>\n      <td>0.0</td>\n      <td>1.0</td>\n      <td>26</td>\n      <td>15.0</td>\n      <td>1552.757802</td>\n      <td>3</td>\n      <td>2022</td>\n      <td>510</td>\n      <td>...</td>\n      <td>1</td>\n      <td>0</td>\n      <td>1</td>\n      <td>0</td>\n      <td>0</td>\n      <td>1</td>\n      <td>0</td>\n      <td>0</td>\n      <td>0</td>\n      <td>1</td>\n    </tr>\n    <tr>\n      <th>3</th>\n      <td>38.0</td>\n      <td>4.7</td>\n      <td>0.0</td>\n      <td>1.0</td>\n      <td>21</td>\n      <td>10.0</td>\n      <td>7790.401360</td>\n      <td>4</td>\n      <td>2022</td>\n      <td>1080</td>\n      <td>...</td>\n      <td>0</td>\n      <td>1</td>\n      <td>0</td>\n      <td>0</td>\n      <td>0</td>\n      <td>1</td>\n      <td>0</td>\n      <td>0</td>\n      <td>0</td>\n      <td>0</td>\n    </tr>\n    <tr>\n      <th>4</th>\n      <td>32.0</td>\n      <td>4.6</td>\n      <td>1.0</td>\n      <td>1.0</td>\n      <td>30</td>\n      <td>15.0</td>\n      <td>6210.137966</td>\n      <td>3</td>\n      <td>2022</td>\n      <td>810</td>\n      <td>...</td>\n      <td>0</td>\n      <td>0</td>\n      <td>0</td>\n      <td>0</td>\n      <td>1</td>\n      <td>0</td>\n      <td>1</td>\n      <td>0</td>\n      <td>0</td>\n      <td>0</td>\n    </tr>\n    <tr>\n      <th>...</th>\n      <td>...</td>\n      <td>...</td>\n      <td>...</td>\n      <td>...</td>\n      <td>...</td>\n      <td>...</td>\n      <td>...</td>\n      <td>...</td>\n      <td>...</td>\n      <td>...</td>\n      <td>...</td>\n      <td>...</td>\n      <td>...</td>\n      <td>...</td>\n      <td>...</td>\n      <td>...</td>\n      <td>...</td>\n      <td>...</td>\n      <td>...</td>\n      <td>...</td>\n      <td>...</td>\n    </tr>\n    <tr>\n      <th>41363</th>\n      <td>30.0</td>\n      <td>4.8</td>\n      <td>1.0</td>\n      <td>0.0</td>\n      <td>32</td>\n      <td>10.0</td>\n      <td>1489.845884</td>\n      <td>3</td>\n      <td>2022</td>\n      <td>695</td>\n      <td>...</td>\n      <td>0</td>\n      <td>0</td>\n      <td>0</td>\n      <td>1</td>\n      <td>0</td>\n      <td>1</td>\n      <td>0</td>\n      <td>0</td>\n      <td>0</td>\n      <td>0</td>\n    </tr>\n    <tr>\n      <th>41364</th>\n      <td>21.0</td>\n      <td>4.6</td>\n      <td>0.0</td>\n      <td>1.0</td>\n      <td>36</td>\n      <td>15.0</td>\n      <td>11007.734764</td>\n      <td>2</td>\n      <td>2022</td>\n      <td>1195</td>\n      <td>...</td>\n      <td>0</td>\n      <td>0</td>\n      <td>0</td>\n      <td>0</td>\n      <td>0</td>\n      <td>1</td>\n      <td>0</td>\n      <td>0</td>\n      <td>0</td>\n      <td>0</td>\n    </tr>\n    <tr>\n      <th>41365</th>\n      <td>30.0</td>\n      <td>4.9</td>\n      <td>1.0</td>\n      <td>0.0</td>\n      <td>16</td>\n      <td>15.0</td>\n      <td>4657.195394</td>\n      <td>3</td>\n      <td>2022</td>\n      <td>1430</td>\n      <td>...</td>\n      <td>1</td>\n      <td>0</td>\n      <td>1</td>\n      <td>0</td>\n      <td>0</td>\n      <td>0</td>\n      <td>1</td>\n      <td>0</td>\n      <td>0</td>\n      <td>0</td>\n    </tr>\n    <tr>\n      <th>41366</th>\n      <td>20.0</td>\n      <td>4.7</td>\n      <td>0.0</td>\n      <td>1.0</td>\n      <td>26</td>\n      <td>5.0</td>\n      <td>6232.393050</td>\n      <td>3</td>\n      <td>2022</td>\n      <td>815</td>\n      <td>...</td>\n      <td>0</td>\n      <td>0</td>\n      <td>0</td>\n      <td>0</td>\n      <td>1</td>\n      <td>1</td>\n      <td>0</td>\n      <td>0</td>\n      <td>0</td>\n      <td>0</td>\n    </tr>\n    <tr>\n      <th>41367</th>\n      <td>23.0</td>\n      <td>4.9</td>\n      <td>2.0</td>\n      <td>1.0</td>\n      <td>36</td>\n      <td>5.0</td>\n      <td>12074.395526</td>\n      <td>3</td>\n      <td>2022</td>\n      <td>1030</td>\n      <td>...</td>\n      <td>0</td>\n      <td>1</td>\n      <td>0</td>\n      <td>0</td>\n      <td>1</td>\n      <td>0</td>\n      <td>1</td>\n      <td>0</td>\n      <td>0</td>\n      <td>0</td>\n    </tr>\n  </tbody>\n</table>\n<p>41368 rows × 26 columns</p>\n</div>"
     },
     "execution_count": 33,
     "metadata": {},
     "output_type": "execute_result"
    }
   ],
   "source": [
    "train = pd.read_csv('data/train_engineered.csv')\n",
    "train"
   ],
   "metadata": {
    "collapsed": false,
    "pycharm": {
     "name": "#%%\n"
    }
   }
  },
  {
   "cell_type": "markdown",
   "source": [],
   "metadata": {
    "collapsed": false,
    "pycharm": {
     "name": "#%% md\n"
    }
   }
  },
  {
   "cell_type": "markdown",
   "source": [
    "# Train/Valid/Test Split"
   ],
   "metadata": {
    "collapsed": false,
    "pycharm": {
     "name": "#%% md\n"
    }
   }
  },
  {
   "cell_type": "code",
   "execution_count": 34,
   "outputs": [],
   "source": [
    "X = train.drop('Time_taken(min)', axis=1)\n",
    "Y = train['Time_taken(min)']"
   ],
   "metadata": {
    "collapsed": false,
    "pycharm": {
     "name": "#%%\n"
    }
   }
  },
  {
   "cell_type": "markdown",
   "source": [
    "# Linear Classifiers\n",
    "## l1 Regularization"
   ],
   "metadata": {
    "collapsed": false,
    "pycharm": {
     "name": "#%% md\n"
    }
   }
  },
  {
   "cell_type": "code",
   "execution_count": 35,
   "outputs": [],
   "source": [
    "from sklearn.linear_model import LinearRegression, RidgeCV, LassoCV"
   ],
   "metadata": {
    "collapsed": false,
    "pycharm": {
     "name": "#%%\n"
    }
   }
  },
  {
   "cell_type": "code",
   "execution_count": 41,
   "outputs": [
    {
     "name": "stderr",
     "output_type": "stream",
     "text": [
      "/Users/ehniv/opt/anaconda3/lib/python3.9/site-packages/sklearn/linear_model/_ridge.py:157: LinAlgWarning: Ill-conditioned matrix (rcond=8.90837e-17): result may not be accurate.\n",
      "  return linalg.solve(A, Xy, sym_pos=True, overwrite_a=True).T\n",
      "/Users/ehniv/opt/anaconda3/lib/python3.9/site-packages/sklearn/linear_model/_ridge.py:157: LinAlgWarning: Ill-conditioned matrix (rcond=8.04808e-17): result may not be accurate.\n",
      "  return linalg.solve(A, Xy, sym_pos=True, overwrite_a=True).T\n",
      "/Users/ehniv/opt/anaconda3/lib/python3.9/site-packages/sklearn/linear_model/_ridge.py:157: LinAlgWarning: Ill-conditioned matrix (rcond=8.82008e-17): result may not be accurate.\n",
      "  return linalg.solve(A, Xy, sym_pos=True, overwrite_a=True).T\n",
      "/Users/ehniv/opt/anaconda3/lib/python3.9/site-packages/sklearn/linear_model/_ridge.py:157: LinAlgWarning: Ill-conditioned matrix (rcond=8.38436e-17): result may not be accurate.\n",
      "  return linalg.solve(A, Xy, sym_pos=True, overwrite_a=True).T\n",
      "/Users/ehniv/opt/anaconda3/lib/python3.9/site-packages/sklearn/linear_model/_ridge.py:157: LinAlgWarning: Ill-conditioned matrix (rcond=8.21629e-17): result may not be accurate.\n",
      "  return linalg.solve(A, Xy, sym_pos=True, overwrite_a=True).T\n"
     ]
    }
   ],
   "source": [
    "alpha = [0.25, 0.5, 0.75,1]\n",
    "# maybe also normalize the data\n",
    "ridgecv = RidgeCV(alphas=alpha, cv=5).fit(X,Y)"
   ],
   "metadata": {
    "collapsed": false,
    "pycharm": {
     "name": "#%%\n"
    }
   }
  },
  {
   "cell_type": "code",
   "execution_count": 42,
   "outputs": [
    {
     "data": {
      "text/plain": "(0.5719675787668096,\n 0.5,\n array([ 3.72873745e-01, -7.80364104e+00, -2.14829146e+00,  3.13010728e+00,\n        -2.54428476e-03, -3.77622621e-08, -1.05422203e-01,  0.00000000e+00,\n         2.25444980e-03,  3.59363768e-02, -2.83115777e+00, -2.80753796e+00,\n        -6.15298546e+00, -2.70300081e+00,  1.84189834e+00, -5.80797658e+00,\n        -8.95184972e-01, -7.81100002e-02,  3.89719716e-02,  4.02619167e-02,\n        -4.20598363e-01, -8.84757932e-01,  1.00868306e+01,  1.03167318e+01,\n        -2.02360910e+00]))"
     },
     "execution_count": 42,
     "metadata": {},
     "output_type": "execute_result"
    }
   ],
   "source": [
    "ridgecv.score(X,Y), ridgecv.alpha_, ridgecv.coef_"
   ],
   "metadata": {
    "collapsed": false,
    "pycharm": {
     "name": "#%%\n"
    }
   }
  }
 ],
 "metadata": {
  "kernelspec": {
   "display_name": "Python 3",
   "language": "python",
   "name": "python3"
  },
  "language_info": {
   "codemirror_mode": {
    "name": "ipython",
    "version": 2
   },
   "file_extension": ".py",
   "mimetype": "text/x-python",
   "name": "python",
   "nbconvert_exporter": "python",
   "pygments_lexer": "ipython2",
   "version": "2.7.6"
  }
 },
 "nbformat": 4,
 "nbformat_minor": 0
}