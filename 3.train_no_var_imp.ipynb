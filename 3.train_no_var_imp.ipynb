{
 "cells": [
  {
   "cell_type": "code",
   "execution_count": 18,
   "metadata": {
    "collapsed": true,
    "pycharm": {
     "name": "#%%\n"
    }
   },
   "outputs": [],
   "source": [
    "import numpy as np\n",
    "import pandas as pd\n",
    "import time\n",
    "import matplotlib.pyplot as plt\n",
    "from pprint import pprint\n",
    "from sklearn.pipeline import make_pipeline, Pipeline\n",
    "from sklearn.preprocessing import FunctionTransformer, Normalizer\n",
    "from sklearn.model_selection import GridSearchCV, KFold"
   ]
  },
  {
   "cell_type": "code",
   "execution_count": 19,
   "outputs": [
    {
     "data": {
      "text/plain": "       Delivery_person_Age  Delivery_person_Ratings Weatherconditions  \\\n0                     37.0                      4.9             Sunny   \n1                     34.0                      4.5            Stormy   \n2                     23.0                      4.4        Sandstorms   \n3                     38.0                      4.7             Sunny   \n4                     32.0                      4.6            Cloudy   \n...                    ...                      ...               ...   \n41363                 30.0                      4.8             Windy   \n41364                 21.0                      4.6             Windy   \n41365                 30.0                      4.9            Cloudy   \n41366                 20.0                      4.7            Cloudy   \n41367                 23.0                      4.9               Fog   \n\n      Road_traffic_density  Vehicle_condition Type_of_order Type_of_vehicle  \\\n0                    High                 2.0        Snack      motorcycle    \n1                     Jam                 2.0        Snack         scooter    \n2                     Low                 0.0       Drinks      motorcycle    \n3                  Medium                 0.0       Buffet      motorcycle    \n4                    High                 1.0        Snack         scooter    \n...                    ...                ...           ...             ...   \n41363                High                 1.0         Meal      motorcycle    \n41364                 Jam                 0.0       Buffet      motorcycle    \n41365                 Low                 1.0       Drinks         scooter    \n41366                High                 0.0        Snack      motorcycle    \n41367              Medium                 2.0        Snack         scooter    \n\n       multiple_deliveries Festival            City  Time_taken(min)  \\\n0                      0.0      No           Urban                24   \n1                      1.0      No   Metropolitian                33   \n2                      1.0      No           Urban                26   \n3                      1.0      No   Metropolitian                21   \n4                      1.0      No   Metropolitian                30   \n...                    ...      ...             ...              ...   \n41363                  0.0      No   Metropolitian                32   \n41364                  1.0      No   Metropolitian                36   \n41365                  0.0      No   Metropolitian                16   \n41366                  1.0      No   Metropolitian                26   \n41367                  1.0      No   Metropolitian                36   \n\n       Order_Pickup_Time  Delivery_Distance (m)  Ordered_month  Ordered_year  \\\n0                   15.0            3025.149286              3          2022   \n1                    5.0           20183.529729              3          2022   \n2                   15.0            1552.757802              3          2022   \n3                   10.0            7790.401360              4          2022   \n4                   15.0            6210.137966              3          2022   \n...                  ...                    ...            ...           ...   \n41363               10.0            1489.845884              3          2022   \n41364               15.0           11007.734764              2          2022   \n41365               15.0            4657.195394              3          2022   \n41366                5.0            6232.393050              3          2022   \n41367                5.0           12074.395526              3          2022   \n\n       Ordered_time (mins)  \n0                      690  \n1                     1185  \n2                      510  \n3                     1080  \n4                      810  \n...                    ...  \n41363                  695  \n41364                 1195  \n41365                 1430  \n41366                  815  \n41367                 1030  \n\n[41368 rows x 16 columns]",
      "text/html": "<div>\n<style scoped>\n    .dataframe tbody tr th:only-of-type {\n        vertical-align: middle;\n    }\n\n    .dataframe tbody tr th {\n        vertical-align: top;\n    }\n\n    .dataframe thead th {\n        text-align: right;\n    }\n</style>\n<table border=\"1\" class=\"dataframe\">\n  <thead>\n    <tr style=\"text-align: right;\">\n      <th></th>\n      <th>Delivery_person_Age</th>\n      <th>Delivery_person_Ratings</th>\n      <th>Weatherconditions</th>\n      <th>Road_traffic_density</th>\n      <th>Vehicle_condition</th>\n      <th>Type_of_order</th>\n      <th>Type_of_vehicle</th>\n      <th>multiple_deliveries</th>\n      <th>Festival</th>\n      <th>City</th>\n      <th>Time_taken(min)</th>\n      <th>Order_Pickup_Time</th>\n      <th>Delivery_Distance (m)</th>\n      <th>Ordered_month</th>\n      <th>Ordered_year</th>\n      <th>Ordered_time (mins)</th>\n    </tr>\n  </thead>\n  <tbody>\n    <tr>\n      <th>0</th>\n      <td>37.0</td>\n      <td>4.9</td>\n      <td>Sunny</td>\n      <td>High</td>\n      <td>2.0</td>\n      <td>Snack</td>\n      <td>motorcycle</td>\n      <td>0.0</td>\n      <td>No</td>\n      <td>Urban</td>\n      <td>24</td>\n      <td>15.0</td>\n      <td>3025.149286</td>\n      <td>3</td>\n      <td>2022</td>\n      <td>690</td>\n    </tr>\n    <tr>\n      <th>1</th>\n      <td>34.0</td>\n      <td>4.5</td>\n      <td>Stormy</td>\n      <td>Jam</td>\n      <td>2.0</td>\n      <td>Snack</td>\n      <td>scooter</td>\n      <td>1.0</td>\n      <td>No</td>\n      <td>Metropolitian</td>\n      <td>33</td>\n      <td>5.0</td>\n      <td>20183.529729</td>\n      <td>3</td>\n      <td>2022</td>\n      <td>1185</td>\n    </tr>\n    <tr>\n      <th>2</th>\n      <td>23.0</td>\n      <td>4.4</td>\n      <td>Sandstorms</td>\n      <td>Low</td>\n      <td>0.0</td>\n      <td>Drinks</td>\n      <td>motorcycle</td>\n      <td>1.0</td>\n      <td>No</td>\n      <td>Urban</td>\n      <td>26</td>\n      <td>15.0</td>\n      <td>1552.757802</td>\n      <td>3</td>\n      <td>2022</td>\n      <td>510</td>\n    </tr>\n    <tr>\n      <th>3</th>\n      <td>38.0</td>\n      <td>4.7</td>\n      <td>Sunny</td>\n      <td>Medium</td>\n      <td>0.0</td>\n      <td>Buffet</td>\n      <td>motorcycle</td>\n      <td>1.0</td>\n      <td>No</td>\n      <td>Metropolitian</td>\n      <td>21</td>\n      <td>10.0</td>\n      <td>7790.401360</td>\n      <td>4</td>\n      <td>2022</td>\n      <td>1080</td>\n    </tr>\n    <tr>\n      <th>4</th>\n      <td>32.0</td>\n      <td>4.6</td>\n      <td>Cloudy</td>\n      <td>High</td>\n      <td>1.0</td>\n      <td>Snack</td>\n      <td>scooter</td>\n      <td>1.0</td>\n      <td>No</td>\n      <td>Metropolitian</td>\n      <td>30</td>\n      <td>15.0</td>\n      <td>6210.137966</td>\n      <td>3</td>\n      <td>2022</td>\n      <td>810</td>\n    </tr>\n    <tr>\n      <th>...</th>\n      <td>...</td>\n      <td>...</td>\n      <td>...</td>\n      <td>...</td>\n      <td>...</td>\n      <td>...</td>\n      <td>...</td>\n      <td>...</td>\n      <td>...</td>\n      <td>...</td>\n      <td>...</td>\n      <td>...</td>\n      <td>...</td>\n      <td>...</td>\n      <td>...</td>\n      <td>...</td>\n    </tr>\n    <tr>\n      <th>41363</th>\n      <td>30.0</td>\n      <td>4.8</td>\n      <td>Windy</td>\n      <td>High</td>\n      <td>1.0</td>\n      <td>Meal</td>\n      <td>motorcycle</td>\n      <td>0.0</td>\n      <td>No</td>\n      <td>Metropolitian</td>\n      <td>32</td>\n      <td>10.0</td>\n      <td>1489.845884</td>\n      <td>3</td>\n      <td>2022</td>\n      <td>695</td>\n    </tr>\n    <tr>\n      <th>41364</th>\n      <td>21.0</td>\n      <td>4.6</td>\n      <td>Windy</td>\n      <td>Jam</td>\n      <td>0.0</td>\n      <td>Buffet</td>\n      <td>motorcycle</td>\n      <td>1.0</td>\n      <td>No</td>\n      <td>Metropolitian</td>\n      <td>36</td>\n      <td>15.0</td>\n      <td>11007.734764</td>\n      <td>2</td>\n      <td>2022</td>\n      <td>1195</td>\n    </tr>\n    <tr>\n      <th>41365</th>\n      <td>30.0</td>\n      <td>4.9</td>\n      <td>Cloudy</td>\n      <td>Low</td>\n      <td>1.0</td>\n      <td>Drinks</td>\n      <td>scooter</td>\n      <td>0.0</td>\n      <td>No</td>\n      <td>Metropolitian</td>\n      <td>16</td>\n      <td>15.0</td>\n      <td>4657.195394</td>\n      <td>3</td>\n      <td>2022</td>\n      <td>1430</td>\n    </tr>\n    <tr>\n      <th>41366</th>\n      <td>20.0</td>\n      <td>4.7</td>\n      <td>Cloudy</td>\n      <td>High</td>\n      <td>0.0</td>\n      <td>Snack</td>\n      <td>motorcycle</td>\n      <td>1.0</td>\n      <td>No</td>\n      <td>Metropolitian</td>\n      <td>26</td>\n      <td>5.0</td>\n      <td>6232.393050</td>\n      <td>3</td>\n      <td>2022</td>\n      <td>815</td>\n    </tr>\n    <tr>\n      <th>41367</th>\n      <td>23.0</td>\n      <td>4.9</td>\n      <td>Fog</td>\n      <td>Medium</td>\n      <td>2.0</td>\n      <td>Snack</td>\n      <td>scooter</td>\n      <td>1.0</td>\n      <td>No</td>\n      <td>Metropolitian</td>\n      <td>36</td>\n      <td>5.0</td>\n      <td>12074.395526</td>\n      <td>3</td>\n      <td>2022</td>\n      <td>1030</td>\n    </tr>\n  </tbody>\n</table>\n<p>41368 rows × 16 columns</p>\n</div>"
     },
     "execution_count": 19,
     "metadata": {},
     "output_type": "execute_result"
    }
   ],
   "source": [
    "df = pd.read_csv('data/train_engineered.csv')\n",
    "df"
   ],
   "metadata": {
    "collapsed": false,
    "pycharm": {
     "name": "#%%\n"
    }
   }
  },
  {
   "cell_type": "markdown",
   "source": [],
   "metadata": {
    "collapsed": false,
    "pycharm": {
     "name": "#%% md\n"
    }
   }
  },
  {
   "cell_type": "code",
   "execution_count": 20,
   "outputs": [
    {
     "data": {
      "text/plain": "       Delivery_person_Age  Delivery_person_Ratings  Vehicle_condition  \\\n0                     37.0                      4.9                2.0   \n1                     34.0                      4.5                2.0   \n2                     23.0                      4.4                0.0   \n3                     38.0                      4.7                0.0   \n4                     32.0                      4.6                1.0   \n...                    ...                      ...                ...   \n41363                 30.0                      4.8                1.0   \n41364                 21.0                      4.6                0.0   \n41365                 30.0                      4.9                1.0   \n41366                 20.0                      4.7                0.0   \n41367                 23.0                      4.9                2.0   \n\n       multiple_deliveries  Time_taken(min)  Order_Pickup_Time  \\\n0                      0.0               24               15.0   \n1                      1.0               33                5.0   \n2                      1.0               26               15.0   \n3                      1.0               21               10.0   \n4                      1.0               30               15.0   \n...                    ...              ...                ...   \n41363                  0.0               32               10.0   \n41364                  1.0               36               15.0   \n41365                  0.0               16               15.0   \n41366                  1.0               26                5.0   \n41367                  1.0               36                5.0   \n\n       Delivery_Distance (m)  Ordered_month  Ordered_year  \\\n0                3025.149286              3          2022   \n1               20183.529729              3          2022   \n2                1552.757802              3          2022   \n3                7790.401360              4          2022   \n4                6210.137966              3          2022   \n...                      ...            ...           ...   \n41363            1489.845884              3          2022   \n41364           11007.734764              2          2022   \n41365            4657.195394              3          2022   \n41366            6232.393050              3          2022   \n41367           12074.395526              3          2022   \n\n       Ordered_time (mins)  ...  Road_traffic_density_Low   \\\n0                      690  ...                          0   \n1                     1185  ...                          0   \n2                      510  ...                          1   \n3                     1080  ...                          0   \n4                      810  ...                          0   \n...                    ...  ...                        ...   \n41363                  695  ...                          0   \n41364                 1195  ...                          0   \n41365                 1430  ...                          1   \n41366                  815  ...                          0   \n41367                 1030  ...                          0   \n\n       Road_traffic_density_Medium   Type_of_order_Drinks   \\\n0                                 0                      0   \n1                                 0                      0   \n2                                 0                      1   \n3                                 1                      0   \n4                                 0                      0   \n...                             ...                    ...   \n41363                             0                      0   \n41364                             0                      0   \n41365                             0                      1   \n41366                             0                      0   \n41367                             1                      0   \n\n       Type_of_order_Meal   Type_of_order_Snack   Type_of_vehicle_motorcycle   \\\n0                        0                     1                            1   \n1                        0                     1                            0   \n2                        0                     0                            1   \n3                        0                     0                            1   \n4                        0                     1                            0   \n...                    ...                   ...                          ...   \n41363                    1                     0                            1   \n41364                    0                     0                            1   \n41365                    0                     0                            0   \n41366                    0                     1                            1   \n41367                    0                     1                            0   \n\n       Type_of_vehicle_scooter   Festival_Yes   City_Semi-Urban   City_Urban   \n0                             0              0                 0            1  \n1                             1              0                 0            0  \n2                             0              0                 0            1  \n3                             0              0                 0            0  \n4                             1              0                 0            0  \n...                         ...            ...               ...          ...  \n41363                         0              0                 0            0  \n41364                         0              0                 0            0  \n41365                         1              0                 0            0  \n41366                         0              0                 0            0  \n41367                         1              0                 0            0  \n\n[41368 rows x 26 columns]",
      "text/html": "<div>\n<style scoped>\n    .dataframe tbody tr th:only-of-type {\n        vertical-align: middle;\n    }\n\n    .dataframe tbody tr th {\n        vertical-align: top;\n    }\n\n    .dataframe thead th {\n        text-align: right;\n    }\n</style>\n<table border=\"1\" class=\"dataframe\">\n  <thead>\n    <tr style=\"text-align: right;\">\n      <th></th>\n      <th>Delivery_person_Age</th>\n      <th>Delivery_person_Ratings</th>\n      <th>Vehicle_condition</th>\n      <th>multiple_deliveries</th>\n      <th>Time_taken(min)</th>\n      <th>Order_Pickup_Time</th>\n      <th>Delivery_Distance (m)</th>\n      <th>Ordered_month</th>\n      <th>Ordered_year</th>\n      <th>Ordered_time (mins)</th>\n      <th>...</th>\n      <th>Road_traffic_density_Low</th>\n      <th>Road_traffic_density_Medium</th>\n      <th>Type_of_order_Drinks</th>\n      <th>Type_of_order_Meal</th>\n      <th>Type_of_order_Snack</th>\n      <th>Type_of_vehicle_motorcycle</th>\n      <th>Type_of_vehicle_scooter</th>\n      <th>Festival_Yes</th>\n      <th>City_Semi-Urban</th>\n      <th>City_Urban</th>\n    </tr>\n  </thead>\n  <tbody>\n    <tr>\n      <th>0</th>\n      <td>37.0</td>\n      <td>4.9</td>\n      <td>2.0</td>\n      <td>0.0</td>\n      <td>24</td>\n      <td>15.0</td>\n      <td>3025.149286</td>\n      <td>3</td>\n      <td>2022</td>\n      <td>690</td>\n      <td>...</td>\n      <td>0</td>\n      <td>0</td>\n      <td>0</td>\n      <td>0</td>\n      <td>1</td>\n      <td>1</td>\n      <td>0</td>\n      <td>0</td>\n      <td>0</td>\n      <td>1</td>\n    </tr>\n    <tr>\n      <th>1</th>\n      <td>34.0</td>\n      <td>4.5</td>\n      <td>2.0</td>\n      <td>1.0</td>\n      <td>33</td>\n      <td>5.0</td>\n      <td>20183.529729</td>\n      <td>3</td>\n      <td>2022</td>\n      <td>1185</td>\n      <td>...</td>\n      <td>0</td>\n      <td>0</td>\n      <td>0</td>\n      <td>0</td>\n      <td>1</td>\n      <td>0</td>\n      <td>1</td>\n      <td>0</td>\n      <td>0</td>\n      <td>0</td>\n    </tr>\n    <tr>\n      <th>2</th>\n      <td>23.0</td>\n      <td>4.4</td>\n      <td>0.0</td>\n      <td>1.0</td>\n      <td>26</td>\n      <td>15.0</td>\n      <td>1552.757802</td>\n      <td>3</td>\n      <td>2022</td>\n      <td>510</td>\n      <td>...</td>\n      <td>1</td>\n      <td>0</td>\n      <td>1</td>\n      <td>0</td>\n      <td>0</td>\n      <td>1</td>\n      <td>0</td>\n      <td>0</td>\n      <td>0</td>\n      <td>1</td>\n    </tr>\n    <tr>\n      <th>3</th>\n      <td>38.0</td>\n      <td>4.7</td>\n      <td>0.0</td>\n      <td>1.0</td>\n      <td>21</td>\n      <td>10.0</td>\n      <td>7790.401360</td>\n      <td>4</td>\n      <td>2022</td>\n      <td>1080</td>\n      <td>...</td>\n      <td>0</td>\n      <td>1</td>\n      <td>0</td>\n      <td>0</td>\n      <td>0</td>\n      <td>1</td>\n      <td>0</td>\n      <td>0</td>\n      <td>0</td>\n      <td>0</td>\n    </tr>\n    <tr>\n      <th>4</th>\n      <td>32.0</td>\n      <td>4.6</td>\n      <td>1.0</td>\n      <td>1.0</td>\n      <td>30</td>\n      <td>15.0</td>\n      <td>6210.137966</td>\n      <td>3</td>\n      <td>2022</td>\n      <td>810</td>\n      <td>...</td>\n      <td>0</td>\n      <td>0</td>\n      <td>0</td>\n      <td>0</td>\n      <td>1</td>\n      <td>0</td>\n      <td>1</td>\n      <td>0</td>\n      <td>0</td>\n      <td>0</td>\n    </tr>\n    <tr>\n      <th>...</th>\n      <td>...</td>\n      <td>...</td>\n      <td>...</td>\n      <td>...</td>\n      <td>...</td>\n      <td>...</td>\n      <td>...</td>\n      <td>...</td>\n      <td>...</td>\n      <td>...</td>\n      <td>...</td>\n      <td>...</td>\n      <td>...</td>\n      <td>...</td>\n      <td>...</td>\n      <td>...</td>\n      <td>...</td>\n      <td>...</td>\n      <td>...</td>\n      <td>...</td>\n      <td>...</td>\n    </tr>\n    <tr>\n      <th>41363</th>\n      <td>30.0</td>\n      <td>4.8</td>\n      <td>1.0</td>\n      <td>0.0</td>\n      <td>32</td>\n      <td>10.0</td>\n      <td>1489.845884</td>\n      <td>3</td>\n      <td>2022</td>\n      <td>695</td>\n      <td>...</td>\n      <td>0</td>\n      <td>0</td>\n      <td>0</td>\n      <td>1</td>\n      <td>0</td>\n      <td>1</td>\n      <td>0</td>\n      <td>0</td>\n      <td>0</td>\n      <td>0</td>\n    </tr>\n    <tr>\n      <th>41364</th>\n      <td>21.0</td>\n      <td>4.6</td>\n      <td>0.0</td>\n      <td>1.0</td>\n      <td>36</td>\n      <td>15.0</td>\n      <td>11007.734764</td>\n      <td>2</td>\n      <td>2022</td>\n      <td>1195</td>\n      <td>...</td>\n      <td>0</td>\n      <td>0</td>\n      <td>0</td>\n      <td>0</td>\n      <td>0</td>\n      <td>1</td>\n      <td>0</td>\n      <td>0</td>\n      <td>0</td>\n      <td>0</td>\n    </tr>\n    <tr>\n      <th>41365</th>\n      <td>30.0</td>\n      <td>4.9</td>\n      <td>1.0</td>\n      <td>0.0</td>\n      <td>16</td>\n      <td>15.0</td>\n      <td>4657.195394</td>\n      <td>3</td>\n      <td>2022</td>\n      <td>1430</td>\n      <td>...</td>\n      <td>1</td>\n      <td>0</td>\n      <td>1</td>\n      <td>0</td>\n      <td>0</td>\n      <td>0</td>\n      <td>1</td>\n      <td>0</td>\n      <td>0</td>\n      <td>0</td>\n    </tr>\n    <tr>\n      <th>41366</th>\n      <td>20.0</td>\n      <td>4.7</td>\n      <td>0.0</td>\n      <td>1.0</td>\n      <td>26</td>\n      <td>5.0</td>\n      <td>6232.393050</td>\n      <td>3</td>\n      <td>2022</td>\n      <td>815</td>\n      <td>...</td>\n      <td>0</td>\n      <td>0</td>\n      <td>0</td>\n      <td>0</td>\n      <td>1</td>\n      <td>1</td>\n      <td>0</td>\n      <td>0</td>\n      <td>0</td>\n      <td>0</td>\n    </tr>\n    <tr>\n      <th>41367</th>\n      <td>23.0</td>\n      <td>4.9</td>\n      <td>2.0</td>\n      <td>1.0</td>\n      <td>36</td>\n      <td>5.0</td>\n      <td>12074.395526</td>\n      <td>3</td>\n      <td>2022</td>\n      <td>1030</td>\n      <td>...</td>\n      <td>0</td>\n      <td>1</td>\n      <td>0</td>\n      <td>0</td>\n      <td>1</td>\n      <td>0</td>\n      <td>1</td>\n      <td>0</td>\n      <td>0</td>\n      <td>0</td>\n    </tr>\n  </tbody>\n</table>\n<p>41368 rows × 26 columns</p>\n</div>"
     },
     "execution_count": 20,
     "metadata": {},
     "output_type": "execute_result"
    }
   ],
   "source": [
    "pd.get_dummies(df, drop_first=True)"
   ],
   "metadata": {
    "collapsed": false,
    "pycharm": {
     "name": "#%%\n"
    }
   }
  },
  {
   "cell_type": "markdown",
   "source": [
    "# Train/Valid/Test Split"
   ],
   "metadata": {
    "collapsed": false,
    "pycharm": {
     "name": "#%% md\n"
    }
   }
  },
  {
   "cell_type": "code",
   "execution_count": 21,
   "outputs": [],
   "source": [
    "from sklearn.model_selection import train_test_split, cross_val_score"
   ],
   "metadata": {
    "collapsed": false,
    "pycharm": {
     "name": "#%%\n"
    }
   }
  },
  {
   "cell_type": "code",
   "execution_count": 22,
   "outputs": [],
   "source": [
    "X = df.drop('Time_taken(min)', axis=1)\n",
    "Y = df['Time_taken(min)']\n",
    "\n",
    "xtrain, xtest, ytrain, ytest = train_test_split(X,Y, test_size= 0.2)"
   ],
   "metadata": {
    "collapsed": false,
    "pycharm": {
     "name": "#%%\n"
    }
   }
  },
  {
   "cell_type": "markdown",
   "source": [
    "# Linear Classifiers\n",
    "- Linear\n",
    "- Lasso\n",
    "- Ridge"
   ],
   "metadata": {
    "collapsed": false,
    "pycharm": {
     "name": "#%% md\n"
    }
   }
  },
  {
   "cell_type": "code",
   "execution_count": 23,
   "outputs": [],
   "source": [
    "from sklearn.linear_model import LinearRegression, RidgeCV, LassoCV\n",
    "from sklearn.metrics import mean_squared_error\n",
    "from sklearn.preprocessing import PolynomialFeatures"
   ],
   "metadata": {
    "collapsed": false,
    "pycharm": {
     "name": "#%%\n"
    }
   }
  },
  {
   "cell_type": "markdown",
   "source": [
    "## Linear"
   ],
   "metadata": {
    "collapsed": false,
    "pycharm": {
     "name": "#%% md\n"
    }
   }
  },
  {
   "cell_type": "code",
   "execution_count": 24,
   "outputs": [],
   "source": [
    "linreg = make_pipeline(FunctionTransformer(pd.get_dummies, kw_args={'drop_first':True}), LinearRegression()).fit(xtrain, ytrain)"
   ],
   "metadata": {
    "collapsed": false,
    "pycharm": {
     "name": "#%%\n"
    }
   }
  },
  {
   "cell_type": "code",
   "execution_count": 25,
   "outputs": [
    {
     "data": {
      "text/plain": "38.248990022050485"
     },
     "execution_count": 25,
     "metadata": {},
     "output_type": "execute_result"
    }
   ],
   "source": [
    "mean_squared_error(linreg.predict(xtest), ytest)"
   ],
   "metadata": {
    "collapsed": false,
    "pycharm": {
     "name": "#%%\n"
    }
   }
  },
  {
   "cell_type": "code",
   "execution_count": 26,
   "outputs": [
    {
     "data": {
      "text/plain": "Text(0.5, 1.0, 'Linear Regression Actuals vs Predicted')"
     },
     "execution_count": 26,
     "metadata": {},
     "output_type": "execute_result"
    },
    {
     "data": {
      "text/plain": "<Figure size 432x288 with 1 Axes>",
      "image/png": "[encoded data removed]"
     },
     "metadata": {
      "needs_background": "light"
     },
     "output_type": "display_data"
    }
   ],
   "source": [
    "plt.plot(linreg.predict(xtest), ytest, '*')\n",
    "plt.xlabel('predicted')\n",
    "plt.ylabel('actual')\n",
    "plt.title('Linear Regression Actuals vs Predicted')"
   ],
   "metadata": {
    "collapsed": false,
    "pycharm": {
     "name": "#%%\n"
    }
   }
  },
  {
   "cell_type": "markdown",
   "source": [
    "## Ridge Regression"
   ],
   "metadata": {
    "collapsed": false,
    "pycharm": {
     "name": "#%% md\n"
    }
   }
  },
  {
   "cell_type": "code",
   "execution_count": 27,
   "outputs": [],
   "source": [
    "alpha = [0.00000000000001, 0.000000000001, 0.000001, 0.0000001]\n",
    "ridgecv = make_pipeline(FunctionTransformer(pd.get_dummies, kw_args={'drop_first':True}), Normalizer(), RidgeCV(alphas=alpha, cv=5)).fit(xtrain,ytrain)"
   ],
   "metadata": {
    "collapsed": false,
    "pycharm": {
     "name": "#%%\n"
    }
   }
  },
  {
   "cell_type": "code",
   "execution_count": 28,
   "outputs": [
    {
     "data": {
      "text/plain": "1e-07"
     },
     "execution_count": 28,
     "metadata": {},
     "output_type": "execute_result"
    }
   ],
   "source": [
    "ridgecv[2].alpha_"
   ],
   "metadata": {
    "collapsed": false,
    "pycharm": {
     "name": "#%%\n"
    }
   }
  },
  {
   "cell_type": "code",
   "execution_count": 29,
   "outputs": [
    {
     "data": {
      "text/plain": "51.168403643557575"
     },
     "execution_count": 29,
     "metadata": {},
     "output_type": "execute_result"
    }
   ],
   "source": [
    "# get cross validation results for ridge regression\n",
    "mean_squared_error(ridgecv.predict(xtest), ytest)"
   ],
   "metadata": {
    "collapsed": false,
    "pycharm": {
     "name": "#%%\n"
    }
   }
  },
  {
   "cell_type": "markdown",
   "source": [
    "## Lasso Regression"
   ],
   "metadata": {
    "collapsed": false,
    "pycharm": {
     "name": "#%% md\n"
    }
   }
  },
  {
   "cell_type": "code",
   "execution_count": 30,
   "outputs": [
    {
     "name": "stderr",
     "output_type": "stream",
     "text": [
      "/Users/ehniv/opt/anaconda3/lib/python3.9/site-packages/sklearn/linear_model/_coordinate_descent.py:633: ConvergenceWarning: Objective did not converge. You might want to increase the number of iterations. Duality gap: 236094.05978396873, tolerance: 230.40560620963166\n",
      "  model = cd_fast.enet_coordinate_descent_gram(\n",
      "/Users/ehniv/opt/anaconda3/lib/python3.9/site-packages/sklearn/linear_model/_coordinate_descent.py:633: ConvergenceWarning: Objective did not converge. You might want to increase the number of iterations. Duality gap: 233.75589460646734, tolerance: 230.40560620963166\n",
      "  model = cd_fast.enet_coordinate_descent_gram(\n",
      "/Users/ehniv/opt/anaconda3/lib/python3.9/site-packages/sklearn/linear_model/_coordinate_descent.py:633: ConvergenceWarning: Objective did not converge. You might want to increase the number of iterations. Duality gap: 666123.1627096822, tolerance: 230.40560620963166\n",
      "  model = cd_fast.enet_coordinate_descent_gram(\n",
      "/Users/ehniv/opt/anaconda3/lib/python3.9/site-packages/sklearn/linear_model/_coordinate_descent.py:633: ConvergenceWarning: Objective did not converge. You might want to increase the number of iterations. Duality gap: 660090.6366679056, tolerance: 230.40560620963166\n",
      "  model = cd_fast.enet_coordinate_descent_gram(\n",
      "/Users/ehniv/opt/anaconda3/lib/python3.9/site-packages/sklearn/linear_model/_coordinate_descent.py:633: ConvergenceWarning: Objective did not converge. You might want to increase the number of iterations. Duality gap: 235439.80998660834, tolerance: 228.93441867422095\n",
      "  model = cd_fast.enet_coordinate_descent_gram(\n",
      "/Users/ehniv/opt/anaconda3/lib/python3.9/site-packages/sklearn/linear_model/_coordinate_descent.py:633: ConvergenceWarning: Objective did not converge. You might want to increase the number of iterations. Duality gap: 306.2159278448671, tolerance: 228.93441867422095\n",
      "  model = cd_fast.enet_coordinate_descent_gram(\n",
      "/Users/ehniv/opt/anaconda3/lib/python3.9/site-packages/sklearn/linear_model/_coordinate_descent.py:633: ConvergenceWarning: Objective did not converge. You might want to increase the number of iterations. Duality gap: 660873.7357816783, tolerance: 228.93441867422095\n",
      "  model = cd_fast.enet_coordinate_descent_gram(\n",
      "/Users/ehniv/opt/anaconda3/lib/python3.9/site-packages/sklearn/linear_model/_coordinate_descent.py:633: ConvergenceWarning: Objective did not converge. You might want to increase the number of iterations. Duality gap: 656819.0314563111, tolerance: 228.93441867422095\n",
      "  model = cd_fast.enet_coordinate_descent_gram(\n",
      "/Users/ehniv/opt/anaconda3/lib/python3.9/site-packages/sklearn/linear_model/_coordinate_descent.py:633: ConvergenceWarning: Objective did not converge. You might want to increase the number of iterations. Duality gap: 181567.7175937387, tolerance: 229.22813928611907\n",
      "  model = cd_fast.enet_coordinate_descent_gram(\n",
      "/Users/ehniv/opt/anaconda3/lib/python3.9/site-packages/sklearn/linear_model/_coordinate_descent.py:633: ConvergenceWarning: Objective did not converge. You might want to increase the number of iterations. Duality gap: 663373.8595751444, tolerance: 229.22813928611907\n",
      "  model = cd_fast.enet_coordinate_descent_gram(\n",
      "/Users/ehniv/opt/anaconda3/lib/python3.9/site-packages/sklearn/linear_model/_coordinate_descent.py:633: ConvergenceWarning: Objective did not converge. You might want to increase the number of iterations. Duality gap: 657184.8567456376, tolerance: 229.22813928611907\n",
      "  model = cd_fast.enet_coordinate_descent_gram(\n",
      "/Users/ehniv/opt/anaconda3/lib/python3.9/site-packages/sklearn/linear_model/_coordinate_descent.py:633: ConvergenceWarning: Objective did not converge. You might want to increase the number of iterations. Duality gap: 251306.5504673131, tolerance: 229.96236870254972\n",
      "  model = cd_fast.enet_coordinate_descent_gram(\n",
      "/Users/ehniv/opt/anaconda3/lib/python3.9/site-packages/sklearn/linear_model/_coordinate_descent.py:633: ConvergenceWarning: Objective did not converge. You might want to increase the number of iterations. Duality gap: 281.83616036432795, tolerance: 229.96236870254972\n",
      "  model = cd_fast.enet_coordinate_descent_gram(\n",
      "/Users/ehniv/opt/anaconda3/lib/python3.9/site-packages/sklearn/linear_model/_coordinate_descent.py:633: ConvergenceWarning: Objective did not converge. You might want to increase the number of iterations. Duality gap: 666935.9341814368, tolerance: 229.96236870254972\n",
      "  model = cd_fast.enet_coordinate_descent_gram(\n",
      "/Users/ehniv/opt/anaconda3/lib/python3.9/site-packages/sklearn/linear_model/_coordinate_descent.py:633: ConvergenceWarning: Objective did not converge. You might want to increase the number of iterations. Duality gap: 661112.2402462378, tolerance: 229.96236870254972\n",
      "  model = cd_fast.enet_coordinate_descent_gram(\n",
      "/Users/ehniv/opt/anaconda3/lib/python3.9/site-packages/sklearn/linear_model/_coordinate_descent.py:633: ConvergenceWarning: Objective did not converge. You might want to increase the number of iterations. Duality gap: 242803.78945112252, tolerance: 229.9748633139447\n",
      "  model = cd_fast.enet_coordinate_descent_gram(\n",
      "/Users/ehniv/opt/anaconda3/lib/python3.9/site-packages/sklearn/linear_model/_coordinate_descent.py:633: ConvergenceWarning: Objective did not converge. You might want to increase the number of iterations. Duality gap: 665909.3466100539, tolerance: 229.9748633139447\n",
      "  model = cd_fast.enet_coordinate_descent_gram(\n",
      "/Users/ehniv/opt/anaconda3/lib/python3.9/site-packages/sklearn/linear_model/_coordinate_descent.py:633: ConvergenceWarning: Objective did not converge. You might want to increase the number of iterations. Duality gap: 659901.1409617678, tolerance: 229.9748633139447\n",
      "  model = cd_fast.enet_coordinate_descent_gram(\n",
      "/Users/ehniv/opt/anaconda3/lib/python3.9/site-packages/sklearn/linear_model/_coordinate_descent.py:647: ConvergenceWarning: Objective did not converge. You might want to increase the number of iterations, check the scale of the features or consider increasing regularisation. Duality gap: 7.840e+05, tolerance: 2.871e+02\n",
      "  model = cd_fast.enet_coordinate_descent(\n"
     ]
    }
   ],
   "source": [
    "alpha = [0.00000000000001, 0.000000000001, 0.000001, 0.0000001]\n",
    "lassocv = make_pipeline(FunctionTransformer(pd.get_dummies, kw_args={'drop_first':True}), Normalizer(), LassoCV(alphas=alpha, cv=5)).fit(xtrain,ytrain)"
   ],
   "metadata": {
    "collapsed": false,
    "pycharm": {
     "name": "#%%\n"
    }
   }
  },
  {
   "cell_type": "code",
   "execution_count": 31,
   "outputs": [
    {
     "data": {
      "text/plain": "1e-07"
     },
     "execution_count": 31,
     "metadata": {},
     "output_type": "execute_result"
    }
   ],
   "source": [
    "lassocv[2].alpha_"
   ],
   "metadata": {
    "collapsed": false,
    "pycharm": {
     "name": "#%%\n"
    }
   }
  },
  {
   "cell_type": "code",
   "execution_count": 32,
   "outputs": [
    {
     "data": {
      "text/plain": "51.19534933175822"
     },
     "execution_count": 32,
     "metadata": {},
     "output_type": "execute_result"
    }
   ],
   "source": [
    "# get cross validation results for lasso regression\n",
    "mean_squared_error(lassocv.predict(xtest), ytest)"
   ],
   "metadata": {
    "collapsed": false,
    "pycharm": {
     "name": "#%%\n"
    }
   }
  },
  {
   "cell_type": "markdown",
   "source": [
    "# Random Forest"
   ],
   "metadata": {
    "collapsed": false,
    "pycharm": {
     "name": "#%% md\n"
    }
   }
  },
  {
   "cell_type": "code",
   "execution_count": 33,
   "outputs": [],
   "source": [
    "from sklearn.ensemble import RandomForestRegressor\n",
    "from sklearn.model_selection import RandomizedSearchCV"
   ],
   "metadata": {
    "collapsed": false,
    "pycharm": {
     "name": "#%%\n"
    }
   }
  },
  {
   "cell_type": "code",
   "execution_count": 34,
   "outputs": [],
   "source": [
    "# Grid Search\n",
    "# Number of trees in random forest\n",
    "n_estimators = [int(x) for x in np.linspace(start = 320, stop = 380, num = 20)]\n",
    "# Number of features to consider at every split\n",
    "max_features = ['auto', 'sqrt', 'log2']\n",
    "# Maximum number of levels in tree\n",
    "max_depth = [int(x) for x in np.linspace(30, 50, num = 10)]\n",
    "max_depth.append(None)\n",
    "# Minimum number of samples required to split a node\n",
    "min_samples_split = [4, 5, 6]\n",
    "# Minimum number of samples required at each leaf node\n",
    "min_samples_leaf = [2, 3, 4, 5]\n",
    "# Method of selecting samples for training each tree\n",
    "bootstrap = [True, False]\n",
    "# Create the random grid\n",
    "random_grid = {'n_estimators': n_estimators,\n",
    "               'max_features': max_features,\n",
    "               'max_depth': max_depth,\n",
    "               'min_samples_split': min_samples_split,\n",
    "               'min_samples_leaf': min_samples_leaf,\n",
    "               'bootstrap': bootstrap}"
   ],
   "metadata": {
    "collapsed": false,
    "pycharm": {
     "name": "#%%\n"
    }
   }
  },
  {
   "cell_type": "code",
   "execution_count": 35,
   "outputs": [
    {
     "name": "stdout",
     "output_type": "stream",
     "text": [
      "Fitting 5 folds for each of 10 candidates, totalling 50 fits\n"
     ]
    }
   ],
   "source": [
    "# Use the random grid to search for best hyperparameters\n",
    "# First create the base model to tune\n",
    "rf = RandomForestRegressor()\n",
    "\n",
    "rf_model = make_pipeline(FunctionTransformer(pd.get_dummies, kw_args={'drop_first':True}), RandomizedSearchCV(estimator = rf, param_distributions = random_grid, n_iter = 10, cv = 5, verbose=2, random_state=42, n_jobs = -1)).fit(xtrain, ytrain)"
   ],
   "metadata": {
    "collapsed": false,
    "pycharm": {
     "name": "#%%\n"
    }
   }
  },
  {
   "cell_type": "code",
   "execution_count": 36,
   "outputs": [
    {
     "data": {
      "text/plain": "{'n_estimators': 320,\n 'min_samples_split': 5,\n 'min_samples_leaf': 4,\n 'max_features': 'auto',\n 'max_depth': 32,\n 'bootstrap': True}"
     },
     "execution_count": 36,
     "metadata": {},
     "output_type": "execute_result"
    }
   ],
   "source": [
    "# hyperparameter tuning\n",
    "rf_model['randomizedsearchcv'].best_params_"
   ],
   "metadata": {
    "collapsed": false,
    "pycharm": {
     "name": "#%%\n"
    }
   }
  },
  {
   "cell_type": "code",
   "execution_count": 37,
   "outputs": [
    {
     "data": {
      "text/plain": "14.790040790559011"
     },
     "execution_count": 37,
     "metadata": {},
     "output_type": "execute_result"
    }
   ],
   "source": [
    "mean_squared_error(ytest, rf_model.predict(xtest))"
   ],
   "metadata": {
    "collapsed": false,
    "pycharm": {
     "name": "#%%\n"
    }
   }
  },
  {
   "cell_type": "markdown",
   "source": [
    "### Feature Importance"
   ],
   "metadata": {
    "collapsed": false,
    "pycharm": {
     "name": "#%% md\n"
    }
   }
  },
  {
   "cell_type": "code",
   "execution_count": 38,
   "outputs": [
    {
     "name": "stdout",
     "output_type": "stream",
     "text": [
      "Elapsed time to compute the importances: 0.040 seconds\n"
     ]
    }
   ],
   "source": [
    "start_time = time.time()\n",
    "rf_model_tree = rf_model['randomizedsearchcv'].best_estimator_.feature_importances_\n",
    "std = np.std([tree.feature_importances_ for tree in rf_model['randomizedsearchcv'].best_estimator_.estimators_], axis=0)\n",
    "elapsed_time = time.time() - start_time\n",
    "\n",
    "print(f\"Elapsed time to compute the importances: {elapsed_time:.3f} seconds\")"
   ],
   "metadata": {
    "collapsed": false,
    "pycharm": {
     "name": "#%%\n"
    }
   }
  },
  {
   "cell_type": "code",
   "execution_count": 39,
   "outputs": [
    {
     "data": {
      "text/plain": "<Figure size 432x288 with 1 Axes>",
      "image/png": "[encoded data removed]"
     },
     "metadata": {
      "needs_background": "light"
     },
     "output_type": "display_data"
    }
   ],
   "source": [
    "forest_importance = pd.Series(rf_model_tree, index=pd.get_dummies(xtrain, drop_first=True).columns.values)\n",
    "\n",
    "fig, ax = plt.subplots()\n",
    "forest_importance.plot.bar(yerr=std, ax=ax)\n",
    "ax.set_title(\"Feature importances using MDI\")\n",
    "ax.set_ylabel(\"Mean decrease in impurity\")\n",
    "fig.tight_layout()"
   ],
   "metadata": {
    "collapsed": false,
    "pycharm": {
     "name": "#%%\n"
    }
   }
  },
  {
   "cell_type": "markdown",
   "source": [
    "From this we can see that the ordered year, type of order, type of vehicle, city are not important features. This was removed and another dataset was created"
   ],
   "metadata": {
    "collapsed": false,
    "pycharm": {
     "name": "#%% md\n"
    }
   }
  },
  {
   "cell_type": "markdown",
   "source": [
    "# KNN Regression"
   ],
   "metadata": {
    "collapsed": false,
    "pycharm": {
     "name": "#%% md\n"
    }
   }
  },
  {
   "cell_type": "code",
   "execution_count": 40,
   "outputs": [],
   "source": [
    "from sklearn.neighbors import KNeighborsRegressor"
   ],
   "metadata": {
    "collapsed": false,
    "pycharm": {
     "name": "#%%\n"
    }
   }
  },
  {
   "cell_type": "code",
   "execution_count": 41,
   "outputs": [
    {
     "data": {
      "text/plain": "GridSearchCV(cv=KFold(n_splits=5, random_state=None, shuffle=True),\n             estimator=Pipeline(steps=[('onehot',\n                                        FunctionTransformer(func=<function get_dummies at 0x7fea28acfa60>,\n                                                            kw_args={'drop_first': True})),\n                                       ('normalize', Normalizer()),\n                                       ('model', KNeighborsRegressor())]),\n             param_grid={'model__n_neighbors': [21, 22, 23, 24],\n                         'model__weights': ['uniform', 'distance']},\n             scoring='neg_mean_squared_error')"
     },
     "execution_count": 41,
     "metadata": {},
     "output_type": "execute_result"
    }
   ],
   "source": [
    "kfold = KFold(n_splits=5, shuffle=True)\n",
    "knn_hyper = {'model__n_neighbors':[21,22,23,24],\n",
    "              'model__weights':['uniform','distance']}\n",
    "\n",
    "knn = Pipeline([('onehot', FunctionTransformer(pd.get_dummies, kw_args={'drop_first':True})),\n",
    "                           ('normalize', Normalizer()),\n",
    "                           ('model', KNeighborsRegressor())\n",
    "                           ])\n",
    "\n",
    "knn_grid = GridSearchCV(estimator=knn, param_grid=knn_hyper, cv=kfold, scoring='neg_mean_squared_error')\n",
    "knn_grid.fit(xtrain,ytrain)"
   ],
   "metadata": {
    "collapsed": false,
    "pycharm": {
     "name": "#%%\n"
    }
   }
  },
  {
   "cell_type": "code",
   "execution_count": 42,
   "outputs": [
    {
     "data": {
      "text/plain": "Pipeline(steps=[('onehot',\n                 FunctionTransformer(func=<function get_dummies at 0x7fea28acfa60>,\n                                     kw_args={'drop_first': True})),\n                ('normalize', Normalizer()),\n                ('model',\n                 KNeighborsRegressor(n_neighbors=23, weights='distance'))])"
     },
     "execution_count": 42,
     "metadata": {},
     "output_type": "execute_result"
    }
   ],
   "source": [
    "knn_grid.best_estimator_"
   ],
   "metadata": {
    "collapsed": false,
    "pycharm": {
     "name": "#%%\n"
    }
   }
  },
  {
   "cell_type": "code",
   "execution_count": 43,
   "outputs": [
    {
     "data": {
      "text/plain": "59.221071822021244"
     },
     "execution_count": 43,
     "metadata": {},
     "output_type": "execute_result"
    }
   ],
   "source": [
    "mean_squared_error(ytest, knn_grid.predict(xtest))"
   ],
   "metadata": {
    "collapsed": false,
    "pycharm": {
     "name": "#%%\n"
    }
   }
  },
  {
   "cell_type": "code",
   "execution_count": 60,
   "outputs": [
    {
     "data": {
      "text/plain": "<Figure size 432x288 with 6 Axes>",
      "image/png": "[encoded data removed]"
     },
     "metadata": {
      "needs_background": "light"
     },
     "output_type": "display_data"
    }
   ],
   "source": [
    "fig, ((ax1, ax2, ax3), (ax4, ax5, ax6)) = plt.subplots(2,3)\n",
    "fig.suptitle('Actuals vs Predicted')\n",
    "linear = np.linspace(0,60)\n",
    "\n",
    "ax1.plot(linreg.predict(xtrain), ytrain, '*')\n",
    "ax1.plot(linear, linear)\n",
    "ax1.set_title('linear')\n",
    "ax1.set_xlim(0,60)\n",
    "ax1.set_ylim(0,60)\n",
    "\n",
    "ax2.plot(lassocv.predict(xtrain), ytrain, '*')\n",
    "ax2.plot(linear, linear)\n",
    "ax2.set_title('Lasso')\n",
    "ax2.set_xlim(0,60)\n",
    "ax2.set_ylim(0,60)\n",
    "\n",
    "ax3.plot(ridgecv.predict(xtrain), ytrain, '*')\n",
    "ax3.plot(linear, linear)\n",
    "ax3.set_title('Ridge')\n",
    "ax3.set_xlim(0,60)\n",
    "ax3.set_ylim(0,60)\n",
    "\n",
    "ax4.plot(rf_model.predict(xtrain), ytrain, '*')\n",
    "ax4.plot(linear, linear)\n",
    "ax4.set_title('Random Forest')\n",
    "ax4.set_xlim(0,60)\n",
    "ax4.set_ylim(0,60)\n",
    "\n",
    "ax5.plot(knn_grid.predict(xtrain), ytrain, '*')\n",
    "ax5.plot(linear, linear)\n",
    "ax5.set_title('K-NN')\n",
    "ax5.set_xlim(0,60)\n",
    "ax5.set_ylim(0,60)\n",
    "\n",
    "ax6.axis('off')\n",
    "\n",
    "fig.tight_layout(h_pad=5, w_pad=5)"
   ],
   "metadata": {
    "collapsed": false,
    "pycharm": {
     "name": "#%%\n"
    }
   }
  },
  {
   "cell_type": "code",
   "execution_count": null,
   "outputs": [],
   "source": [],
   "metadata": {
    "collapsed": false,
    "pycharm": {
     "name": "#%%\n"
    }
   }
  }
 ],
 "metadata": {
  "kernelspec": {
   "display_name": "Python 3",
   "language": "python",
   "name": "python3"
  },
  "language_info": {
   "codemirror_mode": {
    "name": "ipython",
    "version": 2
   },
   "file_extension": ".py",
   "mimetype": "text/x-python",
   "name": "python",
   "nbconvert_exporter": "python",
   "pygments_lexer": "ipython2",
   "version": "2.7.6"
  }
 },
 "nbformat": 4,
 "nbformat_minor": 0
}