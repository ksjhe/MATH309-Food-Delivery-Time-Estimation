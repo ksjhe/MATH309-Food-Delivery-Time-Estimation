{
 "cells": [
  {
   "cell_type": "code",
   "execution_count": 1,
   "outputs": [],
   "source": [
    "# imports\n",
    "import numpy as np\n",
    "import pandas as pd"
   ],
   "metadata": {
    "collapsed": false,
    "pycharm": {
     "name": "#%%\n"
    }
   }
  },
  {
   "cell_type": "code",
   "execution_count": 2,
   "outputs": [
    {
     "data": {
      "text/plain": "            ID Delivery_person_ID  Delivery_person_Age  \\\n0      0x2318    COIMBRES13DEL01                   NaN   \n1      0x3474     BANGRES15DEL01                  28.0   \n2      0x9420      JAPRES09DEL03                  23.0   \n3      0x72ee      JAPRES07DEL03                  21.0   \n4      0xa759     CHENRES19DEL01                  31.0   \n...        ...                ...                  ...   \n11394  0x6909      JAPRES01DEL01                  35.0   \n11395  0x443b      JAPRES11DEL01                  33.0   \n11396  0x1ea5      SURRES11DEL03                   NaN   \n11397  0x22d4      VADRES03DEL02                  27.0   \n11398  0xb7be     CHENRES07DEL02                  39.0   \n\n       Delivery_person_Ratings  Restaurant_latitude  Restaurant_longitude  \\\n0                          NaN            11.003669             76.976494   \n1                          4.6            12.975377             77.696664   \n2                          4.5            26.911378             75.789034   \n3                          4.8            26.766536             75.837333   \n4                          4.6            12.986047             80.218114   \n...                        ...                  ...                   ...   \n11394                      4.6            26.905190             75.810753   \n11395                      4.9            26.902940             75.793007   \n11396                      NaN            21.157735             72.768778   \n11397                      4.7            22.320000             73.170000   \n11398                      5.0            13.081878             80.248519   \n\n       Delivery_location_latitude  Delivery_location_longitude  Order_Date  \\\n0                       11.043669                    77.016494  30-03-2022   \n1                       13.085377                    77.806664  29-03-2022   \n2                       27.001378                    75.879034  10-03-2022   \n3                       26.856536                    75.927333  02-04-2022   \n4                       13.096047                    80.328114  27-03-2022   \n...                           ...                          ...         ...   \n11394                   27.015190                    75.920753  27-03-2022   \n11395                   26.912940                    75.803007  11-03-2022   \n11396                   21.217735                    72.828778  11-03-2022   \n11397                   22.450000                    73.300000  06-03-2022   \n11398                   13.131878                    80.298519  24-03-2022   \n\n      Time_Orderd Time_Order_picked      Weatherconditions  \\\n0             NaN          15:05:00         conditions NaN   \n1        20:30:00          20:35:00       conditions Windy   \n2        19:35:00          19:45:00      conditions Stormy   \n3        17:15:00          17:20:00         conditions Fog   \n4        18:25:00          18:40:00       conditions Sunny   \n...           ...               ...                    ...   \n11394    21:35:00          21:45:00       conditions Sunny   \n11395    11:40:00          11:45:00  conditions Sandstorms   \n11396         NaN          21:05:00         conditions NaN   \n11397    18:35:00          18:40:00  conditions Sandstorms   \n11398    22:20:00          22:25:00       conditions Windy   \n\n      Road_traffic_density  Vehicle_condition Type_of_order  \\\n0                      NaN                  3       Drinks    \n1                     Jam                   0        Snack    \n2                     Jam                   0       Drinks    \n3                  Medium                   1         Meal    \n4                  Medium                   2       Drinks    \n...                    ...                ...           ...   \n11394                 Jam                   1        Snack    \n11395                High                   1       Drinks    \n11396                  NaN                  3       Drinks    \n11397              Medium                   0         Meal    \n11398                 Low                   2       Drinks    \n\n         Type_of_vehicle  multiple_deliveries Festival            City  \n0      electric_scooter                   1.0      No   Metropolitian   \n1            motorcycle                   1.0      No   Metropolitian   \n2            motorcycle                   1.0      No   Metropolitian   \n3               scooter                   1.0      No   Metropolitian   \n4               scooter                   1.0      No   Metropolitian   \n...                  ...                  ...      ...             ...  \n11394           scooter                   1.0      No   Metropolitian   \n11395           scooter                   1.0      No   Metropolitian   \n11396           scooter                   1.0      No   Metropolitian   \n11397        motorcycle                   0.0      No   Metropolitian   \n11398        motorcycle                   1.0      No           Urban   \n\n[11399 rows x 19 columns]",
      "text/html": "<div>\n<style scoped>\n    .dataframe tbody tr th:only-of-type {\n        vertical-align: middle;\n    }\n\n    .dataframe tbody tr th {\n        vertical-align: top;\n    }\n\n    .dataframe thead th {\n        text-align: right;\n    }\n</style>\n<table border=\"1\" class=\"dataframe\">\n  <thead>\n    <tr style=\"text-align: right;\">\n      <th></th>\n      <th>ID</th>\n      <th>Delivery_person_ID</th>\n      <th>Delivery_person_Age</th>\n      <th>Delivery_person_Ratings</th>\n      <th>Restaurant_latitude</th>\n      <th>Restaurant_longitude</th>\n      <th>Delivery_location_latitude</th>\n      <th>Delivery_location_longitude</th>\n      <th>Order_Date</th>\n      <th>Time_Orderd</th>\n      <th>Time_Order_picked</th>\n      <th>Weatherconditions</th>\n      <th>Road_traffic_density</th>\n      <th>Vehicle_condition</th>\n      <th>Type_of_order</th>\n      <th>Type_of_vehicle</th>\n      <th>multiple_deliveries</th>\n      <th>Festival</th>\n      <th>City</th>\n    </tr>\n  </thead>\n  <tbody>\n    <tr>\n      <th>0</th>\n      <td>0x2318</td>\n      <td>COIMBRES13DEL01</td>\n      <td>NaN</td>\n      <td>NaN</td>\n      <td>11.003669</td>\n      <td>76.976494</td>\n      <td>11.043669</td>\n      <td>77.016494</td>\n      <td>30-03-2022</td>\n      <td>NaN</td>\n      <td>15:05:00</td>\n      <td>conditions NaN</td>\n      <td>NaN</td>\n      <td>3</td>\n      <td>Drinks</td>\n      <td>electric_scooter</td>\n      <td>1.0</td>\n      <td>No</td>\n      <td>Metropolitian</td>\n    </tr>\n    <tr>\n      <th>1</th>\n      <td>0x3474</td>\n      <td>BANGRES15DEL01</td>\n      <td>28.0</td>\n      <td>4.6</td>\n      <td>12.975377</td>\n      <td>77.696664</td>\n      <td>13.085377</td>\n      <td>77.806664</td>\n      <td>29-03-2022</td>\n      <td>20:30:00</td>\n      <td>20:35:00</td>\n      <td>conditions Windy</td>\n      <td>Jam</td>\n      <td>0</td>\n      <td>Snack</td>\n      <td>motorcycle</td>\n      <td>1.0</td>\n      <td>No</td>\n      <td>Metropolitian</td>\n    </tr>\n    <tr>\n      <th>2</th>\n      <td>0x9420</td>\n      <td>JAPRES09DEL03</td>\n      <td>23.0</td>\n      <td>4.5</td>\n      <td>26.911378</td>\n      <td>75.789034</td>\n      <td>27.001378</td>\n      <td>75.879034</td>\n      <td>10-03-2022</td>\n      <td>19:35:00</td>\n      <td>19:45:00</td>\n      <td>conditions Stormy</td>\n      <td>Jam</td>\n      <td>0</td>\n      <td>Drinks</td>\n      <td>motorcycle</td>\n      <td>1.0</td>\n      <td>No</td>\n      <td>Metropolitian</td>\n    </tr>\n    <tr>\n      <th>3</th>\n      <td>0x72ee</td>\n      <td>JAPRES07DEL03</td>\n      <td>21.0</td>\n      <td>4.8</td>\n      <td>26.766536</td>\n      <td>75.837333</td>\n      <td>26.856536</td>\n      <td>75.927333</td>\n      <td>02-04-2022</td>\n      <td>17:15:00</td>\n      <td>17:20:00</td>\n      <td>conditions Fog</td>\n      <td>Medium</td>\n      <td>1</td>\n      <td>Meal</td>\n      <td>scooter</td>\n      <td>1.0</td>\n      <td>No</td>\n      <td>Metropolitian</td>\n    </tr>\n    <tr>\n      <th>4</th>\n      <td>0xa759</td>\n      <td>CHENRES19DEL01</td>\n      <td>31.0</td>\n      <td>4.6</td>\n      <td>12.986047</td>\n      <td>80.218114</td>\n      <td>13.096047</td>\n      <td>80.328114</td>\n      <td>27-03-2022</td>\n      <td>18:25:00</td>\n      <td>18:40:00</td>\n      <td>conditions Sunny</td>\n      <td>Medium</td>\n      <td>2</td>\n      <td>Drinks</td>\n      <td>scooter</td>\n      <td>1.0</td>\n      <td>No</td>\n      <td>Metropolitian</td>\n    </tr>\n    <tr>\n      <th>...</th>\n      <td>...</td>\n      <td>...</td>\n      <td>...</td>\n      <td>...</td>\n      <td>...</td>\n      <td>...</td>\n      <td>...</td>\n      <td>...</td>\n      <td>...</td>\n      <td>...</td>\n      <td>...</td>\n      <td>...</td>\n      <td>...</td>\n      <td>...</td>\n      <td>...</td>\n      <td>...</td>\n      <td>...</td>\n      <td>...</td>\n      <td>...</td>\n    </tr>\n    <tr>\n      <th>11394</th>\n      <td>0x6909</td>\n      <td>JAPRES01DEL01</td>\n      <td>35.0</td>\n      <td>4.6</td>\n      <td>26.905190</td>\n      <td>75.810753</td>\n      <td>27.015190</td>\n      <td>75.920753</td>\n      <td>27-03-2022</td>\n      <td>21:35:00</td>\n      <td>21:45:00</td>\n      <td>conditions Sunny</td>\n      <td>Jam</td>\n      <td>1</td>\n      <td>Snack</td>\n      <td>scooter</td>\n      <td>1.0</td>\n      <td>No</td>\n      <td>Metropolitian</td>\n    </tr>\n    <tr>\n      <th>11395</th>\n      <td>0x443b</td>\n      <td>JAPRES11DEL01</td>\n      <td>33.0</td>\n      <td>4.9</td>\n      <td>26.902940</td>\n      <td>75.793007</td>\n      <td>26.912940</td>\n      <td>75.803007</td>\n      <td>11-03-2022</td>\n      <td>11:40:00</td>\n      <td>11:45:00</td>\n      <td>conditions Sandstorms</td>\n      <td>High</td>\n      <td>1</td>\n      <td>Drinks</td>\n      <td>scooter</td>\n      <td>1.0</td>\n      <td>No</td>\n      <td>Metropolitian</td>\n    </tr>\n    <tr>\n      <th>11396</th>\n      <td>0x1ea5</td>\n      <td>SURRES11DEL03</td>\n      <td>NaN</td>\n      <td>NaN</td>\n      <td>21.157735</td>\n      <td>72.768778</td>\n      <td>21.217735</td>\n      <td>72.828778</td>\n      <td>11-03-2022</td>\n      <td>NaN</td>\n      <td>21:05:00</td>\n      <td>conditions NaN</td>\n      <td>NaN</td>\n      <td>3</td>\n      <td>Drinks</td>\n      <td>scooter</td>\n      <td>1.0</td>\n      <td>No</td>\n      <td>Metropolitian</td>\n    </tr>\n    <tr>\n      <th>11397</th>\n      <td>0x22d4</td>\n      <td>VADRES03DEL02</td>\n      <td>27.0</td>\n      <td>4.7</td>\n      <td>22.320000</td>\n      <td>73.170000</td>\n      <td>22.450000</td>\n      <td>73.300000</td>\n      <td>06-03-2022</td>\n      <td>18:35:00</td>\n      <td>18:40:00</td>\n      <td>conditions Sandstorms</td>\n      <td>Medium</td>\n      <td>0</td>\n      <td>Meal</td>\n      <td>motorcycle</td>\n      <td>0.0</td>\n      <td>No</td>\n      <td>Metropolitian</td>\n    </tr>\n    <tr>\n      <th>11398</th>\n      <td>0xb7be</td>\n      <td>CHENRES07DEL02</td>\n      <td>39.0</td>\n      <td>5.0</td>\n      <td>13.081878</td>\n      <td>80.248519</td>\n      <td>13.131878</td>\n      <td>80.298519</td>\n      <td>24-03-2022</td>\n      <td>22:20:00</td>\n      <td>22:25:00</td>\n      <td>conditions Windy</td>\n      <td>Low</td>\n      <td>2</td>\n      <td>Drinks</td>\n      <td>motorcycle</td>\n      <td>1.0</td>\n      <td>No</td>\n      <td>Urban</td>\n    </tr>\n  </tbody>\n</table>\n<p>11399 rows × 19 columns</p>\n</div>"
     },
     "execution_count": 2,
     "metadata": {},
     "output_type": "execute_result"
    }
   ],
   "source": [
    "train = pd.read_table('data/test.csv', na_values=['NaN', 'NaN ', ' NaN', 'nan'], sep=',')\n",
    "train"
   ],
   "metadata": {
    "collapsed": false,
    "pycharm": {
     "name": "#%%\n"
    }
   }
  },
  {
   "cell_type": "code",
   "execution_count": 4,
   "outputs": [
    {
     "data": {
      "text/plain": "ID                               0\nDelivery_person_ID               0\nDelivery_person_Age            491\nDelivery_person_Ratings        507\nRestaurant_latitude              0\nRestaurant_longitude             0\nDelivery_location_latitude       0\nDelivery_location_longitude      0\nOrder_Date                       0\nTime_Orderd                    444\nTime_Order_picked                0\nWeatherconditions                0\nRoad_traffic_density           154\nVehicle_condition                0\nType_of_order                    0\nType_of_vehicle                  0\nmultiple_deliveries            238\nFestival                        65\nCity                           324\ndtype: int64"
     },
     "execution_count": 4,
     "metadata": {},
     "output_type": "execute_result"
    }
   ],
   "source": [
    "train.isna().sum()"
   ],
   "metadata": {
    "collapsed": false,
    "pycharm": {
     "name": "#%%\n"
    }
   }
  },
  {
   "cell_type": "markdown",
   "source": [
    "Generally the data here is pretty good, rather than imputating it, we will drop the null rows"
   ],
   "metadata": {
    "collapsed": false,
    "pycharm": {
     "name": "#%% md\n"
    }
   }
  },
  {
   "cell_type": "code",
   "execution_count": 5,
   "outputs": [
    {
     "data": {
      "text/plain": "            ID Delivery_person_ID  Delivery_person_Age  \\\n1      0x3474     BANGRES15DEL01                  28.0   \n2      0x9420      JAPRES09DEL03                  23.0   \n3      0x72ee      JAPRES07DEL03                  21.0   \n4      0xa759     CHENRES19DEL01                  31.0   \n5      0xc4af      GOARES04DEL01                  26.0   \n...        ...                ...                  ...   \n11393  0xe240      BHPRES07DEL01                  31.0   \n11394  0x6909      JAPRES01DEL01                  35.0   \n11395  0x443b      JAPRES11DEL01                  33.0   \n11397  0x22d4      VADRES03DEL02                  27.0   \n11398  0xb7be     CHENRES07DEL02                  39.0   \n\n       Delivery_person_Ratings  Restaurant_latitude  Restaurant_longitude  \\\n1                          4.6            12.975377             77.696664   \n2                          4.5            26.911378             75.789034   \n3                          4.8            26.766536             75.837333   \n4                          4.6            12.986047             80.218114   \n5                          4.7            15.569600             73.742294   \n...                        ...                  ...                   ...   \n11393                      4.7             0.000000              0.000000   \n11394                      4.6            26.905190             75.810753   \n11395                      4.9            26.902940             75.793007   \n11397                      4.7            22.320000             73.170000   \n11398                      5.0            13.081878             80.248519   \n\n       Delivery_location_latitude  Delivery_location_longitude  Order_Date  \\\n1                       13.085377                    77.806664  29-03-2022   \n2                       27.001378                    75.879034  10-03-2022   \n3                       26.856536                    75.927333  02-04-2022   \n4                       13.096047                    80.328114  27-03-2022   \n5                       15.579600                    73.752294  15-02-2022   \n...                           ...                          ...         ...   \n11393                    0.010000                     0.010000  13-02-2022   \n11394                   27.015190                    75.920753  27-03-2022   \n11395                   26.912940                    75.803007  11-03-2022   \n11397                   22.450000                    73.300000  06-03-2022   \n11398                   13.131878                    80.298519  24-03-2022   \n\n      Time_Orderd Time_Order_picked      Weatherconditions  \\\n1        20:30:00          20:35:00       conditions Windy   \n2        19:35:00          19:45:00      conditions Stormy   \n3        17:15:00          17:20:00         conditions Fog   \n4        18:25:00          18:40:00       conditions Sunny   \n5        09:45:00          09:55:00         conditions Fog   \n...           ...               ...                    ...   \n11393    11:00:00          11:10:00       conditions Windy   \n11394    21:35:00          21:45:00       conditions Sunny   \n11395    11:40:00          11:45:00  conditions Sandstorms   \n11397    18:35:00          18:40:00  conditions Sandstorms   \n11398    22:20:00          22:25:00       conditions Windy   \n\n      Road_traffic_density  Vehicle_condition Type_of_order Type_of_vehicle  \\\n1                     Jam                   0        Snack      motorcycle    \n2                     Jam                   0       Drinks      motorcycle    \n3                  Medium                   1         Meal         scooter    \n4                  Medium                   2       Drinks         scooter    \n5                     Low                   0       Drinks      motorcycle    \n...                    ...                ...           ...             ...   \n11393                 Low                   2        Snack         scooter    \n11394                 Jam                   1        Snack         scooter    \n11395                High                   1       Drinks         scooter    \n11397              Medium                   0         Meal      motorcycle    \n11398                 Low                   2       Drinks      motorcycle    \n\n       multiple_deliveries Festival            City  \n1                      1.0      No   Metropolitian   \n2                      1.0      No   Metropolitian   \n3                      1.0      No   Metropolitian   \n4                      1.0      No   Metropolitian   \n5                      1.0      No   Metropolitian   \n...                    ...      ...             ...  \n11393                  1.0      No   Metropolitian   \n11394                  1.0      No   Metropolitian   \n11395                  1.0      No   Metropolitian   \n11397                  0.0      No   Metropolitian   \n11398                  1.0      No           Urban   \n\n[10291 rows x 19 columns]",
      "text/html": "<div>\n<style scoped>\n    .dataframe tbody tr th:only-of-type {\n        vertical-align: middle;\n    }\n\n    .dataframe tbody tr th {\n        vertical-align: top;\n    }\n\n    .dataframe thead th {\n        text-align: right;\n    }\n</style>\n<table border=\"1\" class=\"dataframe\">\n  <thead>\n    <tr style=\"text-align: right;\">\n      <th></th>\n      <th>ID</th>\n      <th>Delivery_person_ID</th>\n      <th>Delivery_person_Age</th>\n      <th>Delivery_person_Ratings</th>\n      <th>Restaurant_latitude</th>\n      <th>Restaurant_longitude</th>\n      <th>Delivery_location_latitude</th>\n      <th>Delivery_location_longitude</th>\n      <th>Order_Date</th>\n      <th>Time_Orderd</th>\n      <th>Time_Order_picked</th>\n      <th>Weatherconditions</th>\n      <th>Road_traffic_density</th>\n      <th>Vehicle_condition</th>\n      <th>Type_of_order</th>\n      <th>Type_of_vehicle</th>\n      <th>multiple_deliveries</th>\n      <th>Festival</th>\n      <th>City</th>\n    </tr>\n  </thead>\n  <tbody>\n    <tr>\n      <th>1</th>\n      <td>0x3474</td>\n      <td>BANGRES15DEL01</td>\n      <td>28.0</td>\n      <td>4.6</td>\n      <td>12.975377</td>\n      <td>77.696664</td>\n      <td>13.085377</td>\n      <td>77.806664</td>\n      <td>29-03-2022</td>\n      <td>20:30:00</td>\n      <td>20:35:00</td>\n      <td>conditions Windy</td>\n      <td>Jam</td>\n      <td>0</td>\n      <td>Snack</td>\n      <td>motorcycle</td>\n      <td>1.0</td>\n      <td>No</td>\n      <td>Metropolitian</td>\n    </tr>\n    <tr>\n      <th>2</th>\n      <td>0x9420</td>\n      <td>JAPRES09DEL03</td>\n      <td>23.0</td>\n      <td>4.5</td>\n      <td>26.911378</td>\n      <td>75.789034</td>\n      <td>27.001378</td>\n      <td>75.879034</td>\n      <td>10-03-2022</td>\n      <td>19:35:00</td>\n      <td>19:45:00</td>\n      <td>conditions Stormy</td>\n      <td>Jam</td>\n      <td>0</td>\n      <td>Drinks</td>\n      <td>motorcycle</td>\n      <td>1.0</td>\n      <td>No</td>\n      <td>Metropolitian</td>\n    </tr>\n    <tr>\n      <th>3</th>\n      <td>0x72ee</td>\n      <td>JAPRES07DEL03</td>\n      <td>21.0</td>\n      <td>4.8</td>\n      <td>26.766536</td>\n      <td>75.837333</td>\n      <td>26.856536</td>\n      <td>75.927333</td>\n      <td>02-04-2022</td>\n      <td>17:15:00</td>\n      <td>17:20:00</td>\n      <td>conditions Fog</td>\n      <td>Medium</td>\n      <td>1</td>\n      <td>Meal</td>\n      <td>scooter</td>\n      <td>1.0</td>\n      <td>No</td>\n      <td>Metropolitian</td>\n    </tr>\n    <tr>\n      <th>4</th>\n      <td>0xa759</td>\n      <td>CHENRES19DEL01</td>\n      <td>31.0</td>\n      <td>4.6</td>\n      <td>12.986047</td>\n      <td>80.218114</td>\n      <td>13.096047</td>\n      <td>80.328114</td>\n      <td>27-03-2022</td>\n      <td>18:25:00</td>\n      <td>18:40:00</td>\n      <td>conditions Sunny</td>\n      <td>Medium</td>\n      <td>2</td>\n      <td>Drinks</td>\n      <td>scooter</td>\n      <td>1.0</td>\n      <td>No</td>\n      <td>Metropolitian</td>\n    </tr>\n    <tr>\n      <th>5</th>\n      <td>0xc4af</td>\n      <td>GOARES04DEL01</td>\n      <td>26.0</td>\n      <td>4.7</td>\n      <td>15.569600</td>\n      <td>73.742294</td>\n      <td>15.579600</td>\n      <td>73.752294</td>\n      <td>15-02-2022</td>\n      <td>09:45:00</td>\n      <td>09:55:00</td>\n      <td>conditions Fog</td>\n      <td>Low</td>\n      <td>0</td>\n      <td>Drinks</td>\n      <td>motorcycle</td>\n      <td>1.0</td>\n      <td>No</td>\n      <td>Metropolitian</td>\n    </tr>\n    <tr>\n      <th>...</th>\n      <td>...</td>\n      <td>...</td>\n      <td>...</td>\n      <td>...</td>\n      <td>...</td>\n      <td>...</td>\n      <td>...</td>\n      <td>...</td>\n      <td>...</td>\n      <td>...</td>\n      <td>...</td>\n      <td>...</td>\n      <td>...</td>\n      <td>...</td>\n      <td>...</td>\n      <td>...</td>\n      <td>...</td>\n      <td>...</td>\n      <td>...</td>\n    </tr>\n    <tr>\n      <th>11393</th>\n      <td>0xe240</td>\n      <td>BHPRES07DEL01</td>\n      <td>31.0</td>\n      <td>4.7</td>\n      <td>0.000000</td>\n      <td>0.000000</td>\n      <td>0.010000</td>\n      <td>0.010000</td>\n      <td>13-02-2022</td>\n      <td>11:00:00</td>\n      <td>11:10:00</td>\n      <td>conditions Windy</td>\n      <td>Low</td>\n      <td>2</td>\n      <td>Snack</td>\n      <td>scooter</td>\n      <td>1.0</td>\n      <td>No</td>\n      <td>Metropolitian</td>\n    </tr>\n    <tr>\n      <th>11394</th>\n      <td>0x6909</td>\n      <td>JAPRES01DEL01</td>\n      <td>35.0</td>\n      <td>4.6</td>\n      <td>26.905190</td>\n      <td>75.810753</td>\n      <td>27.015190</td>\n      <td>75.920753</td>\n      <td>27-03-2022</td>\n      <td>21:35:00</td>\n      <td>21:45:00</td>\n      <td>conditions Sunny</td>\n      <td>Jam</td>\n      <td>1</td>\n      <td>Snack</td>\n      <td>scooter</td>\n      <td>1.0</td>\n      <td>No</td>\n      <td>Metropolitian</td>\n    </tr>\n    <tr>\n      <th>11395</th>\n      <td>0x443b</td>\n      <td>JAPRES11DEL01</td>\n      <td>33.0</td>\n      <td>4.9</td>\n      <td>26.902940</td>\n      <td>75.793007</td>\n      <td>26.912940</td>\n      <td>75.803007</td>\n      <td>11-03-2022</td>\n      <td>11:40:00</td>\n      <td>11:45:00</td>\n      <td>conditions Sandstorms</td>\n      <td>High</td>\n      <td>1</td>\n      <td>Drinks</td>\n      <td>scooter</td>\n      <td>1.0</td>\n      <td>No</td>\n      <td>Metropolitian</td>\n    </tr>\n    <tr>\n      <th>11397</th>\n      <td>0x22d4</td>\n      <td>VADRES03DEL02</td>\n      <td>27.0</td>\n      <td>4.7</td>\n      <td>22.320000</td>\n      <td>73.170000</td>\n      <td>22.450000</td>\n      <td>73.300000</td>\n      <td>06-03-2022</td>\n      <td>18:35:00</td>\n      <td>18:40:00</td>\n      <td>conditions Sandstorms</td>\n      <td>Medium</td>\n      <td>0</td>\n      <td>Meal</td>\n      <td>motorcycle</td>\n      <td>0.0</td>\n      <td>No</td>\n      <td>Metropolitian</td>\n    </tr>\n    <tr>\n      <th>11398</th>\n      <td>0xb7be</td>\n      <td>CHENRES07DEL02</td>\n      <td>39.0</td>\n      <td>5.0</td>\n      <td>13.081878</td>\n      <td>80.248519</td>\n      <td>13.131878</td>\n      <td>80.298519</td>\n      <td>24-03-2022</td>\n      <td>22:20:00</td>\n      <td>22:25:00</td>\n      <td>conditions Windy</td>\n      <td>Low</td>\n      <td>2</td>\n      <td>Drinks</td>\n      <td>motorcycle</td>\n      <td>1.0</td>\n      <td>No</td>\n      <td>Urban</td>\n    </tr>\n  </tbody>\n</table>\n<p>10291 rows × 19 columns</p>\n</div>"
     },
     "execution_count": 5,
     "metadata": {},
     "output_type": "execute_result"
    }
   ],
   "source": [
    "train = train.dropna()\n",
    "train"
   ],
   "metadata": {
    "collapsed": false,
    "pycharm": {
     "name": "#%%\n"
    }
   }
  },
  {
   "cell_type": "markdown",
   "source": [
    "# Data Types"
   ],
   "metadata": {
    "collapsed": false,
    "pycharm": {
     "name": "#%% md\n"
    }
   }
  },
  {
   "cell_type": "code",
   "execution_count": 6,
   "outputs": [
    {
     "name": "stdout",
     "output_type": "stream",
     "text": [
      "<class 'pandas.core.frame.DataFrame'>\n",
      "Int64Index: 10291 entries, 1 to 11398\n",
      "Data columns (total 19 columns):\n",
      " #   Column                       Non-Null Count  Dtype  \n",
      "---  ------                       --------------  -----  \n",
      " 0   ID                           10291 non-null  object \n",
      " 1   Delivery_person_ID           10291 non-null  object \n",
      " 2   Delivery_person_Age          10291 non-null  float64\n",
      " 3   Delivery_person_Ratings      10291 non-null  float64\n",
      " 4   Restaurant_latitude          10291 non-null  float64\n",
      " 5   Restaurant_longitude         10291 non-null  float64\n",
      " 6   Delivery_location_latitude   10291 non-null  float64\n",
      " 7   Delivery_location_longitude  10291 non-null  float64\n",
      " 8   Order_Date                   10291 non-null  object \n",
      " 9   Time_Orderd                  10291 non-null  object \n",
      " 10  Time_Order_picked            10291 non-null  object \n",
      " 11  Weatherconditions            10291 non-null  object \n",
      " 12  Road_traffic_density         10291 non-null  object \n",
      " 13  Vehicle_condition            10291 non-null  int64  \n",
      " 14  Type_of_order                10291 non-null  object \n",
      " 15  Type_of_vehicle              10291 non-null  object \n",
      " 16  multiple_deliveries          10291 non-null  float64\n",
      " 17  Festival                     10291 non-null  object \n",
      " 18  City                         10291 non-null  object \n",
      "dtypes: float64(7), int64(1), object(11)\n",
      "memory usage: 1.6+ MB\n"
     ]
    }
   ],
   "source": [
    "train.info()"
   ],
   "metadata": {
    "collapsed": false,
    "pycharm": {
     "name": "#%%\n"
    }
   }
  },
  {
   "cell_type": "code",
   "execution_count": 7,
   "outputs": [
    {
     "data": {
      "text/plain": "            ID Delivery_person_ID  Delivery_person_Age  \\\n1      0x3474     BANGRES15DEL01                  28.0   \n2      0x9420      JAPRES09DEL03                  23.0   \n3      0x72ee      JAPRES07DEL03                  21.0   \n4      0xa759     CHENRES19DEL01                  31.0   \n5      0xc4af      GOARES04DEL01                  26.0   \n...        ...                ...                  ...   \n11393  0xe240      BHPRES07DEL01                  31.0   \n11394  0x6909      JAPRES01DEL01                  35.0   \n11395  0x443b      JAPRES11DEL01                  33.0   \n11397  0x22d4      VADRES03DEL02                  27.0   \n11398  0xb7be     CHENRES07DEL02                  39.0   \n\n       Delivery_person_Ratings  Restaurant_latitude  Restaurant_longitude  \\\n1                          4.6            12.975377             77.696664   \n2                          4.5            26.911378             75.789034   \n3                          4.8            26.766536             75.837333   \n4                          4.6            12.986047             80.218114   \n5                          4.7            15.569600             73.742294   \n...                        ...                  ...                   ...   \n11393                      4.7             0.000000              0.000000   \n11394                      4.6            26.905190             75.810753   \n11395                      4.9            26.902940             75.793007   \n11397                      4.7            22.320000             73.170000   \n11398                      5.0            13.081878             80.248519   \n\n       Delivery_location_latitude  Delivery_location_longitude  Order_Date  \\\n1                       13.085377                    77.806664  29-03-2022   \n2                       27.001378                    75.879034  10-03-2022   \n3                       26.856536                    75.927333  02-04-2022   \n4                       13.096047                    80.328114  27-03-2022   \n5                       15.579600                    73.752294  15-02-2022   \n...                           ...                          ...         ...   \n11393                    0.010000                     0.010000  13-02-2022   \n11394                   27.015190                    75.920753  27-03-2022   \n11395                   26.912940                    75.803007  11-03-2022   \n11397                   22.450000                    73.300000  06-03-2022   \n11398                   13.131878                    80.298519  24-03-2022   \n\n      Time_Orderd Time_Order_picked      Weatherconditions  \\\n1        20:30:00          20:35:00       conditions Windy   \n2        19:35:00          19:45:00      conditions Stormy   \n3        17:15:00          17:20:00         conditions Fog   \n4        18:25:00          18:40:00       conditions Sunny   \n5        09:45:00          09:55:00         conditions Fog   \n...           ...               ...                    ...   \n11393    11:00:00          11:10:00       conditions Windy   \n11394    21:35:00          21:45:00       conditions Sunny   \n11395    11:40:00          11:45:00  conditions Sandstorms   \n11397    18:35:00          18:40:00  conditions Sandstorms   \n11398    22:20:00          22:25:00       conditions Windy   \n\n      Road_traffic_density  Vehicle_condition Type_of_order Type_of_vehicle  \\\n1                     Jam                   0        Snack      motorcycle    \n2                     Jam                   0       Drinks      motorcycle    \n3                  Medium                   1         Meal         scooter    \n4                  Medium                   2       Drinks         scooter    \n5                     Low                   0       Drinks      motorcycle    \n...                    ...                ...           ...             ...   \n11393                 Low                   2        Snack         scooter    \n11394                 Jam                   1        Snack         scooter    \n11395                High                   1       Drinks         scooter    \n11397              Medium                   0         Meal      motorcycle    \n11398                 Low                   2       Drinks      motorcycle    \n\n       multiple_deliveries Festival            City  \n1                      1.0      No   Metropolitian   \n2                      1.0      No   Metropolitian   \n3                      1.0      No   Metropolitian   \n4                      1.0      No   Metropolitian   \n5                      1.0      No   Metropolitian   \n...                    ...      ...             ...  \n11393                  1.0      No   Metropolitian   \n11394                  1.0      No   Metropolitian   \n11395                  1.0      No   Metropolitian   \n11397                  0.0      No   Metropolitian   \n11398                  1.0      No           Urban   \n\n[10291 rows x 19 columns]",
      "text/html": "<div>\n<style scoped>\n    .dataframe tbody tr th:only-of-type {\n        vertical-align: middle;\n    }\n\n    .dataframe tbody tr th {\n        vertical-align: top;\n    }\n\n    .dataframe thead th {\n        text-align: right;\n    }\n</style>\n<table border=\"1\" class=\"dataframe\">\n  <thead>\n    <tr style=\"text-align: right;\">\n      <th></th>\n      <th>ID</th>\n      <th>Delivery_person_ID</th>\n      <th>Delivery_person_Age</th>\n      <th>Delivery_person_Ratings</th>\n      <th>Restaurant_latitude</th>\n      <th>Restaurant_longitude</th>\n      <th>Delivery_location_latitude</th>\n      <th>Delivery_location_longitude</th>\n      <th>Order_Date</th>\n      <th>Time_Orderd</th>\n      <th>Time_Order_picked</th>\n      <th>Weatherconditions</th>\n      <th>Road_traffic_density</th>\n      <th>Vehicle_condition</th>\n      <th>Type_of_order</th>\n      <th>Type_of_vehicle</th>\n      <th>multiple_deliveries</th>\n      <th>Festival</th>\n      <th>City</th>\n    </tr>\n  </thead>\n  <tbody>\n    <tr>\n      <th>1</th>\n      <td>0x3474</td>\n      <td>BANGRES15DEL01</td>\n      <td>28.0</td>\n      <td>4.6</td>\n      <td>12.975377</td>\n      <td>77.696664</td>\n      <td>13.085377</td>\n      <td>77.806664</td>\n      <td>29-03-2022</td>\n      <td>20:30:00</td>\n      <td>20:35:00</td>\n      <td>conditions Windy</td>\n      <td>Jam</td>\n      <td>0</td>\n      <td>Snack</td>\n      <td>motorcycle</td>\n      <td>1.0</td>\n      <td>No</td>\n      <td>Metropolitian</td>\n    </tr>\n    <tr>\n      <th>2</th>\n      <td>0x9420</td>\n      <td>JAPRES09DEL03</td>\n      <td>23.0</td>\n      <td>4.5</td>\n      <td>26.911378</td>\n      <td>75.789034</td>\n      <td>27.001378</td>\n      <td>75.879034</td>\n      <td>10-03-2022</td>\n      <td>19:35:00</td>\n      <td>19:45:00</td>\n      <td>conditions Stormy</td>\n      <td>Jam</td>\n      <td>0</td>\n      <td>Drinks</td>\n      <td>motorcycle</td>\n      <td>1.0</td>\n      <td>No</td>\n      <td>Metropolitian</td>\n    </tr>\n    <tr>\n      <th>3</th>\n      <td>0x72ee</td>\n      <td>JAPRES07DEL03</td>\n      <td>21.0</td>\n      <td>4.8</td>\n      <td>26.766536</td>\n      <td>75.837333</td>\n      <td>26.856536</td>\n      <td>75.927333</td>\n      <td>02-04-2022</td>\n      <td>17:15:00</td>\n      <td>17:20:00</td>\n      <td>conditions Fog</td>\n      <td>Medium</td>\n      <td>1</td>\n      <td>Meal</td>\n      <td>scooter</td>\n      <td>1.0</td>\n      <td>No</td>\n      <td>Metropolitian</td>\n    </tr>\n    <tr>\n      <th>4</th>\n      <td>0xa759</td>\n      <td>CHENRES19DEL01</td>\n      <td>31.0</td>\n      <td>4.6</td>\n      <td>12.986047</td>\n      <td>80.218114</td>\n      <td>13.096047</td>\n      <td>80.328114</td>\n      <td>27-03-2022</td>\n      <td>18:25:00</td>\n      <td>18:40:00</td>\n      <td>conditions Sunny</td>\n      <td>Medium</td>\n      <td>2</td>\n      <td>Drinks</td>\n      <td>scooter</td>\n      <td>1.0</td>\n      <td>No</td>\n      <td>Metropolitian</td>\n    </tr>\n    <tr>\n      <th>5</th>\n      <td>0xc4af</td>\n      <td>GOARES04DEL01</td>\n      <td>26.0</td>\n      <td>4.7</td>\n      <td>15.569600</td>\n      <td>73.742294</td>\n      <td>15.579600</td>\n      <td>73.752294</td>\n      <td>15-02-2022</td>\n      <td>09:45:00</td>\n      <td>09:55:00</td>\n      <td>conditions Fog</td>\n      <td>Low</td>\n      <td>0</td>\n      <td>Drinks</td>\n      <td>motorcycle</td>\n      <td>1.0</td>\n      <td>No</td>\n      <td>Metropolitian</td>\n    </tr>\n    <tr>\n      <th>...</th>\n      <td>...</td>\n      <td>...</td>\n      <td>...</td>\n      <td>...</td>\n      <td>...</td>\n      <td>...</td>\n      <td>...</td>\n      <td>...</td>\n      <td>...</td>\n      <td>...</td>\n      <td>...</td>\n      <td>...</td>\n      <td>...</td>\n      <td>...</td>\n      <td>...</td>\n      <td>...</td>\n      <td>...</td>\n      <td>...</td>\n      <td>...</td>\n    </tr>\n    <tr>\n      <th>11393</th>\n      <td>0xe240</td>\n      <td>BHPRES07DEL01</td>\n      <td>31.0</td>\n      <td>4.7</td>\n      <td>0.000000</td>\n      <td>0.000000</td>\n      <td>0.010000</td>\n      <td>0.010000</td>\n      <td>13-02-2022</td>\n      <td>11:00:00</td>\n      <td>11:10:00</td>\n      <td>conditions Windy</td>\n      <td>Low</td>\n      <td>2</td>\n      <td>Snack</td>\n      <td>scooter</td>\n      <td>1.0</td>\n      <td>No</td>\n      <td>Metropolitian</td>\n    </tr>\n    <tr>\n      <th>11394</th>\n      <td>0x6909</td>\n      <td>JAPRES01DEL01</td>\n      <td>35.0</td>\n      <td>4.6</td>\n      <td>26.905190</td>\n      <td>75.810753</td>\n      <td>27.015190</td>\n      <td>75.920753</td>\n      <td>27-03-2022</td>\n      <td>21:35:00</td>\n      <td>21:45:00</td>\n      <td>conditions Sunny</td>\n      <td>Jam</td>\n      <td>1</td>\n      <td>Snack</td>\n      <td>scooter</td>\n      <td>1.0</td>\n      <td>No</td>\n      <td>Metropolitian</td>\n    </tr>\n    <tr>\n      <th>11395</th>\n      <td>0x443b</td>\n      <td>JAPRES11DEL01</td>\n      <td>33.0</td>\n      <td>4.9</td>\n      <td>26.902940</td>\n      <td>75.793007</td>\n      <td>26.912940</td>\n      <td>75.803007</td>\n      <td>11-03-2022</td>\n      <td>11:40:00</td>\n      <td>11:45:00</td>\n      <td>conditions Sandstorms</td>\n      <td>High</td>\n      <td>1</td>\n      <td>Drinks</td>\n      <td>scooter</td>\n      <td>1.0</td>\n      <td>No</td>\n      <td>Metropolitian</td>\n    </tr>\n    <tr>\n      <th>11397</th>\n      <td>0x22d4</td>\n      <td>VADRES03DEL02</td>\n      <td>27.0</td>\n      <td>4.7</td>\n      <td>22.320000</td>\n      <td>73.170000</td>\n      <td>22.450000</td>\n      <td>73.300000</td>\n      <td>06-03-2022</td>\n      <td>18:35:00</td>\n      <td>18:40:00</td>\n      <td>conditions Sandstorms</td>\n      <td>Medium</td>\n      <td>0</td>\n      <td>Meal</td>\n      <td>motorcycle</td>\n      <td>0.0</td>\n      <td>No</td>\n      <td>Metropolitian</td>\n    </tr>\n    <tr>\n      <th>11398</th>\n      <td>0xb7be</td>\n      <td>CHENRES07DEL02</td>\n      <td>39.0</td>\n      <td>5.0</td>\n      <td>13.081878</td>\n      <td>80.248519</td>\n      <td>13.131878</td>\n      <td>80.298519</td>\n      <td>24-03-2022</td>\n      <td>22:20:00</td>\n      <td>22:25:00</td>\n      <td>conditions Windy</td>\n      <td>Low</td>\n      <td>2</td>\n      <td>Drinks</td>\n      <td>motorcycle</td>\n      <td>1.0</td>\n      <td>No</td>\n      <td>Urban</td>\n    </tr>\n  </tbody>\n</table>\n<p>10291 rows × 19 columns</p>\n</div>"
     },
     "execution_count": 7,
     "metadata": {},
     "output_type": "execute_result"
    }
   ],
   "source": [
    "train"
   ],
   "metadata": {
    "collapsed": false,
    "pycharm": {
     "name": "#%%\n"
    }
   }
  },
  {
   "cell_type": "code",
   "execution_count": 8,
   "outputs": [
    {
     "name": "stderr",
     "output_type": "stream",
     "text": [
      "/var/folders/16/d07v8kdd2qb3djgtmt__w9480000gn/T/ipykernel_89020/2500660917.py:1: SettingWithCopyWarning: \n",
      "A value is trying to be set on a copy of a slice from a DataFrame.\n",
      "Try using .loc[row_indexer,col_indexer] = value instead\n",
      "\n",
      "See the caveats in the documentation: https://pandas.pydata.org/pandas-docs/stable/user_guide/indexing.html#returning-a-view-versus-a-copy\n",
      "  train['Order_Date'] = pd.to_datetime(train['Order_Date'], infer_datetime_format=True)\n",
      "/var/folders/16/d07v8kdd2qb3djgtmt__w9480000gn/T/ipykernel_89020/2500660917.py:2: SettingWithCopyWarning: \n",
      "A value is trying to be set on a copy of a slice from a DataFrame.\n",
      "Try using .loc[row_indexer,col_indexer] = value instead\n",
      "\n",
      "See the caveats in the documentation: https://pandas.pydata.org/pandas-docs/stable/user_guide/indexing.html#returning-a-view-versus-a-copy\n",
      "  train['Time_Order_picked'] = pd.to_datetime(train['Time_Order_picked'], format='%H:%M:%S').dt.time\n",
      "/var/folders/16/d07v8kdd2qb3djgtmt__w9480000gn/T/ipykernel_89020/2500660917.py:3: SettingWithCopyWarning: \n",
      "A value is trying to be set on a copy of a slice from a DataFrame.\n",
      "Try using .loc[row_indexer,col_indexer] = value instead\n",
      "\n",
      "See the caveats in the documentation: https://pandas.pydata.org/pandas-docs/stable/user_guide/indexing.html#returning-a-view-versus-a-copy\n",
      "  train['Time_Orderd'] = pd.to_datetime(train['Time_Orderd'], format='%H:%M:%S').dt.time\n"
     ]
    },
    {
     "data": {
      "text/plain": "            ID Delivery_person_ID  Delivery_person_Age  \\\n1      0x3474     BANGRES15DEL01                  28.0   \n2      0x9420      JAPRES09DEL03                  23.0   \n3      0x72ee      JAPRES07DEL03                  21.0   \n4      0xa759     CHENRES19DEL01                  31.0   \n5      0xc4af      GOARES04DEL01                  26.0   \n...        ...                ...                  ...   \n11393  0xe240      BHPRES07DEL01                  31.0   \n11394  0x6909      JAPRES01DEL01                  35.0   \n11395  0x443b      JAPRES11DEL01                  33.0   \n11397  0x22d4      VADRES03DEL02                  27.0   \n11398  0xb7be     CHENRES07DEL02                  39.0   \n\n       Delivery_person_Ratings  Restaurant_latitude  Restaurant_longitude  \\\n1                          4.6            12.975377             77.696664   \n2                          4.5            26.911378             75.789034   \n3                          4.8            26.766536             75.837333   \n4                          4.6            12.986047             80.218114   \n5                          4.7            15.569600             73.742294   \n...                        ...                  ...                   ...   \n11393                      4.7             0.000000              0.000000   \n11394                      4.6            26.905190             75.810753   \n11395                      4.9            26.902940             75.793007   \n11397                      4.7            22.320000             73.170000   \n11398                      5.0            13.081878             80.248519   \n\n       Delivery_location_latitude  Delivery_location_longitude Order_Date  \\\n1                       13.085377                    77.806664 2022-03-29   \n2                       27.001378                    75.879034 2022-03-10   \n3                       26.856536                    75.927333 2022-04-02   \n4                       13.096047                    80.328114 2022-03-27   \n5                       15.579600                    73.752294 2022-02-15   \n...                           ...                          ...        ...   \n11393                    0.010000                     0.010000 2022-02-13   \n11394                   27.015190                    75.920753 2022-03-27   \n11395                   26.912940                    75.803007 2022-03-11   \n11397                   22.450000                    73.300000 2022-03-06   \n11398                   13.131878                    80.298519 2022-03-24   \n\n      Time_Orderd Time_Order_picked      Weatherconditions  \\\n1        20:30:00          20:35:00       conditions Windy   \n2        19:35:00          19:45:00      conditions Stormy   \n3        17:15:00          17:20:00         conditions Fog   \n4        18:25:00          18:40:00       conditions Sunny   \n5        09:45:00          09:55:00         conditions Fog   \n...           ...               ...                    ...   \n11393    11:00:00          11:10:00       conditions Windy   \n11394    21:35:00          21:45:00       conditions Sunny   \n11395    11:40:00          11:45:00  conditions Sandstorms   \n11397    18:35:00          18:40:00  conditions Sandstorms   \n11398    22:20:00          22:25:00       conditions Windy   \n\n      Road_traffic_density  Vehicle_condition Type_of_order Type_of_vehicle  \\\n1                     Jam                   0        Snack      motorcycle    \n2                     Jam                   0       Drinks      motorcycle    \n3                  Medium                   1         Meal         scooter    \n4                  Medium                   2       Drinks         scooter    \n5                     Low                   0       Drinks      motorcycle    \n...                    ...                ...           ...             ...   \n11393                 Low                   2        Snack         scooter    \n11394                 Jam                   1        Snack         scooter    \n11395                High                   1       Drinks         scooter    \n11397              Medium                   0         Meal      motorcycle    \n11398                 Low                   2       Drinks      motorcycle    \n\n       multiple_deliveries Festival            City  \n1                      1.0      No   Metropolitian   \n2                      1.0      No   Metropolitian   \n3                      1.0      No   Metropolitian   \n4                      1.0      No   Metropolitian   \n5                      1.0      No   Metropolitian   \n...                    ...      ...             ...  \n11393                  1.0      No   Metropolitian   \n11394                  1.0      No   Metropolitian   \n11395                  1.0      No   Metropolitian   \n11397                  0.0      No   Metropolitian   \n11398                  1.0      No           Urban   \n\n[10291 rows x 19 columns]",
      "text/html": "<div>\n<style scoped>\n    .dataframe tbody tr th:only-of-type {\n        vertical-align: middle;\n    }\n\n    .dataframe tbody tr th {\n        vertical-align: top;\n    }\n\n    .dataframe thead th {\n        text-align: right;\n    }\n</style>\n<table border=\"1\" class=\"dataframe\">\n  <thead>\n    <tr style=\"text-align: right;\">\n      <th></th>\n      <th>ID</th>\n      <th>Delivery_person_ID</th>\n      <th>Delivery_person_Age</th>\n      <th>Delivery_person_Ratings</th>\n      <th>Restaurant_latitude</th>\n      <th>Restaurant_longitude</th>\n      <th>Delivery_location_latitude</th>\n      <th>Delivery_location_longitude</th>\n      <th>Order_Date</th>\n      <th>Time_Orderd</th>\n      <th>Time_Order_picked</th>\n      <th>Weatherconditions</th>\n      <th>Road_traffic_density</th>\n      <th>Vehicle_condition</th>\n      <th>Type_of_order</th>\n      <th>Type_of_vehicle</th>\n      <th>multiple_deliveries</th>\n      <th>Festival</th>\n      <th>City</th>\n    </tr>\n  </thead>\n  <tbody>\n    <tr>\n      <th>1</th>\n      <td>0x3474</td>\n      <td>BANGRES15DEL01</td>\n      <td>28.0</td>\n      <td>4.6</td>\n      <td>12.975377</td>\n      <td>77.696664</td>\n      <td>13.085377</td>\n      <td>77.806664</td>\n      <td>2022-03-29</td>\n      <td>20:30:00</td>\n      <td>20:35:00</td>\n      <td>conditions Windy</td>\n      <td>Jam</td>\n      <td>0</td>\n      <td>Snack</td>\n      <td>motorcycle</td>\n      <td>1.0</td>\n      <td>No</td>\n      <td>Metropolitian</td>\n    </tr>\n    <tr>\n      <th>2</th>\n      <td>0x9420</td>\n      <td>JAPRES09DEL03</td>\n      <td>23.0</td>\n      <td>4.5</td>\n      <td>26.911378</td>\n      <td>75.789034</td>\n      <td>27.001378</td>\n      <td>75.879034</td>\n      <td>2022-03-10</td>\n      <td>19:35:00</td>\n      <td>19:45:00</td>\n      <td>conditions Stormy</td>\n      <td>Jam</td>\n      <td>0</td>\n      <td>Drinks</td>\n      <td>motorcycle</td>\n      <td>1.0</td>\n      <td>No</td>\n      <td>Metropolitian</td>\n    </tr>\n    <tr>\n      <th>3</th>\n      <td>0x72ee</td>\n      <td>JAPRES07DEL03</td>\n      <td>21.0</td>\n      <td>4.8</td>\n      <td>26.766536</td>\n      <td>75.837333</td>\n      <td>26.856536</td>\n      <td>75.927333</td>\n      <td>2022-04-02</td>\n      <td>17:15:00</td>\n      <td>17:20:00</td>\n      <td>conditions Fog</td>\n      <td>Medium</td>\n      <td>1</td>\n      <td>Meal</td>\n      <td>scooter</td>\n      <td>1.0</td>\n      <td>No</td>\n      <td>Metropolitian</td>\n    </tr>\n    <tr>\n      <th>4</th>\n      <td>0xa759</td>\n      <td>CHENRES19DEL01</td>\n      <td>31.0</td>\n      <td>4.6</td>\n      <td>12.986047</td>\n      <td>80.218114</td>\n      <td>13.096047</td>\n      <td>80.328114</td>\n      <td>2022-03-27</td>\n      <td>18:25:00</td>\n      <td>18:40:00</td>\n      <td>conditions Sunny</td>\n      <td>Medium</td>\n      <td>2</td>\n      <td>Drinks</td>\n      <td>scooter</td>\n      <td>1.0</td>\n      <td>No</td>\n      <td>Metropolitian</td>\n    </tr>\n    <tr>\n      <th>5</th>\n      <td>0xc4af</td>\n      <td>GOARES04DEL01</td>\n      <td>26.0</td>\n      <td>4.7</td>\n      <td>15.569600</td>\n      <td>73.742294</td>\n      <td>15.579600</td>\n      <td>73.752294</td>\n      <td>2022-02-15</td>\n      <td>09:45:00</td>\n      <td>09:55:00</td>\n      <td>conditions Fog</td>\n      <td>Low</td>\n      <td>0</td>\n      <td>Drinks</td>\n      <td>motorcycle</td>\n      <td>1.0</td>\n      <td>No</td>\n      <td>Metropolitian</td>\n    </tr>\n    <tr>\n      <th>...</th>\n      <td>...</td>\n      <td>...</td>\n      <td>...</td>\n      <td>...</td>\n      <td>...</td>\n      <td>...</td>\n      <td>...</td>\n      <td>...</td>\n      <td>...</td>\n      <td>...</td>\n      <td>...</td>\n      <td>...</td>\n      <td>...</td>\n      <td>...</td>\n      <td>...</td>\n      <td>...</td>\n      <td>...</td>\n      <td>...</td>\n      <td>...</td>\n    </tr>\n    <tr>\n      <th>11393</th>\n      <td>0xe240</td>\n      <td>BHPRES07DEL01</td>\n      <td>31.0</td>\n      <td>4.7</td>\n      <td>0.000000</td>\n      <td>0.000000</td>\n      <td>0.010000</td>\n      <td>0.010000</td>\n      <td>2022-02-13</td>\n      <td>11:00:00</td>\n      <td>11:10:00</td>\n      <td>conditions Windy</td>\n      <td>Low</td>\n      <td>2</td>\n      <td>Snack</td>\n      <td>scooter</td>\n      <td>1.0</td>\n      <td>No</td>\n      <td>Metropolitian</td>\n    </tr>\n    <tr>\n      <th>11394</th>\n      <td>0x6909</td>\n      <td>JAPRES01DEL01</td>\n      <td>35.0</td>\n      <td>4.6</td>\n      <td>26.905190</td>\n      <td>75.810753</td>\n      <td>27.015190</td>\n      <td>75.920753</td>\n      <td>2022-03-27</td>\n      <td>21:35:00</td>\n      <td>21:45:00</td>\n      <td>conditions Sunny</td>\n      <td>Jam</td>\n      <td>1</td>\n      <td>Snack</td>\n      <td>scooter</td>\n      <td>1.0</td>\n      <td>No</td>\n      <td>Metropolitian</td>\n    </tr>\n    <tr>\n      <th>11395</th>\n      <td>0x443b</td>\n      <td>JAPRES11DEL01</td>\n      <td>33.0</td>\n      <td>4.9</td>\n      <td>26.902940</td>\n      <td>75.793007</td>\n      <td>26.912940</td>\n      <td>75.803007</td>\n      <td>2022-03-11</td>\n      <td>11:40:00</td>\n      <td>11:45:00</td>\n      <td>conditions Sandstorms</td>\n      <td>High</td>\n      <td>1</td>\n      <td>Drinks</td>\n      <td>scooter</td>\n      <td>1.0</td>\n      <td>No</td>\n      <td>Metropolitian</td>\n    </tr>\n    <tr>\n      <th>11397</th>\n      <td>0x22d4</td>\n      <td>VADRES03DEL02</td>\n      <td>27.0</td>\n      <td>4.7</td>\n      <td>22.320000</td>\n      <td>73.170000</td>\n      <td>22.450000</td>\n      <td>73.300000</td>\n      <td>2022-03-06</td>\n      <td>18:35:00</td>\n      <td>18:40:00</td>\n      <td>conditions Sandstorms</td>\n      <td>Medium</td>\n      <td>0</td>\n      <td>Meal</td>\n      <td>motorcycle</td>\n      <td>0.0</td>\n      <td>No</td>\n      <td>Metropolitian</td>\n    </tr>\n    <tr>\n      <th>11398</th>\n      <td>0xb7be</td>\n      <td>CHENRES07DEL02</td>\n      <td>39.0</td>\n      <td>5.0</td>\n      <td>13.081878</td>\n      <td>80.248519</td>\n      <td>13.131878</td>\n      <td>80.298519</td>\n      <td>2022-03-24</td>\n      <td>22:20:00</td>\n      <td>22:25:00</td>\n      <td>conditions Windy</td>\n      <td>Low</td>\n      <td>2</td>\n      <td>Drinks</td>\n      <td>motorcycle</td>\n      <td>1.0</td>\n      <td>No</td>\n      <td>Urban</td>\n    </tr>\n  </tbody>\n</table>\n<p>10291 rows × 19 columns</p>\n</div>"
     },
     "execution_count": 8,
     "metadata": {},
     "output_type": "execute_result"
    }
   ],
   "source": [
    "train['Order_Date'] = pd.to_datetime(train['Order_Date'], infer_datetime_format=True)\n",
    "train['Time_Order_picked'] = pd.to_datetime(train['Time_Order_picked'], format='%H:%M:%S').dt.time\n",
    "train['Time_Orderd'] = pd.to_datetime(train['Time_Orderd'], format='%H:%M:%S').dt.time\n",
    "train"
   ],
   "metadata": {
    "collapsed": false,
    "pycharm": {
     "name": "#%%\n"
    }
   }
  },
  {
   "cell_type": "markdown",
   "source": [
    "# Changing Categorical Naming"
   ],
   "metadata": {
    "collapsed": false,
    "pycharm": {
     "name": "#%% md\n"
    }
   }
  },
  {
   "cell_type": "code",
   "execution_count": 9,
   "outputs": [
    {
     "name": "stderr",
     "output_type": "stream",
     "text": [
      "/var/folders/16/d07v8kdd2qb3djgtmt__w9480000gn/T/ipykernel_89020/378108714.py:2: SettingWithCopyWarning: \n",
      "A value is trying to be set on a copy of a slice from a DataFrame.\n",
      "Try using .loc[row_indexer,col_indexer] = value instead\n",
      "\n",
      "See the caveats in the documentation: https://pandas.pydata.org/pandas-docs/stable/user_guide/indexing.html#returning-a-view-versus-a-copy\n",
      "  train['Weatherconditions'] = train['Weatherconditions'].str.replace('conditions ', '')\n"
     ]
    }
   ],
   "source": [
    "#train['Time_taken(min)'] = train['Time_taken(min)'].str.extract('(\\d+)').astype(int)\n",
    "train['Weatherconditions'] = train['Weatherconditions'].str.replace('conditions ', '')"
   ],
   "metadata": {
    "collapsed": false,
    "pycharm": {
     "name": "#%%\n"
    }
   }
  },
  {
   "cell_type": "markdown",
   "source": [
    "# Saving the dataset"
   ],
   "metadata": {
    "collapsed": false,
    "pycharm": {
     "name": "#%% md\n"
    }
   }
  },
  {
   "cell_type": "code",
   "execution_count": 10,
   "outputs": [],
   "source": [
    "train.reset_index(drop=True, inplace=True)"
   ],
   "metadata": {
    "collapsed": false,
    "pycharm": {
     "name": "#%%\n"
    }
   }
  },
  {
   "cell_type": "code",
   "execution_count": 11,
   "outputs": [],
   "source": [
    "train.to_csv('data/test_clean.csv')"
   ],
   "metadata": {
    "collapsed": false,
    "pycharm": {
     "name": "#%%\n"
    }
   }
  },
  {
   "cell_type": "code",
   "execution_count": 11,
   "outputs": [],
   "source": [],
   "metadata": {
    "collapsed": false,
    "pycharm": {
     "name": "#%%\n"
    }
   }
  }
 ],
 "metadata": {
  "kernelspec": {
   "display_name": "Python 3",
   "language": "python",
   "name": "python3"
  },
  "language_info": {
   "codemirror_mode": {
    "name": "ipython",
    "version": 2
   },
   "file_extension": ".py",
   "mimetype": "text/x-python",
   "name": "python",
   "nbconvert_exporter": "python",
   "pygments_lexer": "ipython2",
   "version": "2.7.6"
  }
 },
 "nbformat": 4,
 "nbformat_minor": 0
}