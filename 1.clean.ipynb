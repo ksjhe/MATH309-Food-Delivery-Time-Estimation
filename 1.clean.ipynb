{
 "cells": [
  {
   "cell_type": "code",
   "execution_count": 27,
   "outputs": [],
   "source": [
    "# imports\n",
    "import numpy as np\n",
    "import pandas as pd"
   ],
   "metadata": {
    "collapsed": false,
    "pycharm": {
     "name": "#%%\n"
    }
   }
  },
  {
   "cell_type": "code",
   "execution_count": 28,
   "outputs": [
    {
     "data": {
      "text/plain": "            ID Delivery_person_ID  Delivery_person_Age  \\\n0      0x4607     INDORES13DEL02                  37.0   \n1      0xb379     BANGRES18DEL02                  34.0   \n2      0x5d6d     BANGRES19DEL01                  23.0   \n3      0x7a6a    COIMBRES13DEL02                  38.0   \n4      0x70a2     CHENRES12DEL01                  32.0   \n...        ...                ...                  ...   \n45589  0xd641      AGRRES16DEL01                  21.0   \n45590  0x4f8d     CHENRES08DEL03                  30.0   \n45591  0x5eee    COIMBRES11DEL01                  20.0   \n45592  0x5fb2   RANCHIRES09DEL02                  23.0   \n45593      NaN                NaN                  NaN   \n\n       Delivery_person_Ratings  Restaurant_latitude  Restaurant_longitude  \\\n0                          4.9            22.745049             75.892471   \n1                          4.5            12.913041             77.683237   \n2                          4.4            12.914264             77.678400   \n3                          4.7            11.003669             76.976494   \n4                          4.6            12.972793             80.249982   \n...                        ...                  ...                   ...   \n45589                      4.6             0.000000              0.000000   \n45590                      4.9            13.022394             80.242439   \n45591                      4.7            11.001753             76.986241   \n45592                      4.9            23.351058             85.325731   \n45593                      NaN                  NaN                   NaN   \n\n       Delivery_location_latitude  Delivery_location_longitude  Order_Date  \\\n0                       22.765049                    75.912471  19-03-2022   \n1                       13.043041                    77.813237  25-03-2022   \n2                       12.924264                    77.688400  19-03-2022   \n3                       11.053669                    77.026494  05-04-2022   \n4                       13.012793                    80.289982  26-03-2022   \n...                           ...                          ...         ...   \n45589                    0.070000                     0.070000  16-02-2022   \n45590                   13.052394                    80.272439  11-03-2022   \n45591                   11.041753                    77.026241  07-03-2022   \n45592                   23.431058                    85.405731  02-03-2022   \n45593                         NaN                          NaN         NaN   \n\n      Time_Orderd Time_Order_picked      Weatherconditions  \\\n0        11:30:00          11:45:00       conditions Sunny   \n1        19:45:00          19:50:00      conditions Stormy   \n2        08:30:00          08:45:00  conditions Sandstorms   \n3        18:00:00          18:10:00       conditions Sunny   \n4        13:30:00          13:45:00      conditions Cloudy   \n...           ...               ...                    ...   \n45589    19:55:00          20:10:00       conditions Windy   \n45590    23:50:00          00:05:00      conditions Cloudy   \n45591    13:35:00          13:40:00      conditions Cloudy   \n45592    17:10:00          17:15:00         conditions Fog   \n45593         NaN               NaN                    NaN   \n\n      Road_traffic_density  Vehicle_condition Type_of_order Type_of_vehicle  \\\n0                    High                 2.0        Snack      motorcycle    \n1                     Jam                 2.0        Snack         scooter    \n2                     Low                 0.0       Drinks      motorcycle    \n3                  Medium                 0.0       Buffet      motorcycle    \n4                    High                 1.0        Snack         scooter    \n...                    ...                ...           ...             ...   \n45589                 Jam                 0.0       Buffet      motorcycle    \n45590                 Low                 1.0       Drinks         scooter    \n45591                High                 0.0        Snack      motorcycle    \n45592              Medium                 2.0        Snack         scooter    \n45593                  NaN                NaN           NaN             NaN   \n\n       multiple_deliveries Festival            City Time_taken(min)  \n0                      0.0      No           Urban         (min) 24  \n1                      1.0      No   Metropolitian         (min) 33  \n2                      1.0      No           Urban         (min) 26  \n3                      1.0      No   Metropolitian         (min) 21  \n4                      1.0      No   Metropolitian         (min) 30  \n...                    ...      ...             ...             ...  \n45589                  1.0      No   Metropolitian         (min) 36  \n45590                  0.0      No   Metropolitian         (min) 16  \n45591                  1.0      No   Metropolitian         (min) 26  \n45592                  1.0      No   Metropolitian         (min) 36  \n45593                  NaN      NaN             NaN             NaN  \n\n[45594 rows x 20 columns]",
      "text/html": "<div>\n<style scoped>\n    .dataframe tbody tr th:only-of-type {\n        vertical-align: middle;\n    }\n\n    .dataframe tbody tr th {\n        vertical-align: top;\n    }\n\n    .dataframe thead th {\n        text-align: right;\n    }\n</style>\n<table border=\"1\" class=\"dataframe\">\n  <thead>\n    <tr style=\"text-align: right;\">\n      <th></th>\n      <th>ID</th>\n      <th>Delivery_person_ID</th>\n      <th>Delivery_person_Age</th>\n      <th>Delivery_person_Ratings</th>\n      <th>Restaurant_latitude</th>\n      <th>Restaurant_longitude</th>\n      <th>Delivery_location_latitude</th>\n      <th>Delivery_location_longitude</th>\n      <th>Order_Date</th>\n      <th>Time_Orderd</th>\n      <th>Time_Order_picked</th>\n      <th>Weatherconditions</th>\n      <th>Road_traffic_density</th>\n      <th>Vehicle_condition</th>\n      <th>Type_of_order</th>\n      <th>Type_of_vehicle</th>\n      <th>multiple_deliveries</th>\n      <th>Festival</th>\n      <th>City</th>\n      <th>Time_taken(min)</th>\n    </tr>\n  </thead>\n  <tbody>\n    <tr>\n      <th>0</th>\n      <td>0x4607</td>\n      <td>INDORES13DEL02</td>\n      <td>37.0</td>\n      <td>4.9</td>\n      <td>22.745049</td>\n      <td>75.892471</td>\n      <td>22.765049</td>\n      <td>75.912471</td>\n      <td>19-03-2022</td>\n      <td>11:30:00</td>\n      <td>11:45:00</td>\n      <td>conditions Sunny</td>\n      <td>High</td>\n      <td>2.0</td>\n      <td>Snack</td>\n      <td>motorcycle</td>\n      <td>0.0</td>\n      <td>No</td>\n      <td>Urban</td>\n      <td>(min) 24</td>\n    </tr>\n    <tr>\n      <th>1</th>\n      <td>0xb379</td>\n      <td>BANGRES18DEL02</td>\n      <td>34.0</td>\n      <td>4.5</td>\n      <td>12.913041</td>\n      <td>77.683237</td>\n      <td>13.043041</td>\n      <td>77.813237</td>\n      <td>25-03-2022</td>\n      <td>19:45:00</td>\n      <td>19:50:00</td>\n      <td>conditions Stormy</td>\n      <td>Jam</td>\n      <td>2.0</td>\n      <td>Snack</td>\n      <td>scooter</td>\n      <td>1.0</td>\n      <td>No</td>\n      <td>Metropolitian</td>\n      <td>(min) 33</td>\n    </tr>\n    <tr>\n      <th>2</th>\n      <td>0x5d6d</td>\n      <td>BANGRES19DEL01</td>\n      <td>23.0</td>\n      <td>4.4</td>\n      <td>12.914264</td>\n      <td>77.678400</td>\n      <td>12.924264</td>\n      <td>77.688400</td>\n      <td>19-03-2022</td>\n      <td>08:30:00</td>\n      <td>08:45:00</td>\n      <td>conditions Sandstorms</td>\n      <td>Low</td>\n      <td>0.0</td>\n      <td>Drinks</td>\n      <td>motorcycle</td>\n      <td>1.0</td>\n      <td>No</td>\n      <td>Urban</td>\n      <td>(min) 26</td>\n    </tr>\n    <tr>\n      <th>3</th>\n      <td>0x7a6a</td>\n      <td>COIMBRES13DEL02</td>\n      <td>38.0</td>\n      <td>4.7</td>\n      <td>11.003669</td>\n      <td>76.976494</td>\n      <td>11.053669</td>\n      <td>77.026494</td>\n      <td>05-04-2022</td>\n      <td>18:00:00</td>\n      <td>18:10:00</td>\n      <td>conditions Sunny</td>\n      <td>Medium</td>\n      <td>0.0</td>\n      <td>Buffet</td>\n      <td>motorcycle</td>\n      <td>1.0</td>\n      <td>No</td>\n      <td>Metropolitian</td>\n      <td>(min) 21</td>\n    </tr>\n    <tr>\n      <th>4</th>\n      <td>0x70a2</td>\n      <td>CHENRES12DEL01</td>\n      <td>32.0</td>\n      <td>4.6</td>\n      <td>12.972793</td>\n      <td>80.249982</td>\n      <td>13.012793</td>\n      <td>80.289982</td>\n      <td>26-03-2022</td>\n      <td>13:30:00</td>\n      <td>13:45:00</td>\n      <td>conditions Cloudy</td>\n      <td>High</td>\n      <td>1.0</td>\n      <td>Snack</td>\n      <td>scooter</td>\n      <td>1.0</td>\n      <td>No</td>\n      <td>Metropolitian</td>\n      <td>(min) 30</td>\n    </tr>\n    <tr>\n      <th>...</th>\n      <td>...</td>\n      <td>...</td>\n      <td>...</td>\n      <td>...</td>\n      <td>...</td>\n      <td>...</td>\n      <td>...</td>\n      <td>...</td>\n      <td>...</td>\n      <td>...</td>\n      <td>...</td>\n      <td>...</td>\n      <td>...</td>\n      <td>...</td>\n      <td>...</td>\n      <td>...</td>\n      <td>...</td>\n      <td>...</td>\n      <td>...</td>\n      <td>...</td>\n    </tr>\n    <tr>\n      <th>45589</th>\n      <td>0xd641</td>\n      <td>AGRRES16DEL01</td>\n      <td>21.0</td>\n      <td>4.6</td>\n      <td>0.000000</td>\n      <td>0.000000</td>\n      <td>0.070000</td>\n      <td>0.070000</td>\n      <td>16-02-2022</td>\n      <td>19:55:00</td>\n      <td>20:10:00</td>\n      <td>conditions Windy</td>\n      <td>Jam</td>\n      <td>0.0</td>\n      <td>Buffet</td>\n      <td>motorcycle</td>\n      <td>1.0</td>\n      <td>No</td>\n      <td>Metropolitian</td>\n      <td>(min) 36</td>\n    </tr>\n    <tr>\n      <th>45590</th>\n      <td>0x4f8d</td>\n      <td>CHENRES08DEL03</td>\n      <td>30.0</td>\n      <td>4.9</td>\n      <td>13.022394</td>\n      <td>80.242439</td>\n      <td>13.052394</td>\n      <td>80.272439</td>\n      <td>11-03-2022</td>\n      <td>23:50:00</td>\n      <td>00:05:00</td>\n      <td>conditions Cloudy</td>\n      <td>Low</td>\n      <td>1.0</td>\n      <td>Drinks</td>\n      <td>scooter</td>\n      <td>0.0</td>\n      <td>No</td>\n      <td>Metropolitian</td>\n      <td>(min) 16</td>\n    </tr>\n    <tr>\n      <th>45591</th>\n      <td>0x5eee</td>\n      <td>COIMBRES11DEL01</td>\n      <td>20.0</td>\n      <td>4.7</td>\n      <td>11.001753</td>\n      <td>76.986241</td>\n      <td>11.041753</td>\n      <td>77.026241</td>\n      <td>07-03-2022</td>\n      <td>13:35:00</td>\n      <td>13:40:00</td>\n      <td>conditions Cloudy</td>\n      <td>High</td>\n      <td>0.0</td>\n      <td>Snack</td>\n      <td>motorcycle</td>\n      <td>1.0</td>\n      <td>No</td>\n      <td>Metropolitian</td>\n      <td>(min) 26</td>\n    </tr>\n    <tr>\n      <th>45592</th>\n      <td>0x5fb2</td>\n      <td>RANCHIRES09DEL02</td>\n      <td>23.0</td>\n      <td>4.9</td>\n      <td>23.351058</td>\n      <td>85.325731</td>\n      <td>23.431058</td>\n      <td>85.405731</td>\n      <td>02-03-2022</td>\n      <td>17:10:00</td>\n      <td>17:15:00</td>\n      <td>conditions Fog</td>\n      <td>Medium</td>\n      <td>2.0</td>\n      <td>Snack</td>\n      <td>scooter</td>\n      <td>1.0</td>\n      <td>No</td>\n      <td>Metropolitian</td>\n      <td>(min) 36</td>\n    </tr>\n    <tr>\n      <th>45593</th>\n      <td>NaN</td>\n      <td>NaN</td>\n      <td>NaN</td>\n      <td>NaN</td>\n      <td>NaN</td>\n      <td>NaN</td>\n      <td>NaN</td>\n      <td>NaN</td>\n      <td>NaN</td>\n      <td>NaN</td>\n      <td>NaN</td>\n      <td>NaN</td>\n      <td>NaN</td>\n      <td>NaN</td>\n      <td>NaN</td>\n      <td>NaN</td>\n      <td>NaN</td>\n      <td>NaN</td>\n      <td>NaN</td>\n      <td>NaN</td>\n    </tr>\n  </tbody>\n</table>\n<p>45594 rows × 20 columns</p>\n</div>"
     },
     "execution_count": 28,
     "metadata": {},
     "output_type": "execute_result"
    }
   ],
   "source": [
    "train = pd.read_table('data/train.csv', na_values=['NaN', 'NaN ', ' NaN', 'nan'], sep=',')\n",
    "train"
   ],
   "metadata": {
    "collapsed": false,
    "pycharm": {
     "name": "#%%\n"
    }
   }
  },
  {
   "cell_type": "code",
   "execution_count": 29,
   "outputs": [
    {
     "data": {
      "text/plain": "ID                                1\nDelivery_person_ID                1\nDelivery_person_Age            1855\nDelivery_person_Ratings        1909\nRestaurant_latitude               1\nRestaurant_longitude              1\nDelivery_location_latitude        1\nDelivery_location_longitude       1\nOrder_Date                        1\nTime_Orderd                    1732\nTime_Order_picked                 1\nWeatherconditions                 1\nRoad_traffic_density            602\nVehicle_condition                 1\nType_of_order                     1\nType_of_vehicle                   1\nmultiple_deliveries             994\nFestival                        229\nCity                           1201\nTime_taken(min)                   1\ndtype: int64"
     },
     "execution_count": 29,
     "metadata": {},
     "output_type": "execute_result"
    }
   ],
   "source": [
    "train.isna().sum()"
   ],
   "metadata": {
    "collapsed": false,
    "pycharm": {
     "name": "#%%\n"
    }
   }
  },
  {
   "cell_type": "markdown",
   "source": [
    "Generally the data here is pretty good, rather than imputating it, we will drop the null rows"
   ],
   "metadata": {
    "collapsed": false,
    "pycharm": {
     "name": "#%% md\n"
    }
   }
  },
  {
   "cell_type": "code",
   "execution_count": 30,
   "outputs": [
    {
     "data": {
      "text/plain": "            ID Delivery_person_ID  Delivery_person_Age  \\\n0      0x4607     INDORES13DEL02                  37.0   \n1      0xb379     BANGRES18DEL02                  34.0   \n2      0x5d6d     BANGRES19DEL01                  23.0   \n3      0x7a6a    COIMBRES13DEL02                  38.0   \n4      0x70a2     CHENRES12DEL01                  32.0   \n...        ...                ...                  ...   \n45588  0x7c09      JAPRES04DEL01                  30.0   \n45589  0xd641      AGRRES16DEL01                  21.0   \n45590  0x4f8d     CHENRES08DEL03                  30.0   \n45591  0x5eee    COIMBRES11DEL01                  20.0   \n45592  0x5fb2   RANCHIRES09DEL02                  23.0   \n\n       Delivery_person_Ratings  Restaurant_latitude  Restaurant_longitude  \\\n0                          4.9            22.745049             75.892471   \n1                          4.5            12.913041             77.683237   \n2                          4.4            12.914264             77.678400   \n3                          4.7            11.003669             76.976494   \n4                          4.6            12.972793             80.249982   \n...                        ...                  ...                   ...   \n45588                      4.8            26.902328             75.794257   \n45589                      4.6             0.000000              0.000000   \n45590                      4.9            13.022394             80.242439   \n45591                      4.7            11.001753             76.986241   \n45592                      4.9            23.351058             85.325731   \n\n       Delivery_location_latitude  Delivery_location_longitude  Order_Date  \\\n0                       22.765049                    75.912471  19-03-2022   \n1                       13.043041                    77.813237  25-03-2022   \n2                       12.924264                    77.688400  19-03-2022   \n3                       11.053669                    77.026494  05-04-2022   \n4                       13.012793                    80.289982  26-03-2022   \n...                           ...                          ...         ...   \n45588                   26.912328                    75.804257  24-03-2022   \n45589                    0.070000                     0.070000  16-02-2022   \n45590                   13.052394                    80.272439  11-03-2022   \n45591                   11.041753                    77.026241  07-03-2022   \n45592                   23.431058                    85.405731  02-03-2022   \n\n      Time_Orderd Time_Order_picked      Weatherconditions  \\\n0        11:30:00          11:45:00       conditions Sunny   \n1        19:45:00          19:50:00      conditions Stormy   \n2        08:30:00          08:45:00  conditions Sandstorms   \n3        18:00:00          18:10:00       conditions Sunny   \n4        13:30:00          13:45:00      conditions Cloudy   \n...           ...               ...                    ...   \n45588    11:35:00          11:45:00       conditions Windy   \n45589    19:55:00          20:10:00       conditions Windy   \n45590    23:50:00          00:05:00      conditions Cloudy   \n45591    13:35:00          13:40:00      conditions Cloudy   \n45592    17:10:00          17:15:00         conditions Fog   \n\n      Road_traffic_density  Vehicle_condition Type_of_order Type_of_vehicle  \\\n0                    High                 2.0        Snack      motorcycle    \n1                     Jam                 2.0        Snack         scooter    \n2                     Low                 0.0       Drinks      motorcycle    \n3                  Medium                 0.0       Buffet      motorcycle    \n4                    High                 1.0        Snack         scooter    \n...                    ...                ...           ...             ...   \n45588                High                 1.0         Meal      motorcycle    \n45589                 Jam                 0.0       Buffet      motorcycle    \n45590                 Low                 1.0       Drinks         scooter    \n45591                High                 0.0        Snack      motorcycle    \n45592              Medium                 2.0        Snack         scooter    \n\n       multiple_deliveries Festival            City Time_taken(min)  \n0                      0.0      No           Urban         (min) 24  \n1                      1.0      No   Metropolitian         (min) 33  \n2                      1.0      No           Urban         (min) 26  \n3                      1.0      No   Metropolitian         (min) 21  \n4                      1.0      No   Metropolitian         (min) 30  \n...                    ...      ...             ...             ...  \n45588                  0.0      No   Metropolitian         (min) 32  \n45589                  1.0      No   Metropolitian         (min) 36  \n45590                  0.0      No   Metropolitian         (min) 16  \n45591                  1.0      No   Metropolitian         (min) 26  \n45592                  1.0      No   Metropolitian         (min) 36  \n\n[41368 rows x 20 columns]",
      "text/html": "<div>\n<style scoped>\n    .dataframe tbody tr th:only-of-type {\n        vertical-align: middle;\n    }\n\n    .dataframe tbody tr th {\n        vertical-align: top;\n    }\n\n    .dataframe thead th {\n        text-align: right;\n    }\n</style>\n<table border=\"1\" class=\"dataframe\">\n  <thead>\n    <tr style=\"text-align: right;\">\n      <th></th>\n      <th>ID</th>\n      <th>Delivery_person_ID</th>\n      <th>Delivery_person_Age</th>\n      <th>Delivery_person_Ratings</th>\n      <th>Restaurant_latitude</th>\n      <th>Restaurant_longitude</th>\n      <th>Delivery_location_latitude</th>\n      <th>Delivery_location_longitude</th>\n      <th>Order_Date</th>\n      <th>Time_Orderd</th>\n      <th>Time_Order_picked</th>\n      <th>Weatherconditions</th>\n      <th>Road_traffic_density</th>\n      <th>Vehicle_condition</th>\n      <th>Type_of_order</th>\n      <th>Type_of_vehicle</th>\n      <th>multiple_deliveries</th>\n      <th>Festival</th>\n      <th>City</th>\n      <th>Time_taken(min)</th>\n    </tr>\n  </thead>\n  <tbody>\n    <tr>\n      <th>0</th>\n      <td>0x4607</td>\n      <td>INDORES13DEL02</td>\n      <td>37.0</td>\n      <td>4.9</td>\n      <td>22.745049</td>\n      <td>75.892471</td>\n      <td>22.765049</td>\n      <td>75.912471</td>\n      <td>19-03-2022</td>\n      <td>11:30:00</td>\n      <td>11:45:00</td>\n      <td>conditions Sunny</td>\n      <td>High</td>\n      <td>2.0</td>\n      <td>Snack</td>\n      <td>motorcycle</td>\n      <td>0.0</td>\n      <td>No</td>\n      <td>Urban</td>\n      <td>(min) 24</td>\n    </tr>\n    <tr>\n      <th>1</th>\n      <td>0xb379</td>\n      <td>BANGRES18DEL02</td>\n      <td>34.0</td>\n      <td>4.5</td>\n      <td>12.913041</td>\n      <td>77.683237</td>\n      <td>13.043041</td>\n      <td>77.813237</td>\n      <td>25-03-2022</td>\n      <td>19:45:00</td>\n      <td>19:50:00</td>\n      <td>conditions Stormy</td>\n      <td>Jam</td>\n      <td>2.0</td>\n      <td>Snack</td>\n      <td>scooter</td>\n      <td>1.0</td>\n      <td>No</td>\n      <td>Metropolitian</td>\n      <td>(min) 33</td>\n    </tr>\n    <tr>\n      <th>2</th>\n      <td>0x5d6d</td>\n      <td>BANGRES19DEL01</td>\n      <td>23.0</td>\n      <td>4.4</td>\n      <td>12.914264</td>\n      <td>77.678400</td>\n      <td>12.924264</td>\n      <td>77.688400</td>\n      <td>19-03-2022</td>\n      <td>08:30:00</td>\n      <td>08:45:00</td>\n      <td>conditions Sandstorms</td>\n      <td>Low</td>\n      <td>0.0</td>\n      <td>Drinks</td>\n      <td>motorcycle</td>\n      <td>1.0</td>\n      <td>No</td>\n      <td>Urban</td>\n      <td>(min) 26</td>\n    </tr>\n    <tr>\n      <th>3</th>\n      <td>0x7a6a</td>\n      <td>COIMBRES13DEL02</td>\n      <td>38.0</td>\n      <td>4.7</td>\n      <td>11.003669</td>\n      <td>76.976494</td>\n      <td>11.053669</td>\n      <td>77.026494</td>\n      <td>05-04-2022</td>\n      <td>18:00:00</td>\n      <td>18:10:00</td>\n      <td>conditions Sunny</td>\n      <td>Medium</td>\n      <td>0.0</td>\n      <td>Buffet</td>\n      <td>motorcycle</td>\n      <td>1.0</td>\n      <td>No</td>\n      <td>Metropolitian</td>\n      <td>(min) 21</td>\n    </tr>\n    <tr>\n      <th>4</th>\n      <td>0x70a2</td>\n      <td>CHENRES12DEL01</td>\n      <td>32.0</td>\n      <td>4.6</td>\n      <td>12.972793</td>\n      <td>80.249982</td>\n      <td>13.012793</td>\n      <td>80.289982</td>\n      <td>26-03-2022</td>\n      <td>13:30:00</td>\n      <td>13:45:00</td>\n      <td>conditions Cloudy</td>\n      <td>High</td>\n      <td>1.0</td>\n      <td>Snack</td>\n      <td>scooter</td>\n      <td>1.0</td>\n      <td>No</td>\n      <td>Metropolitian</td>\n      <td>(min) 30</td>\n    </tr>\n    <tr>\n      <th>...</th>\n      <td>...</td>\n      <td>...</td>\n      <td>...</td>\n      <td>...</td>\n      <td>...</td>\n      <td>...</td>\n      <td>...</td>\n      <td>...</td>\n      <td>...</td>\n      <td>...</td>\n      <td>...</td>\n      <td>...</td>\n      <td>...</td>\n      <td>...</td>\n      <td>...</td>\n      <td>...</td>\n      <td>...</td>\n      <td>...</td>\n      <td>...</td>\n      <td>...</td>\n    </tr>\n    <tr>\n      <th>45588</th>\n      <td>0x7c09</td>\n      <td>JAPRES04DEL01</td>\n      <td>30.0</td>\n      <td>4.8</td>\n      <td>26.902328</td>\n      <td>75.794257</td>\n      <td>26.912328</td>\n      <td>75.804257</td>\n      <td>24-03-2022</td>\n      <td>11:35:00</td>\n      <td>11:45:00</td>\n      <td>conditions Windy</td>\n      <td>High</td>\n      <td>1.0</td>\n      <td>Meal</td>\n      <td>motorcycle</td>\n      <td>0.0</td>\n      <td>No</td>\n      <td>Metropolitian</td>\n      <td>(min) 32</td>\n    </tr>\n    <tr>\n      <th>45589</th>\n      <td>0xd641</td>\n      <td>AGRRES16DEL01</td>\n      <td>21.0</td>\n      <td>4.6</td>\n      <td>0.000000</td>\n      <td>0.000000</td>\n      <td>0.070000</td>\n      <td>0.070000</td>\n      <td>16-02-2022</td>\n      <td>19:55:00</td>\n      <td>20:10:00</td>\n      <td>conditions Windy</td>\n      <td>Jam</td>\n      <td>0.0</td>\n      <td>Buffet</td>\n      <td>motorcycle</td>\n      <td>1.0</td>\n      <td>No</td>\n      <td>Metropolitian</td>\n      <td>(min) 36</td>\n    </tr>\n    <tr>\n      <th>45590</th>\n      <td>0x4f8d</td>\n      <td>CHENRES08DEL03</td>\n      <td>30.0</td>\n      <td>4.9</td>\n      <td>13.022394</td>\n      <td>80.242439</td>\n      <td>13.052394</td>\n      <td>80.272439</td>\n      <td>11-03-2022</td>\n      <td>23:50:00</td>\n      <td>00:05:00</td>\n      <td>conditions Cloudy</td>\n      <td>Low</td>\n      <td>1.0</td>\n      <td>Drinks</td>\n      <td>scooter</td>\n      <td>0.0</td>\n      <td>No</td>\n      <td>Metropolitian</td>\n      <td>(min) 16</td>\n    </tr>\n    <tr>\n      <th>45591</th>\n      <td>0x5eee</td>\n      <td>COIMBRES11DEL01</td>\n      <td>20.0</td>\n      <td>4.7</td>\n      <td>11.001753</td>\n      <td>76.986241</td>\n      <td>11.041753</td>\n      <td>77.026241</td>\n      <td>07-03-2022</td>\n      <td>13:35:00</td>\n      <td>13:40:00</td>\n      <td>conditions Cloudy</td>\n      <td>High</td>\n      <td>0.0</td>\n      <td>Snack</td>\n      <td>motorcycle</td>\n      <td>1.0</td>\n      <td>No</td>\n      <td>Metropolitian</td>\n      <td>(min) 26</td>\n    </tr>\n    <tr>\n      <th>45592</th>\n      <td>0x5fb2</td>\n      <td>RANCHIRES09DEL02</td>\n      <td>23.0</td>\n      <td>4.9</td>\n      <td>23.351058</td>\n      <td>85.325731</td>\n      <td>23.431058</td>\n      <td>85.405731</td>\n      <td>02-03-2022</td>\n      <td>17:10:00</td>\n      <td>17:15:00</td>\n      <td>conditions Fog</td>\n      <td>Medium</td>\n      <td>2.0</td>\n      <td>Snack</td>\n      <td>scooter</td>\n      <td>1.0</td>\n      <td>No</td>\n      <td>Metropolitian</td>\n      <td>(min) 36</td>\n    </tr>\n  </tbody>\n</table>\n<p>41368 rows × 20 columns</p>\n</div>"
     },
     "execution_count": 30,
     "metadata": {},
     "output_type": "execute_result"
    }
   ],
   "source": [
    "train = train.dropna()\n",
    "train"
   ],
   "metadata": {
    "collapsed": false,
    "pycharm": {
     "name": "#%%\n"
    }
   }
  },
  {
   "cell_type": "markdown",
   "source": [
    "# Data Types"
   ],
   "metadata": {
    "collapsed": false,
    "pycharm": {
     "name": "#%% md\n"
    }
   }
  },
  {
   "cell_type": "code",
   "execution_count": 31,
   "outputs": [
    {
     "name": "stdout",
     "output_type": "stream",
     "text": [
      "<class 'pandas.core.frame.DataFrame'>\n",
      "Int64Index: 41368 entries, 0 to 45592\n",
      "Data columns (total 20 columns):\n",
      " #   Column                       Non-Null Count  Dtype  \n",
      "---  ------                       --------------  -----  \n",
      " 0   ID                           41368 non-null  object \n",
      " 1   Delivery_person_ID           41368 non-null  object \n",
      " 2   Delivery_person_Age          41368 non-null  float64\n",
      " 3   Delivery_person_Ratings      41368 non-null  float64\n",
      " 4   Restaurant_latitude          41368 non-null  float64\n",
      " 5   Restaurant_longitude         41368 non-null  float64\n",
      " 6   Delivery_location_latitude   41368 non-null  float64\n",
      " 7   Delivery_location_longitude  41368 non-null  float64\n",
      " 8   Order_Date                   41368 non-null  object \n",
      " 9   Time_Orderd                  41368 non-null  object \n",
      " 10  Time_Order_picked            41368 non-null  object \n",
      " 11  Weatherconditions            41368 non-null  object \n",
      " 12  Road_traffic_density         41368 non-null  object \n",
      " 13  Vehicle_condition            41368 non-null  float64\n",
      " 14  Type_of_order                41368 non-null  object \n",
      " 15  Type_of_vehicle              41368 non-null  object \n",
      " 16  multiple_deliveries          41368 non-null  float64\n",
      " 17  Festival                     41368 non-null  object \n",
      " 18  City                         41368 non-null  object \n",
      " 19  Time_taken(min)              41368 non-null  object \n",
      "dtypes: float64(8), object(12)\n",
      "memory usage: 6.6+ MB\n"
     ]
    }
   ],
   "source": [
    "train.info()"
   ],
   "metadata": {
    "collapsed": false,
    "pycharm": {
     "name": "#%%\n"
    }
   }
  },
  {
   "cell_type": "code",
   "execution_count": 32,
   "outputs": [
    {
     "data": {
      "text/plain": "            ID Delivery_person_ID  Delivery_person_Age  \\\n0      0x4607     INDORES13DEL02                  37.0   \n1      0xb379     BANGRES18DEL02                  34.0   \n2      0x5d6d     BANGRES19DEL01                  23.0   \n3      0x7a6a    COIMBRES13DEL02                  38.0   \n4      0x70a2     CHENRES12DEL01                  32.0   \n...        ...                ...                  ...   \n45588  0x7c09      JAPRES04DEL01                  30.0   \n45589  0xd641      AGRRES16DEL01                  21.0   \n45590  0x4f8d     CHENRES08DEL03                  30.0   \n45591  0x5eee    COIMBRES11DEL01                  20.0   \n45592  0x5fb2   RANCHIRES09DEL02                  23.0   \n\n       Delivery_person_Ratings  Restaurant_latitude  Restaurant_longitude  \\\n0                          4.9            22.745049             75.892471   \n1                          4.5            12.913041             77.683237   \n2                          4.4            12.914264             77.678400   \n3                          4.7            11.003669             76.976494   \n4                          4.6            12.972793             80.249982   \n...                        ...                  ...                   ...   \n45588                      4.8            26.902328             75.794257   \n45589                      4.6             0.000000              0.000000   \n45590                      4.9            13.022394             80.242439   \n45591                      4.7            11.001753             76.986241   \n45592                      4.9            23.351058             85.325731   \n\n       Delivery_location_latitude  Delivery_location_longitude  Order_Date  \\\n0                       22.765049                    75.912471  19-03-2022   \n1                       13.043041                    77.813237  25-03-2022   \n2                       12.924264                    77.688400  19-03-2022   \n3                       11.053669                    77.026494  05-04-2022   \n4                       13.012793                    80.289982  26-03-2022   \n...                           ...                          ...         ...   \n45588                   26.912328                    75.804257  24-03-2022   \n45589                    0.070000                     0.070000  16-02-2022   \n45590                   13.052394                    80.272439  11-03-2022   \n45591                   11.041753                    77.026241  07-03-2022   \n45592                   23.431058                    85.405731  02-03-2022   \n\n      Time_Orderd Time_Order_picked      Weatherconditions  \\\n0        11:30:00          11:45:00       conditions Sunny   \n1        19:45:00          19:50:00      conditions Stormy   \n2        08:30:00          08:45:00  conditions Sandstorms   \n3        18:00:00          18:10:00       conditions Sunny   \n4        13:30:00          13:45:00      conditions Cloudy   \n...           ...               ...                    ...   \n45588    11:35:00          11:45:00       conditions Windy   \n45589    19:55:00          20:10:00       conditions Windy   \n45590    23:50:00          00:05:00      conditions Cloudy   \n45591    13:35:00          13:40:00      conditions Cloudy   \n45592    17:10:00          17:15:00         conditions Fog   \n\n      Road_traffic_density  Vehicle_condition Type_of_order Type_of_vehicle  \\\n0                    High                 2.0        Snack      motorcycle    \n1                     Jam                 2.0        Snack         scooter    \n2                     Low                 0.0       Drinks      motorcycle    \n3                  Medium                 0.0       Buffet      motorcycle    \n4                    High                 1.0        Snack         scooter    \n...                    ...                ...           ...             ...   \n45588                High                 1.0         Meal      motorcycle    \n45589                 Jam                 0.0       Buffet      motorcycle    \n45590                 Low                 1.0       Drinks         scooter    \n45591                High                 0.0        Snack      motorcycle    \n45592              Medium                 2.0        Snack         scooter    \n\n       multiple_deliveries Festival            City Time_taken(min)  \n0                      0.0      No           Urban         (min) 24  \n1                      1.0      No   Metropolitian         (min) 33  \n2                      1.0      No           Urban         (min) 26  \n3                      1.0      No   Metropolitian         (min) 21  \n4                      1.0      No   Metropolitian         (min) 30  \n...                    ...      ...             ...             ...  \n45588                  0.0      No   Metropolitian         (min) 32  \n45589                  1.0      No   Metropolitian         (min) 36  \n45590                  0.0      No   Metropolitian         (min) 16  \n45591                  1.0      No   Metropolitian         (min) 26  \n45592                  1.0      No   Metropolitian         (min) 36  \n\n[41368 rows x 20 columns]",
      "text/html": "<div>\n<style scoped>\n    .dataframe tbody tr th:only-of-type {\n        vertical-align: middle;\n    }\n\n    .dataframe tbody tr th {\n        vertical-align: top;\n    }\n\n    .dataframe thead th {\n        text-align: right;\n    }\n</style>\n<table border=\"1\" class=\"dataframe\">\n  <thead>\n    <tr style=\"text-align: right;\">\n      <th></th>\n      <th>ID</th>\n      <th>Delivery_person_ID</th>\n      <th>Delivery_person_Age</th>\n      <th>Delivery_person_Ratings</th>\n      <th>Restaurant_latitude</th>\n      <th>Restaurant_longitude</th>\n      <th>Delivery_location_latitude</th>\n      <th>Delivery_location_longitude</th>\n      <th>Order_Date</th>\n      <th>Time_Orderd</th>\n      <th>Time_Order_picked</th>\n      <th>Weatherconditions</th>\n      <th>Road_traffic_density</th>\n      <th>Vehicle_condition</th>\n      <th>Type_of_order</th>\n      <th>Type_of_vehicle</th>\n      <th>multiple_deliveries</th>\n      <th>Festival</th>\n      <th>City</th>\n      <th>Time_taken(min)</th>\n    </tr>\n  </thead>\n  <tbody>\n    <tr>\n      <th>0</th>\n      <td>0x4607</td>\n      <td>INDORES13DEL02</td>\n      <td>37.0</td>\n      <td>4.9</td>\n      <td>22.745049</td>\n      <td>75.892471</td>\n      <td>22.765049</td>\n      <td>75.912471</td>\n      <td>19-03-2022</td>\n      <td>11:30:00</td>\n      <td>11:45:00</td>\n      <td>conditions Sunny</td>\n      <td>High</td>\n      <td>2.0</td>\n      <td>Snack</td>\n      <td>motorcycle</td>\n      <td>0.0</td>\n      <td>No</td>\n      <td>Urban</td>\n      <td>(min) 24</td>\n    </tr>\n    <tr>\n      <th>1</th>\n      <td>0xb379</td>\n      <td>BANGRES18DEL02</td>\n      <td>34.0</td>\n      <td>4.5</td>\n      <td>12.913041</td>\n      <td>77.683237</td>\n      <td>13.043041</td>\n      <td>77.813237</td>\n      <td>25-03-2022</td>\n      <td>19:45:00</td>\n      <td>19:50:00</td>\n      <td>conditions Stormy</td>\n      <td>Jam</td>\n      <td>2.0</td>\n      <td>Snack</td>\n      <td>scooter</td>\n      <td>1.0</td>\n      <td>No</td>\n      <td>Metropolitian</td>\n      <td>(min) 33</td>\n    </tr>\n    <tr>\n      <th>2</th>\n      <td>0x5d6d</td>\n      <td>BANGRES19DEL01</td>\n      <td>23.0</td>\n      <td>4.4</td>\n      <td>12.914264</td>\n      <td>77.678400</td>\n      <td>12.924264</td>\n      <td>77.688400</td>\n      <td>19-03-2022</td>\n      <td>08:30:00</td>\n      <td>08:45:00</td>\n      <td>conditions Sandstorms</td>\n      <td>Low</td>\n      <td>0.0</td>\n      <td>Drinks</td>\n      <td>motorcycle</td>\n      <td>1.0</td>\n      <td>No</td>\n      <td>Urban</td>\n      <td>(min) 26</td>\n    </tr>\n    <tr>\n      <th>3</th>\n      <td>0x7a6a</td>\n      <td>COIMBRES13DEL02</td>\n      <td>38.0</td>\n      <td>4.7</td>\n      <td>11.003669</td>\n      <td>76.976494</td>\n      <td>11.053669</td>\n      <td>77.026494</td>\n      <td>05-04-2022</td>\n      <td>18:00:00</td>\n      <td>18:10:00</td>\n      <td>conditions Sunny</td>\n      <td>Medium</td>\n      <td>0.0</td>\n      <td>Buffet</td>\n      <td>motorcycle</td>\n      <td>1.0</td>\n      <td>No</td>\n      <td>Metropolitian</td>\n      <td>(min) 21</td>\n    </tr>\n    <tr>\n      <th>4</th>\n      <td>0x70a2</td>\n      <td>CHENRES12DEL01</td>\n      <td>32.0</td>\n      <td>4.6</td>\n      <td>12.972793</td>\n      <td>80.249982</td>\n      <td>13.012793</td>\n      <td>80.289982</td>\n      <td>26-03-2022</td>\n      <td>13:30:00</td>\n      <td>13:45:00</td>\n      <td>conditions Cloudy</td>\n      <td>High</td>\n      <td>1.0</td>\n      <td>Snack</td>\n      <td>scooter</td>\n      <td>1.0</td>\n      <td>No</td>\n      <td>Metropolitian</td>\n      <td>(min) 30</td>\n    </tr>\n    <tr>\n      <th>...</th>\n      <td>...</td>\n      <td>...</td>\n      <td>...</td>\n      <td>...</td>\n      <td>...</td>\n      <td>...</td>\n      <td>...</td>\n      <td>...</td>\n      <td>...</td>\n      <td>...</td>\n      <td>...</td>\n      <td>...</td>\n      <td>...</td>\n      <td>...</td>\n      <td>...</td>\n      <td>...</td>\n      <td>...</td>\n      <td>...</td>\n      <td>...</td>\n      <td>...</td>\n    </tr>\n    <tr>\n      <th>45588</th>\n      <td>0x7c09</td>\n      <td>JAPRES04DEL01</td>\n      <td>30.0</td>\n      <td>4.8</td>\n      <td>26.902328</td>\n      <td>75.794257</td>\n      <td>26.912328</td>\n      <td>75.804257</td>\n      <td>24-03-2022</td>\n      <td>11:35:00</td>\n      <td>11:45:00</td>\n      <td>conditions Windy</td>\n      <td>High</td>\n      <td>1.0</td>\n      <td>Meal</td>\n      <td>motorcycle</td>\n      <td>0.0</td>\n      <td>No</td>\n      <td>Metropolitian</td>\n      <td>(min) 32</td>\n    </tr>\n    <tr>\n      <th>45589</th>\n      <td>0xd641</td>\n      <td>AGRRES16DEL01</td>\n      <td>21.0</td>\n      <td>4.6</td>\n      <td>0.000000</td>\n      <td>0.000000</td>\n      <td>0.070000</td>\n      <td>0.070000</td>\n      <td>16-02-2022</td>\n      <td>19:55:00</td>\n      <td>20:10:00</td>\n      <td>conditions Windy</td>\n      <td>Jam</td>\n      <td>0.0</td>\n      <td>Buffet</td>\n      <td>motorcycle</td>\n      <td>1.0</td>\n      <td>No</td>\n      <td>Metropolitian</td>\n      <td>(min) 36</td>\n    </tr>\n    <tr>\n      <th>45590</th>\n      <td>0x4f8d</td>\n      <td>CHENRES08DEL03</td>\n      <td>30.0</td>\n      <td>4.9</td>\n      <td>13.022394</td>\n      <td>80.242439</td>\n      <td>13.052394</td>\n      <td>80.272439</td>\n      <td>11-03-2022</td>\n      <td>23:50:00</td>\n      <td>00:05:00</td>\n      <td>conditions Cloudy</td>\n      <td>Low</td>\n      <td>1.0</td>\n      <td>Drinks</td>\n      <td>scooter</td>\n      <td>0.0</td>\n      <td>No</td>\n      <td>Metropolitian</td>\n      <td>(min) 16</td>\n    </tr>\n    <tr>\n      <th>45591</th>\n      <td>0x5eee</td>\n      <td>COIMBRES11DEL01</td>\n      <td>20.0</td>\n      <td>4.7</td>\n      <td>11.001753</td>\n      <td>76.986241</td>\n      <td>11.041753</td>\n      <td>77.026241</td>\n      <td>07-03-2022</td>\n      <td>13:35:00</td>\n      <td>13:40:00</td>\n      <td>conditions Cloudy</td>\n      <td>High</td>\n      <td>0.0</td>\n      <td>Snack</td>\n      <td>motorcycle</td>\n      <td>1.0</td>\n      <td>No</td>\n      <td>Metropolitian</td>\n      <td>(min) 26</td>\n    </tr>\n    <tr>\n      <th>45592</th>\n      <td>0x5fb2</td>\n      <td>RANCHIRES09DEL02</td>\n      <td>23.0</td>\n      <td>4.9</td>\n      <td>23.351058</td>\n      <td>85.325731</td>\n      <td>23.431058</td>\n      <td>85.405731</td>\n      <td>02-03-2022</td>\n      <td>17:10:00</td>\n      <td>17:15:00</td>\n      <td>conditions Fog</td>\n      <td>Medium</td>\n      <td>2.0</td>\n      <td>Snack</td>\n      <td>scooter</td>\n      <td>1.0</td>\n      <td>No</td>\n      <td>Metropolitian</td>\n      <td>(min) 36</td>\n    </tr>\n  </tbody>\n</table>\n<p>41368 rows × 20 columns</p>\n</div>"
     },
     "execution_count": 32,
     "metadata": {},
     "output_type": "execute_result"
    }
   ],
   "source": [
    "train"
   ],
   "metadata": {
    "collapsed": false,
    "pycharm": {
     "name": "#%%\n"
    }
   }
  },
  {
   "cell_type": "code",
   "execution_count": 33,
   "outputs": [
    {
     "name": "stderr",
     "output_type": "stream",
     "text": [
      "/var/folders/16/d07v8kdd2qb3djgtmt__w9480000gn/T/ipykernel_99528/2500660917.py:1: SettingWithCopyWarning: \n",
      "A value is trying to be set on a copy of a slice from a DataFrame.\n",
      "Try using .loc[row_indexer,col_indexer] = value instead\n",
      "\n",
      "See the caveats in the documentation: https://pandas.pydata.org/pandas-docs/stable/user_guide/indexing.html#returning-a-view-versus-a-copy\n",
      "  train['Order_Date'] = pd.to_datetime(train['Order_Date'], infer_datetime_format=True)\n",
      "/var/folders/16/d07v8kdd2qb3djgtmt__w9480000gn/T/ipykernel_99528/2500660917.py:2: SettingWithCopyWarning: \n",
      "A value is trying to be set on a copy of a slice from a DataFrame.\n",
      "Try using .loc[row_indexer,col_indexer] = value instead\n",
      "\n",
      "See the caveats in the documentation: https://pandas.pydata.org/pandas-docs/stable/user_guide/indexing.html#returning-a-view-versus-a-copy\n",
      "  train['Time_Order_picked'] = pd.to_datetime(train['Time_Order_picked'], format='%H:%M:%S').dt.time\n",
      "/var/folders/16/d07v8kdd2qb3djgtmt__w9480000gn/T/ipykernel_99528/2500660917.py:3: SettingWithCopyWarning: \n",
      "A value is trying to be set on a copy of a slice from a DataFrame.\n",
      "Try using .loc[row_indexer,col_indexer] = value instead\n",
      "\n",
      "See the caveats in the documentation: https://pandas.pydata.org/pandas-docs/stable/user_guide/indexing.html#returning-a-view-versus-a-copy\n",
      "  train['Time_Orderd'] = pd.to_datetime(train['Time_Orderd'], format='%H:%M:%S').dt.time\n"
     ]
    },
    {
     "data": {
      "text/plain": "            ID Delivery_person_ID  Delivery_person_Age  \\\n0      0x4607     INDORES13DEL02                  37.0   \n1      0xb379     BANGRES18DEL02                  34.0   \n2      0x5d6d     BANGRES19DEL01                  23.0   \n3      0x7a6a    COIMBRES13DEL02                  38.0   \n4      0x70a2     CHENRES12DEL01                  32.0   \n...        ...                ...                  ...   \n45588  0x7c09      JAPRES04DEL01                  30.0   \n45589  0xd641      AGRRES16DEL01                  21.0   \n45590  0x4f8d     CHENRES08DEL03                  30.0   \n45591  0x5eee    COIMBRES11DEL01                  20.0   \n45592  0x5fb2   RANCHIRES09DEL02                  23.0   \n\n       Delivery_person_Ratings  Restaurant_latitude  Restaurant_longitude  \\\n0                          4.9            22.745049             75.892471   \n1                          4.5            12.913041             77.683237   \n2                          4.4            12.914264             77.678400   \n3                          4.7            11.003669             76.976494   \n4                          4.6            12.972793             80.249982   \n...                        ...                  ...                   ...   \n45588                      4.8            26.902328             75.794257   \n45589                      4.6             0.000000              0.000000   \n45590                      4.9            13.022394             80.242439   \n45591                      4.7            11.001753             76.986241   \n45592                      4.9            23.351058             85.325731   \n\n       Delivery_location_latitude  Delivery_location_longitude Order_Date  \\\n0                       22.765049                    75.912471 2022-03-19   \n1                       13.043041                    77.813237 2022-03-25   \n2                       12.924264                    77.688400 2022-03-19   \n3                       11.053669                    77.026494 2022-04-05   \n4                       13.012793                    80.289982 2022-03-26   \n...                           ...                          ...        ...   \n45588                   26.912328                    75.804257 2022-03-24   \n45589                    0.070000                     0.070000 2022-02-16   \n45590                   13.052394                    80.272439 2022-03-11   \n45591                   11.041753                    77.026241 2022-03-07   \n45592                   23.431058                    85.405731 2022-03-02   \n\n      Time_Orderd Time_Order_picked      Weatherconditions  \\\n0        11:30:00          11:45:00       conditions Sunny   \n1        19:45:00          19:50:00      conditions Stormy   \n2        08:30:00          08:45:00  conditions Sandstorms   \n3        18:00:00          18:10:00       conditions Sunny   \n4        13:30:00          13:45:00      conditions Cloudy   \n...           ...               ...                    ...   \n45588    11:35:00          11:45:00       conditions Windy   \n45589    19:55:00          20:10:00       conditions Windy   \n45590    23:50:00          00:05:00      conditions Cloudy   \n45591    13:35:00          13:40:00      conditions Cloudy   \n45592    17:10:00          17:15:00         conditions Fog   \n\n      Road_traffic_density  Vehicle_condition Type_of_order Type_of_vehicle  \\\n0                    High                 2.0        Snack      motorcycle    \n1                     Jam                 2.0        Snack         scooter    \n2                     Low                 0.0       Drinks      motorcycle    \n3                  Medium                 0.0       Buffet      motorcycle    \n4                    High                 1.0        Snack         scooter    \n...                    ...                ...           ...             ...   \n45588                High                 1.0         Meal      motorcycle    \n45589                 Jam                 0.0       Buffet      motorcycle    \n45590                 Low                 1.0       Drinks         scooter    \n45591                High                 0.0        Snack      motorcycle    \n45592              Medium                 2.0        Snack         scooter    \n\n       multiple_deliveries Festival            City Time_taken(min)  \n0                      0.0      No           Urban         (min) 24  \n1                      1.0      No   Metropolitian         (min) 33  \n2                      1.0      No           Urban         (min) 26  \n3                      1.0      No   Metropolitian         (min) 21  \n4                      1.0      No   Metropolitian         (min) 30  \n...                    ...      ...             ...             ...  \n45588                  0.0      No   Metropolitian         (min) 32  \n45589                  1.0      No   Metropolitian         (min) 36  \n45590                  0.0      No   Metropolitian         (min) 16  \n45591                  1.0      No   Metropolitian         (min) 26  \n45592                  1.0      No   Metropolitian         (min) 36  \n\n[41368 rows x 20 columns]",
      "text/html": "<div>\n<style scoped>\n    .dataframe tbody tr th:only-of-type {\n        vertical-align: middle;\n    }\n\n    .dataframe tbody tr th {\n        vertical-align: top;\n    }\n\n    .dataframe thead th {\n        text-align: right;\n    }\n</style>\n<table border=\"1\" class=\"dataframe\">\n  <thead>\n    <tr style=\"text-align: right;\">\n      <th></th>\n      <th>ID</th>\n      <th>Delivery_person_ID</th>\n      <th>Delivery_person_Age</th>\n      <th>Delivery_person_Ratings</th>\n      <th>Restaurant_latitude</th>\n      <th>Restaurant_longitude</th>\n      <th>Delivery_location_latitude</th>\n      <th>Delivery_location_longitude</th>\n      <th>Order_Date</th>\n      <th>Time_Orderd</th>\n      <th>Time_Order_picked</th>\n      <th>Weatherconditions</th>\n      <th>Road_traffic_density</th>\n      <th>Vehicle_condition</th>\n      <th>Type_of_order</th>\n      <th>Type_of_vehicle</th>\n      <th>multiple_deliveries</th>\n      <th>Festival</th>\n      <th>City</th>\n      <th>Time_taken(min)</th>\n    </tr>\n  </thead>\n  <tbody>\n    <tr>\n      <th>0</th>\n      <td>0x4607</td>\n      <td>INDORES13DEL02</td>\n      <td>37.0</td>\n      <td>4.9</td>\n      <td>22.745049</td>\n      <td>75.892471</td>\n      <td>22.765049</td>\n      <td>75.912471</td>\n      <td>2022-03-19</td>\n      <td>11:30:00</td>\n      <td>11:45:00</td>\n      <td>conditions Sunny</td>\n      <td>High</td>\n      <td>2.0</td>\n      <td>Snack</td>\n      <td>motorcycle</td>\n      <td>0.0</td>\n      <td>No</td>\n      <td>Urban</td>\n      <td>(min) 24</td>\n    </tr>\n    <tr>\n      <th>1</th>\n      <td>0xb379</td>\n      <td>BANGRES18DEL02</td>\n      <td>34.0</td>\n      <td>4.5</td>\n      <td>12.913041</td>\n      <td>77.683237</td>\n      <td>13.043041</td>\n      <td>77.813237</td>\n      <td>2022-03-25</td>\n      <td>19:45:00</td>\n      <td>19:50:00</td>\n      <td>conditions Stormy</td>\n      <td>Jam</td>\n      <td>2.0</td>\n      <td>Snack</td>\n      <td>scooter</td>\n      <td>1.0</td>\n      <td>No</td>\n      <td>Metropolitian</td>\n      <td>(min) 33</td>\n    </tr>\n    <tr>\n      <th>2</th>\n      <td>0x5d6d</td>\n      <td>BANGRES19DEL01</td>\n      <td>23.0</td>\n      <td>4.4</td>\n      <td>12.914264</td>\n      <td>77.678400</td>\n      <td>12.924264</td>\n      <td>77.688400</td>\n      <td>2022-03-19</td>\n      <td>08:30:00</td>\n      <td>08:45:00</td>\n      <td>conditions Sandstorms</td>\n      <td>Low</td>\n      <td>0.0</td>\n      <td>Drinks</td>\n      <td>motorcycle</td>\n      <td>1.0</td>\n      <td>No</td>\n      <td>Urban</td>\n      <td>(min) 26</td>\n    </tr>\n    <tr>\n      <th>3</th>\n      <td>0x7a6a</td>\n      <td>COIMBRES13DEL02</td>\n      <td>38.0</td>\n      <td>4.7</td>\n      <td>11.003669</td>\n      <td>76.976494</td>\n      <td>11.053669</td>\n      <td>77.026494</td>\n      <td>2022-04-05</td>\n      <td>18:00:00</td>\n      <td>18:10:00</td>\n      <td>conditions Sunny</td>\n      <td>Medium</td>\n      <td>0.0</td>\n      <td>Buffet</td>\n      <td>motorcycle</td>\n      <td>1.0</td>\n      <td>No</td>\n      <td>Metropolitian</td>\n      <td>(min) 21</td>\n    </tr>\n    <tr>\n      <th>4</th>\n      <td>0x70a2</td>\n      <td>CHENRES12DEL01</td>\n      <td>32.0</td>\n      <td>4.6</td>\n      <td>12.972793</td>\n      <td>80.249982</td>\n      <td>13.012793</td>\n      <td>80.289982</td>\n      <td>2022-03-26</td>\n      <td>13:30:00</td>\n      <td>13:45:00</td>\n      <td>conditions Cloudy</td>\n      <td>High</td>\n      <td>1.0</td>\n      <td>Snack</td>\n      <td>scooter</td>\n      <td>1.0</td>\n      <td>No</td>\n      <td>Metropolitian</td>\n      <td>(min) 30</td>\n    </tr>\n    <tr>\n      <th>...</th>\n      <td>...</td>\n      <td>...</td>\n      <td>...</td>\n      <td>...</td>\n      <td>...</td>\n      <td>...</td>\n      <td>...</td>\n      <td>...</td>\n      <td>...</td>\n      <td>...</td>\n      <td>...</td>\n      <td>...</td>\n      <td>...</td>\n      <td>...</td>\n      <td>...</td>\n      <td>...</td>\n      <td>...</td>\n      <td>...</td>\n      <td>...</td>\n      <td>...</td>\n    </tr>\n    <tr>\n      <th>45588</th>\n      <td>0x7c09</td>\n      <td>JAPRES04DEL01</td>\n      <td>30.0</td>\n      <td>4.8</td>\n      <td>26.902328</td>\n      <td>75.794257</td>\n      <td>26.912328</td>\n      <td>75.804257</td>\n      <td>2022-03-24</td>\n      <td>11:35:00</td>\n      <td>11:45:00</td>\n      <td>conditions Windy</td>\n      <td>High</td>\n      <td>1.0</td>\n      <td>Meal</td>\n      <td>motorcycle</td>\n      <td>0.0</td>\n      <td>No</td>\n      <td>Metropolitian</td>\n      <td>(min) 32</td>\n    </tr>\n    <tr>\n      <th>45589</th>\n      <td>0xd641</td>\n      <td>AGRRES16DEL01</td>\n      <td>21.0</td>\n      <td>4.6</td>\n      <td>0.000000</td>\n      <td>0.000000</td>\n      <td>0.070000</td>\n      <td>0.070000</td>\n      <td>2022-02-16</td>\n      <td>19:55:00</td>\n      <td>20:10:00</td>\n      <td>conditions Windy</td>\n      <td>Jam</td>\n      <td>0.0</td>\n      <td>Buffet</td>\n      <td>motorcycle</td>\n      <td>1.0</td>\n      <td>No</td>\n      <td>Metropolitian</td>\n      <td>(min) 36</td>\n    </tr>\n    <tr>\n      <th>45590</th>\n      <td>0x4f8d</td>\n      <td>CHENRES08DEL03</td>\n      <td>30.0</td>\n      <td>4.9</td>\n      <td>13.022394</td>\n      <td>80.242439</td>\n      <td>13.052394</td>\n      <td>80.272439</td>\n      <td>2022-03-11</td>\n      <td>23:50:00</td>\n      <td>00:05:00</td>\n      <td>conditions Cloudy</td>\n      <td>Low</td>\n      <td>1.0</td>\n      <td>Drinks</td>\n      <td>scooter</td>\n      <td>0.0</td>\n      <td>No</td>\n      <td>Metropolitian</td>\n      <td>(min) 16</td>\n    </tr>\n    <tr>\n      <th>45591</th>\n      <td>0x5eee</td>\n      <td>COIMBRES11DEL01</td>\n      <td>20.0</td>\n      <td>4.7</td>\n      <td>11.001753</td>\n      <td>76.986241</td>\n      <td>11.041753</td>\n      <td>77.026241</td>\n      <td>2022-03-07</td>\n      <td>13:35:00</td>\n      <td>13:40:00</td>\n      <td>conditions Cloudy</td>\n      <td>High</td>\n      <td>0.0</td>\n      <td>Snack</td>\n      <td>motorcycle</td>\n      <td>1.0</td>\n      <td>No</td>\n      <td>Metropolitian</td>\n      <td>(min) 26</td>\n    </tr>\n    <tr>\n      <th>45592</th>\n      <td>0x5fb2</td>\n      <td>RANCHIRES09DEL02</td>\n      <td>23.0</td>\n      <td>4.9</td>\n      <td>23.351058</td>\n      <td>85.325731</td>\n      <td>23.431058</td>\n      <td>85.405731</td>\n      <td>2022-03-02</td>\n      <td>17:10:00</td>\n      <td>17:15:00</td>\n      <td>conditions Fog</td>\n      <td>Medium</td>\n      <td>2.0</td>\n      <td>Snack</td>\n      <td>scooter</td>\n      <td>1.0</td>\n      <td>No</td>\n      <td>Metropolitian</td>\n      <td>(min) 36</td>\n    </tr>\n  </tbody>\n</table>\n<p>41368 rows × 20 columns</p>\n</div>"
     },
     "execution_count": 33,
     "metadata": {},
     "output_type": "execute_result"
    }
   ],
   "source": [
    "train['Order_Date'] = pd.to_datetime(train['Order_Date'], infer_datetime_format=True)\n",
    "train['Time_Order_picked'] = pd.to_datetime(train['Time_Order_picked'], format='%H:%M:%S').dt.time\n",
    "train['Time_Orderd'] = pd.to_datetime(train['Time_Orderd'], format='%H:%M:%S').dt.time\n",
    "train"
   ],
   "metadata": {
    "collapsed": false,
    "pycharm": {
     "name": "#%%\n"
    }
   }
  },
  {
   "cell_type": "markdown",
   "source": [
    "# Changing Categorical Naming"
   ],
   "metadata": {
    "collapsed": false,
    "pycharm": {
     "name": "#%% md\n"
    }
   }
  },
  {
   "cell_type": "code",
   "execution_count": 34,
   "outputs": [
    {
     "name": "stderr",
     "output_type": "stream",
     "text": [
      "/var/folders/16/d07v8kdd2qb3djgtmt__w9480000gn/T/ipykernel_99528/3872554754.py:1: SettingWithCopyWarning: \n",
      "A value is trying to be set on a copy of a slice from a DataFrame.\n",
      "Try using .loc[row_indexer,col_indexer] = value instead\n",
      "\n",
      "See the caveats in the documentation: https://pandas.pydata.org/pandas-docs/stable/user_guide/indexing.html#returning-a-view-versus-a-copy\n",
      "  train['Time_taken(min)'] = train['Time_taken(min)'].str.extract('(\\d+)').astype(int)\n",
      "/var/folders/16/d07v8kdd2qb3djgtmt__w9480000gn/T/ipykernel_99528/3872554754.py:2: SettingWithCopyWarning: \n",
      "A value is trying to be set on a copy of a slice from a DataFrame.\n",
      "Try using .loc[row_indexer,col_indexer] = value instead\n",
      "\n",
      "See the caveats in the documentation: https://pandas.pydata.org/pandas-docs/stable/user_guide/indexing.html#returning-a-view-versus-a-copy\n",
      "  train['Weatherconditions'] = train['Weatherconditions'].str.replace('conditions ', '')\n"
     ]
    }
   ],
   "source": [
    "train['Time_taken(min)'] = train['Time_taken(min)'].str.extract('(\\d+)').astype(int)\n",
    "train['Weatherconditions'] = train['Weatherconditions'].str.replace('conditions ', '')"
   ],
   "metadata": {
    "collapsed": false,
    "pycharm": {
     "name": "#%%\n"
    }
   }
  },
  {
   "cell_type": "markdown",
   "source": [
    "# Saving the dataset"
   ],
   "metadata": {
    "collapsed": false,
    "pycharm": {
     "name": "#%% md\n"
    }
   }
  },
  {
   "cell_type": "code",
   "execution_count": 35,
   "outputs": [],
   "source": [
    "train.reset_index(drop=True, inplace=True)"
   ],
   "metadata": {
    "collapsed": false,
    "pycharm": {
     "name": "#%%\n"
    }
   }
  },
  {
   "cell_type": "code",
   "execution_count": 36,
   "outputs": [],
   "source": [
    "train.to_csv('data/train_clean.csv')"
   ],
   "metadata": {
    "collapsed": false,
    "pycharm": {
     "name": "#%%\n"
    }
   }
  }
 ],
 "metadata": {
  "kernelspec": {
   "display_name": "Python 3",
   "language": "python",
   "name": "python3"
  },
  "language_info": {
   "codemirror_mode": {
    "name": "ipython",
    "version": 2
   },
   "file_extension": ".py",
   "mimetype": "text/x-python",
   "name": "python",
   "nbconvert_exporter": "python",
   "pygments_lexer": "ipython2",
   "version": "2.7.6"
  }
 },
 "nbformat": 4,
 "nbformat_minor": 0
}