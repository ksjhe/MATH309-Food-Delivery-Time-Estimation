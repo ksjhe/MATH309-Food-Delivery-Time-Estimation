{
 "cells": [
  {
   "cell_type": "code",
   "execution_count": 100,
   "metadata": {
    "collapsed": true,
    "pycharm": {
     "name": "#%%\n"
    }
   },
   "outputs": [],
   "source": [
    "import numpy as np\n",
    "import pandas as pd"
   ]
  },
  {
   "cell_type": "code",
   "execution_count": 101,
   "outputs": [
    {
     "data": {
      "text/plain": "            ID Delivery_person_ID  Delivery_person_Age  \\\n0      0x4607     INDORES13DEL02                  37.0   \n1      0xb379     BANGRES18DEL02                  34.0   \n2      0x5d6d     BANGRES19DEL01                  23.0   \n3      0x7a6a    COIMBRES13DEL02                  38.0   \n4      0x70a2     CHENRES12DEL01                  32.0   \n...        ...                ...                  ...   \n41363  0x7c09      JAPRES04DEL01                  30.0   \n41364  0xd641      AGRRES16DEL01                  21.0   \n41365  0x4f8d     CHENRES08DEL03                  30.0   \n41366  0x5eee    COIMBRES11DEL01                  20.0   \n41367  0x5fb2   RANCHIRES09DEL02                  23.0   \n\n       Delivery_person_Ratings  Restaurant_latitude  Restaurant_longitude  \\\n0                          4.9            22.745049             75.892471   \n1                          4.5            12.913041             77.683237   \n2                          4.4            12.914264             77.678400   \n3                          4.7            11.003669             76.976494   \n4                          4.6            12.972793             80.249982   \n...                        ...                  ...                   ...   \n41363                      4.8            26.902328             75.794257   \n41364                      4.6             0.000000              0.000000   \n41365                      4.9            13.022394             80.242439   \n41366                      4.7            11.001753             76.986241   \n41367                      4.9            23.351058             85.325731   \n\n       Delivery_location_latitude  Delivery_location_longitude  Order_Date  \\\n0                       22.765049                    75.912471  2022-03-19   \n1                       13.043041                    77.813237  2022-03-25   \n2                       12.924264                    77.688400  2022-03-19   \n3                       11.053669                    77.026494  2022-04-05   \n4                       13.012793                    80.289982  2022-03-26   \n...                           ...                          ...         ...   \n41363                   26.912328                    75.804257  2022-03-24   \n41364                    0.070000                     0.070000  2022-02-16   \n41365                   13.052394                    80.272439  2022-03-11   \n41366                   11.041753                    77.026241  2022-03-07   \n41367                   23.431058                    85.405731  2022-03-02   \n\n      Time_Orderd Time_Order_picked Weatherconditions Road_traffic_density  \\\n0        11:30:00          11:45:00             Sunny                High    \n1        19:45:00          19:50:00            Stormy                 Jam    \n2        08:30:00          08:45:00        Sandstorms                 Low    \n3        18:00:00          18:10:00             Sunny              Medium    \n4        13:30:00          13:45:00            Cloudy                High    \n...           ...               ...               ...                  ...   \n41363    11:35:00          11:45:00             Windy                High    \n41364    19:55:00          20:10:00             Windy                 Jam    \n41365    23:50:00          00:05:00            Cloudy                 Low    \n41366    13:35:00          13:40:00            Cloudy                High    \n41367    17:10:00          17:15:00               Fog              Medium    \n\n       Vehicle_condition Type_of_order Type_of_vehicle  multiple_deliveries  \\\n0                    2.0        Snack      motorcycle                   0.0   \n1                    2.0        Snack         scooter                   1.0   \n2                    0.0       Drinks      motorcycle                   1.0   \n3                    0.0       Buffet      motorcycle                   1.0   \n4                    1.0        Snack         scooter                   1.0   \n...                  ...           ...             ...                  ...   \n41363                1.0         Meal      motorcycle                   0.0   \n41364                0.0       Buffet      motorcycle                   1.0   \n41365                1.0       Drinks         scooter                   0.0   \n41366                0.0        Snack      motorcycle                   1.0   \n41367                2.0        Snack         scooter                   1.0   \n\n      Festival            City  Time_taken(min)  \n0          No           Urban                24  \n1          No   Metropolitian                33  \n2          No           Urban                26  \n3          No   Metropolitian                21  \n4          No   Metropolitian                30  \n...        ...             ...              ...  \n41363      No   Metropolitian                32  \n41364      No   Metropolitian                36  \n41365      No   Metropolitian                16  \n41366      No   Metropolitian                26  \n41367      No   Metropolitian                36  \n\n[41368 rows x 20 columns]",
      "text/html": "<div>\n<style scoped>\n    .dataframe tbody tr th:only-of-type {\n        vertical-align: middle;\n    }\n\n    .dataframe tbody tr th {\n        vertical-align: top;\n    }\n\n    .dataframe thead th {\n        text-align: right;\n    }\n</style>\n<table border=\"1\" class=\"dataframe\">\n  <thead>\n    <tr style=\"text-align: right;\">\n      <th></th>\n      <th>ID</th>\n      <th>Delivery_person_ID</th>\n      <th>Delivery_person_Age</th>\n      <th>Delivery_person_Ratings</th>\n      <th>Restaurant_latitude</th>\n      <th>Restaurant_longitude</th>\n      <th>Delivery_location_latitude</th>\n      <th>Delivery_location_longitude</th>\n      <th>Order_Date</th>\n      <th>Time_Orderd</th>\n      <th>Time_Order_picked</th>\n      <th>Weatherconditions</th>\n      <th>Road_traffic_density</th>\n      <th>Vehicle_condition</th>\n      <th>Type_of_order</th>\n      <th>Type_of_vehicle</th>\n      <th>multiple_deliveries</th>\n      <th>Festival</th>\n      <th>City</th>\n      <th>Time_taken(min)</th>\n    </tr>\n  </thead>\n  <tbody>\n    <tr>\n      <th>0</th>\n      <td>0x4607</td>\n      <td>INDORES13DEL02</td>\n      <td>37.0</td>\n      <td>4.9</td>\n      <td>22.745049</td>\n      <td>75.892471</td>\n      <td>22.765049</td>\n      <td>75.912471</td>\n      <td>2022-03-19</td>\n      <td>11:30:00</td>\n      <td>11:45:00</td>\n      <td>Sunny</td>\n      <td>High</td>\n      <td>2.0</td>\n      <td>Snack</td>\n      <td>motorcycle</td>\n      <td>0.0</td>\n      <td>No</td>\n      <td>Urban</td>\n      <td>24</td>\n    </tr>\n    <tr>\n      <th>1</th>\n      <td>0xb379</td>\n      <td>BANGRES18DEL02</td>\n      <td>34.0</td>\n      <td>4.5</td>\n      <td>12.913041</td>\n      <td>77.683237</td>\n      <td>13.043041</td>\n      <td>77.813237</td>\n      <td>2022-03-25</td>\n      <td>19:45:00</td>\n      <td>19:50:00</td>\n      <td>Stormy</td>\n      <td>Jam</td>\n      <td>2.0</td>\n      <td>Snack</td>\n      <td>scooter</td>\n      <td>1.0</td>\n      <td>No</td>\n      <td>Metropolitian</td>\n      <td>33</td>\n    </tr>\n    <tr>\n      <th>2</th>\n      <td>0x5d6d</td>\n      <td>BANGRES19DEL01</td>\n      <td>23.0</td>\n      <td>4.4</td>\n      <td>12.914264</td>\n      <td>77.678400</td>\n      <td>12.924264</td>\n      <td>77.688400</td>\n      <td>2022-03-19</td>\n      <td>08:30:00</td>\n      <td>08:45:00</td>\n      <td>Sandstorms</td>\n      <td>Low</td>\n      <td>0.0</td>\n      <td>Drinks</td>\n      <td>motorcycle</td>\n      <td>1.0</td>\n      <td>No</td>\n      <td>Urban</td>\n      <td>26</td>\n    </tr>\n    <tr>\n      <th>3</th>\n      <td>0x7a6a</td>\n      <td>COIMBRES13DEL02</td>\n      <td>38.0</td>\n      <td>4.7</td>\n      <td>11.003669</td>\n      <td>76.976494</td>\n      <td>11.053669</td>\n      <td>77.026494</td>\n      <td>2022-04-05</td>\n      <td>18:00:00</td>\n      <td>18:10:00</td>\n      <td>Sunny</td>\n      <td>Medium</td>\n      <td>0.0</td>\n      <td>Buffet</td>\n      <td>motorcycle</td>\n      <td>1.0</td>\n      <td>No</td>\n      <td>Metropolitian</td>\n      <td>21</td>\n    </tr>\n    <tr>\n      <th>4</th>\n      <td>0x70a2</td>\n      <td>CHENRES12DEL01</td>\n      <td>32.0</td>\n      <td>4.6</td>\n      <td>12.972793</td>\n      <td>80.249982</td>\n      <td>13.012793</td>\n      <td>80.289982</td>\n      <td>2022-03-26</td>\n      <td>13:30:00</td>\n      <td>13:45:00</td>\n      <td>Cloudy</td>\n      <td>High</td>\n      <td>1.0</td>\n      <td>Snack</td>\n      <td>scooter</td>\n      <td>1.0</td>\n      <td>No</td>\n      <td>Metropolitian</td>\n      <td>30</td>\n    </tr>\n    <tr>\n      <th>...</th>\n      <td>...</td>\n      <td>...</td>\n      <td>...</td>\n      <td>...</td>\n      <td>...</td>\n      <td>...</td>\n      <td>...</td>\n      <td>...</td>\n      <td>...</td>\n      <td>...</td>\n      <td>...</td>\n      <td>...</td>\n      <td>...</td>\n      <td>...</td>\n      <td>...</td>\n      <td>...</td>\n      <td>...</td>\n      <td>...</td>\n      <td>...</td>\n      <td>...</td>\n    </tr>\n    <tr>\n      <th>41363</th>\n      <td>0x7c09</td>\n      <td>JAPRES04DEL01</td>\n      <td>30.0</td>\n      <td>4.8</td>\n      <td>26.902328</td>\n      <td>75.794257</td>\n      <td>26.912328</td>\n      <td>75.804257</td>\n      <td>2022-03-24</td>\n      <td>11:35:00</td>\n      <td>11:45:00</td>\n      <td>Windy</td>\n      <td>High</td>\n      <td>1.0</td>\n      <td>Meal</td>\n      <td>motorcycle</td>\n      <td>0.0</td>\n      <td>No</td>\n      <td>Metropolitian</td>\n      <td>32</td>\n    </tr>\n    <tr>\n      <th>41364</th>\n      <td>0xd641</td>\n      <td>AGRRES16DEL01</td>\n      <td>21.0</td>\n      <td>4.6</td>\n      <td>0.000000</td>\n      <td>0.000000</td>\n      <td>0.070000</td>\n      <td>0.070000</td>\n      <td>2022-02-16</td>\n      <td>19:55:00</td>\n      <td>20:10:00</td>\n      <td>Windy</td>\n      <td>Jam</td>\n      <td>0.0</td>\n      <td>Buffet</td>\n      <td>motorcycle</td>\n      <td>1.0</td>\n      <td>No</td>\n      <td>Metropolitian</td>\n      <td>36</td>\n    </tr>\n    <tr>\n      <th>41365</th>\n      <td>0x4f8d</td>\n      <td>CHENRES08DEL03</td>\n      <td>30.0</td>\n      <td>4.9</td>\n      <td>13.022394</td>\n      <td>80.242439</td>\n      <td>13.052394</td>\n      <td>80.272439</td>\n      <td>2022-03-11</td>\n      <td>23:50:00</td>\n      <td>00:05:00</td>\n      <td>Cloudy</td>\n      <td>Low</td>\n      <td>1.0</td>\n      <td>Drinks</td>\n      <td>scooter</td>\n      <td>0.0</td>\n      <td>No</td>\n      <td>Metropolitian</td>\n      <td>16</td>\n    </tr>\n    <tr>\n      <th>41366</th>\n      <td>0x5eee</td>\n      <td>COIMBRES11DEL01</td>\n      <td>20.0</td>\n      <td>4.7</td>\n      <td>11.001753</td>\n      <td>76.986241</td>\n      <td>11.041753</td>\n      <td>77.026241</td>\n      <td>2022-03-07</td>\n      <td>13:35:00</td>\n      <td>13:40:00</td>\n      <td>Cloudy</td>\n      <td>High</td>\n      <td>0.0</td>\n      <td>Snack</td>\n      <td>motorcycle</td>\n      <td>1.0</td>\n      <td>No</td>\n      <td>Metropolitian</td>\n      <td>26</td>\n    </tr>\n    <tr>\n      <th>41367</th>\n      <td>0x5fb2</td>\n      <td>RANCHIRES09DEL02</td>\n      <td>23.0</td>\n      <td>4.9</td>\n      <td>23.351058</td>\n      <td>85.325731</td>\n      <td>23.431058</td>\n      <td>85.405731</td>\n      <td>2022-03-02</td>\n      <td>17:10:00</td>\n      <td>17:15:00</td>\n      <td>Fog</td>\n      <td>Medium</td>\n      <td>2.0</td>\n      <td>Snack</td>\n      <td>scooter</td>\n      <td>1.0</td>\n      <td>No</td>\n      <td>Metropolitian</td>\n      <td>36</td>\n    </tr>\n  </tbody>\n</table>\n<p>41368 rows × 20 columns</p>\n</div>"
     },
     "execution_count": 101,
     "metadata": {},
     "output_type": "execute_result"
    }
   ],
   "source": [
    "df = pd.read_csv('data/train_clean.csv', index_col=0, parse_dates=True)\n",
    "df"
   ],
   "metadata": {
    "collapsed": false,
    "pycharm": {
     "name": "#%%\n"
    }
   }
  },
  {
   "cell_type": "markdown",
   "source": [
    "# Time taken for driver to pick up order"
   ],
   "metadata": {
    "collapsed": false,
    "pycharm": {
     "name": "#%% md\n"
    }
   }
  },
  {
   "cell_type": "code",
   "execution_count": 102,
   "outputs": [],
   "source": [
    "# changing the date data\n",
    "df['Order_Date'] = pd.to_datetime(df['Order_Date'], infer_datetime_format=True)\n",
    "df['Time_Order_picked'] = pd.to_datetime(df['Time_Order_picked'], format='%H:%M:%S')\n",
    "df['Time_Orderd'] = pd.to_datetime(df['Time_Orderd'], format='%H:%M:%S')"
   ],
   "metadata": {
    "collapsed": false,
    "pycharm": {
     "name": "#%%\n"
    }
   }
  },
  {
   "cell_type": "code",
   "execution_count": 103,
   "outputs": [],
   "source": [
    "same_day = (df[df['Time_Orderd'] <= df['Time_Order_picked']]['Time_Order_picked'] - df[df['Time_Orderd'] <= df['Time_Order_picked']]['Time_Orderd']).dt.total_seconds()/60\n",
    "next_day = (df[df['Time_Orderd'] > df['Time_Order_picked']]['Time_Order_picked'] + pd.DateOffset(1) - df[df['Time_Orderd'] > df['Time_Order_picked']]['Time_Orderd']).dt.total_seconds()/60"
   ],
   "metadata": {
    "collapsed": false,
    "pycharm": {
     "name": "#%%\n"
    }
   }
  },
  {
   "cell_type": "code",
   "execution_count": 104,
   "outputs": [
    {
     "data": {
      "text/plain": "            ID Delivery_person_ID  Delivery_person_Age  \\\n0      0x4607     INDORES13DEL02                  37.0   \n1      0xb379     BANGRES18DEL02                  34.0   \n2      0x5d6d     BANGRES19DEL01                  23.0   \n3      0x7a6a    COIMBRES13DEL02                  38.0   \n4      0x70a2     CHENRES12DEL01                  32.0   \n...        ...                ...                  ...   \n41363  0x7c09      JAPRES04DEL01                  30.0   \n41364  0xd641      AGRRES16DEL01                  21.0   \n41365  0x4f8d     CHENRES08DEL03                  30.0   \n41366  0x5eee    COIMBRES11DEL01                  20.0   \n41367  0x5fb2   RANCHIRES09DEL02                  23.0   \n\n       Delivery_person_Ratings  Restaurant_latitude  Restaurant_longitude  \\\n0                          4.9            22.745049             75.892471   \n1                          4.5            12.913041             77.683237   \n2                          4.4            12.914264             77.678400   \n3                          4.7            11.003669             76.976494   \n4                          4.6            12.972793             80.249982   \n...                        ...                  ...                   ...   \n41363                      4.8            26.902328             75.794257   \n41364                      4.6             0.000000              0.000000   \n41365                      4.9            13.022394             80.242439   \n41366                      4.7            11.001753             76.986241   \n41367                      4.9            23.351058             85.325731   \n\n       Delivery_location_latitude  Delivery_location_longitude Order_Date  \\\n0                       22.765049                    75.912471 2022-03-19   \n1                       13.043041                    77.813237 2022-03-25   \n2                       12.924264                    77.688400 2022-03-19   \n3                       11.053669                    77.026494 2022-04-05   \n4                       13.012793                    80.289982 2022-03-26   \n...                           ...                          ...        ...   \n41363                   26.912328                    75.804257 2022-03-24   \n41364                    0.070000                     0.070000 2022-02-16   \n41365                   13.052394                    80.272439 2022-03-11   \n41366                   11.041753                    77.026241 2022-03-07   \n41367                   23.431058                    85.405731 2022-03-02   \n\n              Time_Orderd  ... Weatherconditions Road_traffic_density  \\\n0     1900-01-01 11:30:00  ...             Sunny                High    \n1     1900-01-01 19:45:00  ...            Stormy                 Jam    \n2     1900-01-01 08:30:00  ...        Sandstorms                 Low    \n3     1900-01-01 18:00:00  ...             Sunny              Medium    \n4     1900-01-01 13:30:00  ...            Cloudy                High    \n...                   ...  ...               ...                  ...   \n41363 1900-01-01 11:35:00  ...             Windy                High    \n41364 1900-01-01 19:55:00  ...             Windy                 Jam    \n41365 1900-01-01 23:50:00  ...            Cloudy                 Low    \n41366 1900-01-01 13:35:00  ...            Cloudy                High    \n41367 1900-01-01 17:10:00  ...               Fog              Medium    \n\n      Vehicle_condition  Type_of_order Type_of_vehicle multiple_deliveries  \\\n0                   2.0         Snack      motorcycle                  0.0   \n1                   2.0         Snack         scooter                  1.0   \n2                   0.0        Drinks      motorcycle                  1.0   \n3                   0.0        Buffet      motorcycle                  1.0   \n4                   1.0         Snack         scooter                  1.0   \n...                 ...            ...             ...                 ...   \n41363               1.0          Meal      motorcycle                  0.0   \n41364               0.0        Buffet      motorcycle                  1.0   \n41365               1.0        Drinks         scooter                  0.0   \n41366               0.0         Snack      motorcycle                  1.0   \n41367               2.0         Snack         scooter                  1.0   \n\n       Festival            City Time_taken(min)  Order_Pickup_Time  \n0           No           Urban               24               15.0  \n1           No   Metropolitian               33                5.0  \n2           No           Urban               26               15.0  \n3           No   Metropolitian               21               10.0  \n4           No   Metropolitian               30               15.0  \n...         ...             ...             ...                ...  \n41363       No   Metropolitian               32               10.0  \n41364       No   Metropolitian               36               15.0  \n41365       No   Metropolitian               16               15.0  \n41366       No   Metropolitian               26                5.0  \n41367       No   Metropolitian               36                5.0  \n\n[41368 rows x 21 columns]",
      "text/html": "<div>\n<style scoped>\n    .dataframe tbody tr th:only-of-type {\n        vertical-align: middle;\n    }\n\n    .dataframe tbody tr th {\n        vertical-align: top;\n    }\n\n    .dataframe thead th {\n        text-align: right;\n    }\n</style>\n<table border=\"1\" class=\"dataframe\">\n  <thead>\n    <tr style=\"text-align: right;\">\n      <th></th>\n      <th>ID</th>\n      <th>Delivery_person_ID</th>\n      <th>Delivery_person_Age</th>\n      <th>Delivery_person_Ratings</th>\n      <th>Restaurant_latitude</th>\n      <th>Restaurant_longitude</th>\n      <th>Delivery_location_latitude</th>\n      <th>Delivery_location_longitude</th>\n      <th>Order_Date</th>\n      <th>Time_Orderd</th>\n      <th>...</th>\n      <th>Weatherconditions</th>\n      <th>Road_traffic_density</th>\n      <th>Vehicle_condition</th>\n      <th>Type_of_order</th>\n      <th>Type_of_vehicle</th>\n      <th>multiple_deliveries</th>\n      <th>Festival</th>\n      <th>City</th>\n      <th>Time_taken(min)</th>\n      <th>Order_Pickup_Time</th>\n    </tr>\n  </thead>\n  <tbody>\n    <tr>\n      <th>0</th>\n      <td>0x4607</td>\n      <td>INDORES13DEL02</td>\n      <td>37.0</td>\n      <td>4.9</td>\n      <td>22.745049</td>\n      <td>75.892471</td>\n      <td>22.765049</td>\n      <td>75.912471</td>\n      <td>2022-03-19</td>\n      <td>1900-01-01 11:30:00</td>\n      <td>...</td>\n      <td>Sunny</td>\n      <td>High</td>\n      <td>2.0</td>\n      <td>Snack</td>\n      <td>motorcycle</td>\n      <td>0.0</td>\n      <td>No</td>\n      <td>Urban</td>\n      <td>24</td>\n      <td>15.0</td>\n    </tr>\n    <tr>\n      <th>1</th>\n      <td>0xb379</td>\n      <td>BANGRES18DEL02</td>\n      <td>34.0</td>\n      <td>4.5</td>\n      <td>12.913041</td>\n      <td>77.683237</td>\n      <td>13.043041</td>\n      <td>77.813237</td>\n      <td>2022-03-25</td>\n      <td>1900-01-01 19:45:00</td>\n      <td>...</td>\n      <td>Stormy</td>\n      <td>Jam</td>\n      <td>2.0</td>\n      <td>Snack</td>\n      <td>scooter</td>\n      <td>1.0</td>\n      <td>No</td>\n      <td>Metropolitian</td>\n      <td>33</td>\n      <td>5.0</td>\n    </tr>\n    <tr>\n      <th>2</th>\n      <td>0x5d6d</td>\n      <td>BANGRES19DEL01</td>\n      <td>23.0</td>\n      <td>4.4</td>\n      <td>12.914264</td>\n      <td>77.678400</td>\n      <td>12.924264</td>\n      <td>77.688400</td>\n      <td>2022-03-19</td>\n      <td>1900-01-01 08:30:00</td>\n      <td>...</td>\n      <td>Sandstorms</td>\n      <td>Low</td>\n      <td>0.0</td>\n      <td>Drinks</td>\n      <td>motorcycle</td>\n      <td>1.0</td>\n      <td>No</td>\n      <td>Urban</td>\n      <td>26</td>\n      <td>15.0</td>\n    </tr>\n    <tr>\n      <th>3</th>\n      <td>0x7a6a</td>\n      <td>COIMBRES13DEL02</td>\n      <td>38.0</td>\n      <td>4.7</td>\n      <td>11.003669</td>\n      <td>76.976494</td>\n      <td>11.053669</td>\n      <td>77.026494</td>\n      <td>2022-04-05</td>\n      <td>1900-01-01 18:00:00</td>\n      <td>...</td>\n      <td>Sunny</td>\n      <td>Medium</td>\n      <td>0.0</td>\n      <td>Buffet</td>\n      <td>motorcycle</td>\n      <td>1.0</td>\n      <td>No</td>\n      <td>Metropolitian</td>\n      <td>21</td>\n      <td>10.0</td>\n    </tr>\n    <tr>\n      <th>4</th>\n      <td>0x70a2</td>\n      <td>CHENRES12DEL01</td>\n      <td>32.0</td>\n      <td>4.6</td>\n      <td>12.972793</td>\n      <td>80.249982</td>\n      <td>13.012793</td>\n      <td>80.289982</td>\n      <td>2022-03-26</td>\n      <td>1900-01-01 13:30:00</td>\n      <td>...</td>\n      <td>Cloudy</td>\n      <td>High</td>\n      <td>1.0</td>\n      <td>Snack</td>\n      <td>scooter</td>\n      <td>1.0</td>\n      <td>No</td>\n      <td>Metropolitian</td>\n      <td>30</td>\n      <td>15.0</td>\n    </tr>\n    <tr>\n      <th>...</th>\n      <td>...</td>\n      <td>...</td>\n      <td>...</td>\n      <td>...</td>\n      <td>...</td>\n      <td>...</td>\n      <td>...</td>\n      <td>...</td>\n      <td>...</td>\n      <td>...</td>\n      <td>...</td>\n      <td>...</td>\n      <td>...</td>\n      <td>...</td>\n      <td>...</td>\n      <td>...</td>\n      <td>...</td>\n      <td>...</td>\n      <td>...</td>\n      <td>...</td>\n      <td>...</td>\n    </tr>\n    <tr>\n      <th>41363</th>\n      <td>0x7c09</td>\n      <td>JAPRES04DEL01</td>\n      <td>30.0</td>\n      <td>4.8</td>\n      <td>26.902328</td>\n      <td>75.794257</td>\n      <td>26.912328</td>\n      <td>75.804257</td>\n      <td>2022-03-24</td>\n      <td>1900-01-01 11:35:00</td>\n      <td>...</td>\n      <td>Windy</td>\n      <td>High</td>\n      <td>1.0</td>\n      <td>Meal</td>\n      <td>motorcycle</td>\n      <td>0.0</td>\n      <td>No</td>\n      <td>Metropolitian</td>\n      <td>32</td>\n      <td>10.0</td>\n    </tr>\n    <tr>\n      <th>41364</th>\n      <td>0xd641</td>\n      <td>AGRRES16DEL01</td>\n      <td>21.0</td>\n      <td>4.6</td>\n      <td>0.000000</td>\n      <td>0.000000</td>\n      <td>0.070000</td>\n      <td>0.070000</td>\n      <td>2022-02-16</td>\n      <td>1900-01-01 19:55:00</td>\n      <td>...</td>\n      <td>Windy</td>\n      <td>Jam</td>\n      <td>0.0</td>\n      <td>Buffet</td>\n      <td>motorcycle</td>\n      <td>1.0</td>\n      <td>No</td>\n      <td>Metropolitian</td>\n      <td>36</td>\n      <td>15.0</td>\n    </tr>\n    <tr>\n      <th>41365</th>\n      <td>0x4f8d</td>\n      <td>CHENRES08DEL03</td>\n      <td>30.0</td>\n      <td>4.9</td>\n      <td>13.022394</td>\n      <td>80.242439</td>\n      <td>13.052394</td>\n      <td>80.272439</td>\n      <td>2022-03-11</td>\n      <td>1900-01-01 23:50:00</td>\n      <td>...</td>\n      <td>Cloudy</td>\n      <td>Low</td>\n      <td>1.0</td>\n      <td>Drinks</td>\n      <td>scooter</td>\n      <td>0.0</td>\n      <td>No</td>\n      <td>Metropolitian</td>\n      <td>16</td>\n      <td>15.0</td>\n    </tr>\n    <tr>\n      <th>41366</th>\n      <td>0x5eee</td>\n      <td>COIMBRES11DEL01</td>\n      <td>20.0</td>\n      <td>4.7</td>\n      <td>11.001753</td>\n      <td>76.986241</td>\n      <td>11.041753</td>\n      <td>77.026241</td>\n      <td>2022-03-07</td>\n      <td>1900-01-01 13:35:00</td>\n      <td>...</td>\n      <td>Cloudy</td>\n      <td>High</td>\n      <td>0.0</td>\n      <td>Snack</td>\n      <td>motorcycle</td>\n      <td>1.0</td>\n      <td>No</td>\n      <td>Metropolitian</td>\n      <td>26</td>\n      <td>5.0</td>\n    </tr>\n    <tr>\n      <th>41367</th>\n      <td>0x5fb2</td>\n      <td>RANCHIRES09DEL02</td>\n      <td>23.0</td>\n      <td>4.9</td>\n      <td>23.351058</td>\n      <td>85.325731</td>\n      <td>23.431058</td>\n      <td>85.405731</td>\n      <td>2022-03-02</td>\n      <td>1900-01-01 17:10:00</td>\n      <td>...</td>\n      <td>Fog</td>\n      <td>Medium</td>\n      <td>2.0</td>\n      <td>Snack</td>\n      <td>scooter</td>\n      <td>1.0</td>\n      <td>No</td>\n      <td>Metropolitian</td>\n      <td>36</td>\n      <td>5.0</td>\n    </tr>\n  </tbody>\n</table>\n<p>41368 rows × 21 columns</p>\n</div>"
     },
     "execution_count": 104,
     "metadata": {},
     "output_type": "execute_result"
    }
   ],
   "source": [
    "df.loc[next_day.index, 'Order_Pickup_Time'] = next_day\n",
    "df.loc[same_day.index, 'Order_Pickup_Time'] = same_day\n",
    "df"
   ],
   "metadata": {
    "collapsed": false,
    "pycharm": {
     "name": "#%%\n"
    }
   }
  },
  {
   "cell_type": "markdown",
   "source": [
    "# Adding in Distance Data"
   ],
   "metadata": {
    "collapsed": false,
    "pycharm": {
     "name": "#%% md\n"
    }
   }
  },
  {
   "cell_type": "code",
   "execution_count": 105,
   "outputs": [],
   "source": [
    "from math import radians, cos, sin, asin, sqrt"
   ],
   "metadata": {
    "collapsed": false,
    "pycharm": {
     "name": "#%%\n"
    }
   }
  },
  {
   "cell_type": "code",
   "execution_count": 106,
   "outputs": [
    {
     "data": {
      "text/plain": "            ID Delivery_person_ID  Delivery_person_Age  \\\n0      0x4607     INDORES13DEL02                  37.0   \n1      0xb379     BANGRES18DEL02                  34.0   \n2      0x5d6d     BANGRES19DEL01                  23.0   \n3      0x7a6a    COIMBRES13DEL02                  38.0   \n4      0x70a2     CHENRES12DEL01                  32.0   \n...        ...                ...                  ...   \n41363  0x7c09      JAPRES04DEL01                  30.0   \n41364  0xd641      AGRRES16DEL01                  21.0   \n41365  0x4f8d     CHENRES08DEL03                  30.0   \n41366  0x5eee    COIMBRES11DEL01                  20.0   \n41367  0x5fb2   RANCHIRES09DEL02                  23.0   \n\n       Delivery_person_Ratings  Restaurant_latitude  Restaurant_longitude  \\\n0                          4.9            22.745049             75.892471   \n1                          4.5            12.913041             77.683237   \n2                          4.4            12.914264             77.678400   \n3                          4.7            11.003669             76.976494   \n4                          4.6            12.972793             80.249982   \n...                        ...                  ...                   ...   \n41363                      4.8            26.902328             75.794257   \n41364                      4.6             0.000000              0.000000   \n41365                      4.9            13.022394             80.242439   \n41366                      4.7            11.001753             76.986241   \n41367                      4.9            23.351058             85.325731   \n\n       Delivery_location_latitude  Delivery_location_longitude Order_Date  \\\n0                       22.765049                    75.912471 2022-03-19   \n1                       13.043041                    77.813237 2022-03-25   \n2                       12.924264                    77.688400 2022-03-19   \n3                       11.053669                    77.026494 2022-04-05   \n4                       13.012793                    80.289982 2022-03-26   \n...                           ...                          ...        ...   \n41363                   26.912328                    75.804257 2022-03-24   \n41364                    0.070000                     0.070000 2022-02-16   \n41365                   13.052394                    80.272439 2022-03-11   \n41366                   11.041753                    77.026241 2022-03-07   \n41367                   23.431058                    85.405731 2022-03-02   \n\n              Time_Orderd  ... Road_traffic_density Vehicle_condition  \\\n0     1900-01-01 11:30:00  ...                High                2.0   \n1     1900-01-01 19:45:00  ...                 Jam                2.0   \n2     1900-01-01 08:30:00  ...                 Low                0.0   \n3     1900-01-01 18:00:00  ...              Medium                0.0   \n4     1900-01-01 13:30:00  ...                High                1.0   \n...                   ...  ...                  ...               ...   \n41363 1900-01-01 11:35:00  ...                High                1.0   \n41364 1900-01-01 19:55:00  ...                 Jam                0.0   \n41365 1900-01-01 23:50:00  ...                 Low                1.0   \n41366 1900-01-01 13:35:00  ...                High                0.0   \n41367 1900-01-01 17:10:00  ...              Medium                2.0   \n\n      Type_of_order  Type_of_vehicle multiple_deliveries Festival  \\\n0            Snack       motorcycle                  0.0      No    \n1            Snack          scooter                  1.0      No    \n2           Drinks       motorcycle                  1.0      No    \n3           Buffet       motorcycle                  1.0      No    \n4            Snack          scooter                  1.0      No    \n...             ...              ...                 ...      ...   \n41363         Meal       motorcycle                  0.0      No    \n41364       Buffet       motorcycle                  1.0      No    \n41365       Drinks          scooter                  0.0      No    \n41366        Snack       motorcycle                  1.0      No    \n41367        Snack          scooter                  1.0      No    \n\n                 City Time_taken(min) Order_Pickup_Time  Delivery_Distance (m)  \n0              Urban               24              15.0            3025.149286  \n1      Metropolitian               33               5.0           20183.529729  \n2              Urban               26              15.0            1552.757802  \n3      Metropolitian               21              10.0            7790.401360  \n4      Metropolitian               30              15.0            6210.137966  \n...               ...             ...               ...                    ...  \n41363  Metropolitian               32              10.0            1489.845884  \n41364  Metropolitian               36              15.0           11007.734764  \n41365  Metropolitian               16              15.0            4657.195394  \n41366  Metropolitian               26               5.0            6232.393050  \n41367  Metropolitian               36               5.0           12074.395526  \n\n[41368 rows x 22 columns]",
      "text/html": "<div>\n<style scoped>\n    .dataframe tbody tr th:only-of-type {\n        vertical-align: middle;\n    }\n\n    .dataframe tbody tr th {\n        vertical-align: top;\n    }\n\n    .dataframe thead th {\n        text-align: right;\n    }\n</style>\n<table border=\"1\" class=\"dataframe\">\n  <thead>\n    <tr style=\"text-align: right;\">\n      <th></th>\n      <th>ID</th>\n      <th>Delivery_person_ID</th>\n      <th>Delivery_person_Age</th>\n      <th>Delivery_person_Ratings</th>\n      <th>Restaurant_latitude</th>\n      <th>Restaurant_longitude</th>\n      <th>Delivery_location_latitude</th>\n      <th>Delivery_location_longitude</th>\n      <th>Order_Date</th>\n      <th>Time_Orderd</th>\n      <th>...</th>\n      <th>Road_traffic_density</th>\n      <th>Vehicle_condition</th>\n      <th>Type_of_order</th>\n      <th>Type_of_vehicle</th>\n      <th>multiple_deliveries</th>\n      <th>Festival</th>\n      <th>City</th>\n      <th>Time_taken(min)</th>\n      <th>Order_Pickup_Time</th>\n      <th>Delivery_Distance (m)</th>\n    </tr>\n  </thead>\n  <tbody>\n    <tr>\n      <th>0</th>\n      <td>0x4607</td>\n      <td>INDORES13DEL02</td>\n      <td>37.0</td>\n      <td>4.9</td>\n      <td>22.745049</td>\n      <td>75.892471</td>\n      <td>22.765049</td>\n      <td>75.912471</td>\n      <td>2022-03-19</td>\n      <td>1900-01-01 11:30:00</td>\n      <td>...</td>\n      <td>High</td>\n      <td>2.0</td>\n      <td>Snack</td>\n      <td>motorcycle</td>\n      <td>0.0</td>\n      <td>No</td>\n      <td>Urban</td>\n      <td>24</td>\n      <td>15.0</td>\n      <td>3025.149286</td>\n    </tr>\n    <tr>\n      <th>1</th>\n      <td>0xb379</td>\n      <td>BANGRES18DEL02</td>\n      <td>34.0</td>\n      <td>4.5</td>\n      <td>12.913041</td>\n      <td>77.683237</td>\n      <td>13.043041</td>\n      <td>77.813237</td>\n      <td>2022-03-25</td>\n      <td>1900-01-01 19:45:00</td>\n      <td>...</td>\n      <td>Jam</td>\n      <td>2.0</td>\n      <td>Snack</td>\n      <td>scooter</td>\n      <td>1.0</td>\n      <td>No</td>\n      <td>Metropolitian</td>\n      <td>33</td>\n      <td>5.0</td>\n      <td>20183.529729</td>\n    </tr>\n    <tr>\n      <th>2</th>\n      <td>0x5d6d</td>\n      <td>BANGRES19DEL01</td>\n      <td>23.0</td>\n      <td>4.4</td>\n      <td>12.914264</td>\n      <td>77.678400</td>\n      <td>12.924264</td>\n      <td>77.688400</td>\n      <td>2022-03-19</td>\n      <td>1900-01-01 08:30:00</td>\n      <td>...</td>\n      <td>Low</td>\n      <td>0.0</td>\n      <td>Drinks</td>\n      <td>motorcycle</td>\n      <td>1.0</td>\n      <td>No</td>\n      <td>Urban</td>\n      <td>26</td>\n      <td>15.0</td>\n      <td>1552.757802</td>\n    </tr>\n    <tr>\n      <th>3</th>\n      <td>0x7a6a</td>\n      <td>COIMBRES13DEL02</td>\n      <td>38.0</td>\n      <td>4.7</td>\n      <td>11.003669</td>\n      <td>76.976494</td>\n      <td>11.053669</td>\n      <td>77.026494</td>\n      <td>2022-04-05</td>\n      <td>1900-01-01 18:00:00</td>\n      <td>...</td>\n      <td>Medium</td>\n      <td>0.0</td>\n      <td>Buffet</td>\n      <td>motorcycle</td>\n      <td>1.0</td>\n      <td>No</td>\n      <td>Metropolitian</td>\n      <td>21</td>\n      <td>10.0</td>\n      <td>7790.401360</td>\n    </tr>\n    <tr>\n      <th>4</th>\n      <td>0x70a2</td>\n      <td>CHENRES12DEL01</td>\n      <td>32.0</td>\n      <td>4.6</td>\n      <td>12.972793</td>\n      <td>80.249982</td>\n      <td>13.012793</td>\n      <td>80.289982</td>\n      <td>2022-03-26</td>\n      <td>1900-01-01 13:30:00</td>\n      <td>...</td>\n      <td>High</td>\n      <td>1.0</td>\n      <td>Snack</td>\n      <td>scooter</td>\n      <td>1.0</td>\n      <td>No</td>\n      <td>Metropolitian</td>\n      <td>30</td>\n      <td>15.0</td>\n      <td>6210.137966</td>\n    </tr>\n    <tr>\n      <th>...</th>\n      <td>...</td>\n      <td>...</td>\n      <td>...</td>\n      <td>...</td>\n      <td>...</td>\n      <td>...</td>\n      <td>...</td>\n      <td>...</td>\n      <td>...</td>\n      <td>...</td>\n      <td>...</td>\n      <td>...</td>\n      <td>...</td>\n      <td>...</td>\n      <td>...</td>\n      <td>...</td>\n      <td>...</td>\n      <td>...</td>\n      <td>...</td>\n      <td>...</td>\n      <td>...</td>\n    </tr>\n    <tr>\n      <th>41363</th>\n      <td>0x7c09</td>\n      <td>JAPRES04DEL01</td>\n      <td>30.0</td>\n      <td>4.8</td>\n      <td>26.902328</td>\n      <td>75.794257</td>\n      <td>26.912328</td>\n      <td>75.804257</td>\n      <td>2022-03-24</td>\n      <td>1900-01-01 11:35:00</td>\n      <td>...</td>\n      <td>High</td>\n      <td>1.0</td>\n      <td>Meal</td>\n      <td>motorcycle</td>\n      <td>0.0</td>\n      <td>No</td>\n      <td>Metropolitian</td>\n      <td>32</td>\n      <td>10.0</td>\n      <td>1489.845884</td>\n    </tr>\n    <tr>\n      <th>41364</th>\n      <td>0xd641</td>\n      <td>AGRRES16DEL01</td>\n      <td>21.0</td>\n      <td>4.6</td>\n      <td>0.000000</td>\n      <td>0.000000</td>\n      <td>0.070000</td>\n      <td>0.070000</td>\n      <td>2022-02-16</td>\n      <td>1900-01-01 19:55:00</td>\n      <td>...</td>\n      <td>Jam</td>\n      <td>0.0</td>\n      <td>Buffet</td>\n      <td>motorcycle</td>\n      <td>1.0</td>\n      <td>No</td>\n      <td>Metropolitian</td>\n      <td>36</td>\n      <td>15.0</td>\n      <td>11007.734764</td>\n    </tr>\n    <tr>\n      <th>41365</th>\n      <td>0x4f8d</td>\n      <td>CHENRES08DEL03</td>\n      <td>30.0</td>\n      <td>4.9</td>\n      <td>13.022394</td>\n      <td>80.242439</td>\n      <td>13.052394</td>\n      <td>80.272439</td>\n      <td>2022-03-11</td>\n      <td>1900-01-01 23:50:00</td>\n      <td>...</td>\n      <td>Low</td>\n      <td>1.0</td>\n      <td>Drinks</td>\n      <td>scooter</td>\n      <td>0.0</td>\n      <td>No</td>\n      <td>Metropolitian</td>\n      <td>16</td>\n      <td>15.0</td>\n      <td>4657.195394</td>\n    </tr>\n    <tr>\n      <th>41366</th>\n      <td>0x5eee</td>\n      <td>COIMBRES11DEL01</td>\n      <td>20.0</td>\n      <td>4.7</td>\n      <td>11.001753</td>\n      <td>76.986241</td>\n      <td>11.041753</td>\n      <td>77.026241</td>\n      <td>2022-03-07</td>\n      <td>1900-01-01 13:35:00</td>\n      <td>...</td>\n      <td>High</td>\n      <td>0.0</td>\n      <td>Snack</td>\n      <td>motorcycle</td>\n      <td>1.0</td>\n      <td>No</td>\n      <td>Metropolitian</td>\n      <td>26</td>\n      <td>5.0</td>\n      <td>6232.393050</td>\n    </tr>\n    <tr>\n      <th>41367</th>\n      <td>0x5fb2</td>\n      <td>RANCHIRES09DEL02</td>\n      <td>23.0</td>\n      <td>4.9</td>\n      <td>23.351058</td>\n      <td>85.325731</td>\n      <td>23.431058</td>\n      <td>85.405731</td>\n      <td>2022-03-02</td>\n      <td>1900-01-01 17:10:00</td>\n      <td>...</td>\n      <td>Medium</td>\n      <td>2.0</td>\n      <td>Snack</td>\n      <td>scooter</td>\n      <td>1.0</td>\n      <td>No</td>\n      <td>Metropolitian</td>\n      <td>36</td>\n      <td>5.0</td>\n      <td>12074.395526</td>\n    </tr>\n  </tbody>\n</table>\n<p>41368 rows × 22 columns</p>\n</div>"
     },
     "execution_count": 106,
     "metadata": {},
     "output_type": "execute_result"
    }
   ],
   "source": [
    "def haversine(lon1, lat1, lon2, lat2):\n",
    "    \"\"\"\n",
    "    Calculate the great circle distance between two points\n",
    "    on the earth (specified in decimal degrees)\n",
    "    \"\"\"\n",
    "    # convert decimal degrees to radians\n",
    "    lon1, lat1, lon2, lat2 = map(radians, [lon1, lat1, lon2, lat2])\n",
    "    # haversine formula\n",
    "    dlon = lon2 - lon1\n",
    "    dlat = lat2 - lat1\n",
    "    a = sin(dlat/2)**2 + cos(lat1) * cos(lat2) * sin(dlon/2)**2\n",
    "    c = 2 * asin(sqrt(a))\n",
    "    # Radius of earth in kilometers is 6371\n",
    "    m = 6371* c * 1000\n",
    "    return m\n",
    "\n",
    "df['Delivery_Distance (m)'] = [haversine(df['Restaurant_longitude'][i],df['Restaurant_latitude'][i],df['Delivery_location_longitude'][i],df['Delivery_location_latitude'][i]) for i in range(len(df))]\n",
    "df"
   ],
   "metadata": {
    "collapsed": false,
    "pycharm": {
     "name": "#%%\n"
    }
   }
  },
  {
   "cell_type": "markdown",
   "source": [
    "# Delivery Dates\n",
    "\n",
    "I suspect that delivery time varies by month due to conditions (ie. rainy, icy, dry, etc)"
   ],
   "metadata": {
    "collapsed": false,
    "pycharm": {
     "name": "#%% md\n"
    }
   }
  },
  {
   "cell_type": "code",
   "execution_count": 107,
   "outputs": [],
   "source": [
    "df['Ordered_month'] = df['Order_Date'].dt.month\n",
    "df['Ordered_year'] = df['Order_Date'].dt.year"
   ],
   "metadata": {
    "collapsed": false,
    "pycharm": {
     "name": "#%%\n"
    }
   }
  },
  {
   "cell_type": "markdown",
   "source": [
    "I also suspect that the road conditions on the day varies by what time it is"
   ],
   "metadata": {
    "collapsed": false,
    "pycharm": {
     "name": "#%% md\n"
    }
   }
  },
  {
   "cell_type": "code",
   "execution_count": 108,
   "outputs": [],
   "source": [
    "df['Ordered_time (mins)'] = df['Time_Orderd'].dt.hour * 60 + df['Time_Orderd'].dt.minute"
   ],
   "metadata": {
    "collapsed": false,
    "pycharm": {
     "name": "#%%\n"
    }
   }
  },
  {
   "cell_type": "code",
   "execution_count": 113,
   "outputs": [
    {
     "data": {
      "text/plain": "       Delivery_person_Age  Delivery_person_Ratings Weatherconditions  \\\n0                     37.0                      4.9             Sunny   \n1                     34.0                      4.5            Stormy   \n2                     23.0                      4.4        Sandstorms   \n3                     38.0                      4.7             Sunny   \n4                     32.0                      4.6            Cloudy   \n...                    ...                      ...               ...   \n41363                 30.0                      4.8             Windy   \n41364                 21.0                      4.6             Windy   \n41365                 30.0                      4.9            Cloudy   \n41366                 20.0                      4.7            Cloudy   \n41367                 23.0                      4.9               Fog   \n\n      Road_traffic_density  Vehicle_condition Type_of_order Type_of_vehicle  \\\n0                    High                 2.0        Snack      motorcycle    \n1                     Jam                 2.0        Snack         scooter    \n2                     Low                 0.0       Drinks      motorcycle    \n3                  Medium                 0.0       Buffet      motorcycle    \n4                    High                 1.0        Snack         scooter    \n...                    ...                ...           ...             ...   \n41363                High                 1.0         Meal      motorcycle    \n41364                 Jam                 0.0       Buffet      motorcycle    \n41365                 Low                 1.0       Drinks         scooter    \n41366                High                 0.0        Snack      motorcycle    \n41367              Medium                 2.0        Snack         scooter    \n\n       multiple_deliveries Festival            City  Time_taken(min)  \\\n0                      0.0      No           Urban                24   \n1                      1.0      No   Metropolitian                33   \n2                      1.0      No           Urban                26   \n3                      1.0      No   Metropolitian                21   \n4                      1.0      No   Metropolitian                30   \n...                    ...      ...             ...              ...   \n41363                  0.0      No   Metropolitian                32   \n41364                  1.0      No   Metropolitian                36   \n41365                  0.0      No   Metropolitian                16   \n41366                  1.0      No   Metropolitian                26   \n41367                  1.0      No   Metropolitian                36   \n\n       Order_Pickup_Time  Delivery_Distance (m)  Ordered_month  Ordered_year  \\\n0                   15.0            3025.149286              3          2022   \n1                    5.0           20183.529729              3          2022   \n2                   15.0            1552.757802              3          2022   \n3                   10.0            7790.401360              4          2022   \n4                   15.0            6210.137966              3          2022   \n...                  ...                    ...            ...           ...   \n41363               10.0            1489.845884              3          2022   \n41364               15.0           11007.734764              2          2022   \n41365               15.0            4657.195394              3          2022   \n41366                5.0            6232.393050              3          2022   \n41367                5.0           12074.395526              3          2022   \n\n       Ordered_time (mins)  \n0                      690  \n1                     1185  \n2                      510  \n3                     1080  \n4                      810  \n...                    ...  \n41363                  695  \n41364                 1195  \n41365                 1430  \n41366                  815  \n41367                 1030  \n\n[41368 rows x 16 columns]",
      "text/html": "<div>\n<style scoped>\n    .dataframe tbody tr th:only-of-type {\n        vertical-align: middle;\n    }\n\n    .dataframe tbody tr th {\n        vertical-align: top;\n    }\n\n    .dataframe thead th {\n        text-align: right;\n    }\n</style>\n<table border=\"1\" class=\"dataframe\">\n  <thead>\n    <tr style=\"text-align: right;\">\n      <th></th>\n      <th>Delivery_person_Age</th>\n      <th>Delivery_person_Ratings</th>\n      <th>Weatherconditions</th>\n      <th>Road_traffic_density</th>\n      <th>Vehicle_condition</th>\n      <th>Type_of_order</th>\n      <th>Type_of_vehicle</th>\n      <th>multiple_deliveries</th>\n      <th>Festival</th>\n      <th>City</th>\n      <th>Time_taken(min)</th>\n      <th>Order_Pickup_Time</th>\n      <th>Delivery_Distance (m)</th>\n      <th>Ordered_month</th>\n      <th>Ordered_year</th>\n      <th>Ordered_time (mins)</th>\n    </tr>\n  </thead>\n  <tbody>\n    <tr>\n      <th>0</th>\n      <td>37.0</td>\n      <td>4.9</td>\n      <td>Sunny</td>\n      <td>High</td>\n      <td>2.0</td>\n      <td>Snack</td>\n      <td>motorcycle</td>\n      <td>0.0</td>\n      <td>No</td>\n      <td>Urban</td>\n      <td>24</td>\n      <td>15.0</td>\n      <td>3025.149286</td>\n      <td>3</td>\n      <td>2022</td>\n      <td>690</td>\n    </tr>\n    <tr>\n      <th>1</th>\n      <td>34.0</td>\n      <td>4.5</td>\n      <td>Stormy</td>\n      <td>Jam</td>\n      <td>2.0</td>\n      <td>Snack</td>\n      <td>scooter</td>\n      <td>1.0</td>\n      <td>No</td>\n      <td>Metropolitian</td>\n      <td>33</td>\n      <td>5.0</td>\n      <td>20183.529729</td>\n      <td>3</td>\n      <td>2022</td>\n      <td>1185</td>\n    </tr>\n    <tr>\n      <th>2</th>\n      <td>23.0</td>\n      <td>4.4</td>\n      <td>Sandstorms</td>\n      <td>Low</td>\n      <td>0.0</td>\n      <td>Drinks</td>\n      <td>motorcycle</td>\n      <td>1.0</td>\n      <td>No</td>\n      <td>Urban</td>\n      <td>26</td>\n      <td>15.0</td>\n      <td>1552.757802</td>\n      <td>3</td>\n      <td>2022</td>\n      <td>510</td>\n    </tr>\n    <tr>\n      <th>3</th>\n      <td>38.0</td>\n      <td>4.7</td>\n      <td>Sunny</td>\n      <td>Medium</td>\n      <td>0.0</td>\n      <td>Buffet</td>\n      <td>motorcycle</td>\n      <td>1.0</td>\n      <td>No</td>\n      <td>Metropolitian</td>\n      <td>21</td>\n      <td>10.0</td>\n      <td>7790.401360</td>\n      <td>4</td>\n      <td>2022</td>\n      <td>1080</td>\n    </tr>\n    <tr>\n      <th>4</th>\n      <td>32.0</td>\n      <td>4.6</td>\n      <td>Cloudy</td>\n      <td>High</td>\n      <td>1.0</td>\n      <td>Snack</td>\n      <td>scooter</td>\n      <td>1.0</td>\n      <td>No</td>\n      <td>Metropolitian</td>\n      <td>30</td>\n      <td>15.0</td>\n      <td>6210.137966</td>\n      <td>3</td>\n      <td>2022</td>\n      <td>810</td>\n    </tr>\n    <tr>\n      <th>...</th>\n      <td>...</td>\n      <td>...</td>\n      <td>...</td>\n      <td>...</td>\n      <td>...</td>\n      <td>...</td>\n      <td>...</td>\n      <td>...</td>\n      <td>...</td>\n      <td>...</td>\n      <td>...</td>\n      <td>...</td>\n      <td>...</td>\n      <td>...</td>\n      <td>...</td>\n      <td>...</td>\n    </tr>\n    <tr>\n      <th>41363</th>\n      <td>30.0</td>\n      <td>4.8</td>\n      <td>Windy</td>\n      <td>High</td>\n      <td>1.0</td>\n      <td>Meal</td>\n      <td>motorcycle</td>\n      <td>0.0</td>\n      <td>No</td>\n      <td>Metropolitian</td>\n      <td>32</td>\n      <td>10.0</td>\n      <td>1489.845884</td>\n      <td>3</td>\n      <td>2022</td>\n      <td>695</td>\n    </tr>\n    <tr>\n      <th>41364</th>\n      <td>21.0</td>\n      <td>4.6</td>\n      <td>Windy</td>\n      <td>Jam</td>\n      <td>0.0</td>\n      <td>Buffet</td>\n      <td>motorcycle</td>\n      <td>1.0</td>\n      <td>No</td>\n      <td>Metropolitian</td>\n      <td>36</td>\n      <td>15.0</td>\n      <td>11007.734764</td>\n      <td>2</td>\n      <td>2022</td>\n      <td>1195</td>\n    </tr>\n    <tr>\n      <th>41365</th>\n      <td>30.0</td>\n      <td>4.9</td>\n      <td>Cloudy</td>\n      <td>Low</td>\n      <td>1.0</td>\n      <td>Drinks</td>\n      <td>scooter</td>\n      <td>0.0</td>\n      <td>No</td>\n      <td>Metropolitian</td>\n      <td>16</td>\n      <td>15.0</td>\n      <td>4657.195394</td>\n      <td>3</td>\n      <td>2022</td>\n      <td>1430</td>\n    </tr>\n    <tr>\n      <th>41366</th>\n      <td>20.0</td>\n      <td>4.7</td>\n      <td>Cloudy</td>\n      <td>High</td>\n      <td>0.0</td>\n      <td>Snack</td>\n      <td>motorcycle</td>\n      <td>1.0</td>\n      <td>No</td>\n      <td>Metropolitian</td>\n      <td>26</td>\n      <td>5.0</td>\n      <td>6232.393050</td>\n      <td>3</td>\n      <td>2022</td>\n      <td>815</td>\n    </tr>\n    <tr>\n      <th>41367</th>\n      <td>23.0</td>\n      <td>4.9</td>\n      <td>Fog</td>\n      <td>Medium</td>\n      <td>2.0</td>\n      <td>Snack</td>\n      <td>scooter</td>\n      <td>1.0</td>\n      <td>No</td>\n      <td>Metropolitian</td>\n      <td>36</td>\n      <td>5.0</td>\n      <td>12074.395526</td>\n      <td>3</td>\n      <td>2022</td>\n      <td>1030</td>\n    </tr>\n  </tbody>\n</table>\n<p>41368 rows × 16 columns</p>\n</div>"
     },
     "execution_count": 113,
     "metadata": {},
     "output_type": "execute_result"
    }
   ],
   "source": [
    "df.drop(['ID', 'Delivery_person_ID', 'Restaurant_latitude', 'Restaurant_longitude', 'Delivery_location_latitude', 'Delivery_location_longitude','Order_Date', 'Time_Orderd', 'Time_Order_picked'], axis=1)"
   ],
   "metadata": {
    "collapsed": false,
    "pycharm": {
     "name": "#%%\n"
    }
   }
  }
 ],
 "metadata": {
  "kernelspec": {
   "display_name": "Python 3",
   "language": "python",
   "name": "python3"
  },
  "language_info": {
   "codemirror_mode": {
    "name": "ipython",
    "version": 2
   },
   "file_extension": ".py",
   "mimetype": "text/x-python",
   "name": "python",
   "nbconvert_exporter": "python",
   "pygments_lexer": "ipython2",
   "version": "2.7.6"
  }
 },
 "nbformat": 4,
 "nbformat_minor": 0
}