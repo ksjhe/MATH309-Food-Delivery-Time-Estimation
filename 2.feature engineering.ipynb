{
 "cells": [
  {
   "cell_type": "code",
   "execution_count": 57,
   "outputs": [],
   "source": [
    "import numpy as np\n",
    "import pandas as pd"
   ],
   "metadata": {
    "collapsed": false,
    "pycharm": {
     "name": "#%%\n"
    }
   }
  },
  {
   "cell_type": "code",
   "execution_count": 58,
   "outputs": [
    {
     "data": {
      "text/plain": "            ID Delivery_person_ID  Delivery_person_Age  \\\n0      0x3474     BANGRES15DEL01                  28.0   \n1      0x9420      JAPRES09DEL03                  23.0   \n2      0x72ee      JAPRES07DEL03                  21.0   \n3      0xa759     CHENRES19DEL01                  31.0   \n4      0xc4af      GOARES04DEL01                  26.0   \n...        ...                ...                  ...   \n10286  0xe240      BHPRES07DEL01                  31.0   \n10287  0x6909      JAPRES01DEL01                  35.0   \n10288  0x443b      JAPRES11DEL01                  33.0   \n10289  0x22d4      VADRES03DEL02                  27.0   \n10290  0xb7be     CHENRES07DEL02                  39.0   \n\n       Delivery_person_Ratings  Restaurant_latitude  Restaurant_longitude  \\\n0                          4.6            12.975377             77.696664   \n1                          4.5            26.911378             75.789034   \n2                          4.8            26.766536             75.837333   \n3                          4.6            12.986047             80.218114   \n4                          4.7            15.569600             73.742294   \n...                        ...                  ...                   ...   \n10286                      4.7             0.000000              0.000000   \n10287                      4.6            26.905190             75.810753   \n10288                      4.9            26.902940             75.793007   \n10289                      4.7            22.320000             73.170000   \n10290                      5.0            13.081878             80.248519   \n\n       Delivery_location_latitude  Delivery_location_longitude  Order_Date  \\\n0                       13.085377                    77.806664  2022-03-29   \n1                       27.001378                    75.879034  2022-03-10   \n2                       26.856536                    75.927333  2022-04-02   \n3                       13.096047                    80.328114  2022-03-27   \n4                       15.579600                    73.752294  2022-02-15   \n...                           ...                          ...         ...   \n10286                    0.010000                     0.010000  2022-02-13   \n10287                   27.015190                    75.920753  2022-03-27   \n10288                   26.912940                    75.803007  2022-03-11   \n10289                   22.450000                    73.300000  2022-03-06   \n10290                   13.131878                    80.298519  2022-03-24   \n\n      Time_Orderd Time_Order_picked Weatherconditions Road_traffic_density  \\\n0        20:30:00          20:35:00             Windy                 Jam    \n1        19:35:00          19:45:00            Stormy                 Jam    \n2        17:15:00          17:20:00               Fog              Medium    \n3        18:25:00          18:40:00             Sunny              Medium    \n4        09:45:00          09:55:00               Fog                 Low    \n...           ...               ...               ...                  ...   \n10286    11:00:00          11:10:00             Windy                 Low    \n10287    21:35:00          21:45:00             Sunny                 Jam    \n10288    11:40:00          11:45:00        Sandstorms                High    \n10289    18:35:00          18:40:00        Sandstorms              Medium    \n10290    22:20:00          22:25:00             Windy                 Low    \n\n       Vehicle_condition Type_of_order Type_of_vehicle  multiple_deliveries  \\\n0                      0        Snack      motorcycle                   1.0   \n1                      0       Drinks      motorcycle                   1.0   \n2                      1         Meal         scooter                   1.0   \n3                      2       Drinks         scooter                   1.0   \n4                      0       Drinks      motorcycle                   1.0   \n...                  ...           ...             ...                  ...   \n10286                  2        Snack         scooter                   1.0   \n10287                  1        Snack         scooter                   1.0   \n10288                  1       Drinks         scooter                   1.0   \n10289                  0         Meal      motorcycle                   0.0   \n10290                  2       Drinks      motorcycle                   1.0   \n\n      Festival            City  \n0          No   Metropolitian   \n1          No   Metropolitian   \n2          No   Metropolitian   \n3          No   Metropolitian   \n4          No   Metropolitian   \n...        ...             ...  \n10286      No   Metropolitian   \n10287      No   Metropolitian   \n10288      No   Metropolitian   \n10289      No   Metropolitian   \n10290      No           Urban   \n\n[10291 rows x 19 columns]",
      "text/html": "<div>\n<style scoped>\n    .dataframe tbody tr th:only-of-type {\n        vertical-align: middle;\n    }\n\n    .dataframe tbody tr th {\n        vertical-align: top;\n    }\n\n    .dataframe thead th {\n        text-align: right;\n    }\n</style>\n<table border=\"1\" class=\"dataframe\">\n  <thead>\n    <tr style=\"text-align: right;\">\n      <th></th>\n      <th>ID</th>\n      <th>Delivery_person_ID</th>\n      <th>Delivery_person_Age</th>\n      <th>Delivery_person_Ratings</th>\n      <th>Restaurant_latitude</th>\n      <th>Restaurant_longitude</th>\n      <th>Delivery_location_latitude</th>\n      <th>Delivery_location_longitude</th>\n      <th>Order_Date</th>\n      <th>Time_Orderd</th>\n      <th>Time_Order_picked</th>\n      <th>Weatherconditions</th>\n      <th>Road_traffic_density</th>\n      <th>Vehicle_condition</th>\n      <th>Type_of_order</th>\n      <th>Type_of_vehicle</th>\n      <th>multiple_deliveries</th>\n      <th>Festival</th>\n      <th>City</th>\n    </tr>\n  </thead>\n  <tbody>\n    <tr>\n      <th>0</th>\n      <td>0x3474</td>\n      <td>BANGRES15DEL01</td>\n      <td>28.0</td>\n      <td>4.6</td>\n      <td>12.975377</td>\n      <td>77.696664</td>\n      <td>13.085377</td>\n      <td>77.806664</td>\n      <td>2022-03-29</td>\n      <td>20:30:00</td>\n      <td>20:35:00</td>\n      <td>Windy</td>\n      <td>Jam</td>\n      <td>0</td>\n      <td>Snack</td>\n      <td>motorcycle</td>\n      <td>1.0</td>\n      <td>No</td>\n      <td>Metropolitian</td>\n    </tr>\n    <tr>\n      <th>1</th>\n      <td>0x9420</td>\n      <td>JAPRES09DEL03</td>\n      <td>23.0</td>\n      <td>4.5</td>\n      <td>26.911378</td>\n      <td>75.789034</td>\n      <td>27.001378</td>\n      <td>75.879034</td>\n      <td>2022-03-10</td>\n      <td>19:35:00</td>\n      <td>19:45:00</td>\n      <td>Stormy</td>\n      <td>Jam</td>\n      <td>0</td>\n      <td>Drinks</td>\n      <td>motorcycle</td>\n      <td>1.0</td>\n      <td>No</td>\n      <td>Metropolitian</td>\n    </tr>\n    <tr>\n      <th>2</th>\n      <td>0x72ee</td>\n      <td>JAPRES07DEL03</td>\n      <td>21.0</td>\n      <td>4.8</td>\n      <td>26.766536</td>\n      <td>75.837333</td>\n      <td>26.856536</td>\n      <td>75.927333</td>\n      <td>2022-04-02</td>\n      <td>17:15:00</td>\n      <td>17:20:00</td>\n      <td>Fog</td>\n      <td>Medium</td>\n      <td>1</td>\n      <td>Meal</td>\n      <td>scooter</td>\n      <td>1.0</td>\n      <td>No</td>\n      <td>Metropolitian</td>\n    </tr>\n    <tr>\n      <th>3</th>\n      <td>0xa759</td>\n      <td>CHENRES19DEL01</td>\n      <td>31.0</td>\n      <td>4.6</td>\n      <td>12.986047</td>\n      <td>80.218114</td>\n      <td>13.096047</td>\n      <td>80.328114</td>\n      <td>2022-03-27</td>\n      <td>18:25:00</td>\n      <td>18:40:00</td>\n      <td>Sunny</td>\n      <td>Medium</td>\n      <td>2</td>\n      <td>Drinks</td>\n      <td>scooter</td>\n      <td>1.0</td>\n      <td>No</td>\n      <td>Metropolitian</td>\n    </tr>\n    <tr>\n      <th>4</th>\n      <td>0xc4af</td>\n      <td>GOARES04DEL01</td>\n      <td>26.0</td>\n      <td>4.7</td>\n      <td>15.569600</td>\n      <td>73.742294</td>\n      <td>15.579600</td>\n      <td>73.752294</td>\n      <td>2022-02-15</td>\n      <td>09:45:00</td>\n      <td>09:55:00</td>\n      <td>Fog</td>\n      <td>Low</td>\n      <td>0</td>\n      <td>Drinks</td>\n      <td>motorcycle</td>\n      <td>1.0</td>\n      <td>No</td>\n      <td>Metropolitian</td>\n    </tr>\n    <tr>\n      <th>...</th>\n      <td>...</td>\n      <td>...</td>\n      <td>...</td>\n      <td>...</td>\n      <td>...</td>\n      <td>...</td>\n      <td>...</td>\n      <td>...</td>\n      <td>...</td>\n      <td>...</td>\n      <td>...</td>\n      <td>...</td>\n      <td>...</td>\n      <td>...</td>\n      <td>...</td>\n      <td>...</td>\n      <td>...</td>\n      <td>...</td>\n      <td>...</td>\n    </tr>\n    <tr>\n      <th>10286</th>\n      <td>0xe240</td>\n      <td>BHPRES07DEL01</td>\n      <td>31.0</td>\n      <td>4.7</td>\n      <td>0.000000</td>\n      <td>0.000000</td>\n      <td>0.010000</td>\n      <td>0.010000</td>\n      <td>2022-02-13</td>\n      <td>11:00:00</td>\n      <td>11:10:00</td>\n      <td>Windy</td>\n      <td>Low</td>\n      <td>2</td>\n      <td>Snack</td>\n      <td>scooter</td>\n      <td>1.0</td>\n      <td>No</td>\n      <td>Metropolitian</td>\n    </tr>\n    <tr>\n      <th>10287</th>\n      <td>0x6909</td>\n      <td>JAPRES01DEL01</td>\n      <td>35.0</td>\n      <td>4.6</td>\n      <td>26.905190</td>\n      <td>75.810753</td>\n      <td>27.015190</td>\n      <td>75.920753</td>\n      <td>2022-03-27</td>\n      <td>21:35:00</td>\n      <td>21:45:00</td>\n      <td>Sunny</td>\n      <td>Jam</td>\n      <td>1</td>\n      <td>Snack</td>\n      <td>scooter</td>\n      <td>1.0</td>\n      <td>No</td>\n      <td>Metropolitian</td>\n    </tr>\n    <tr>\n      <th>10288</th>\n      <td>0x443b</td>\n      <td>JAPRES11DEL01</td>\n      <td>33.0</td>\n      <td>4.9</td>\n      <td>26.902940</td>\n      <td>75.793007</td>\n      <td>26.912940</td>\n      <td>75.803007</td>\n      <td>2022-03-11</td>\n      <td>11:40:00</td>\n      <td>11:45:00</td>\n      <td>Sandstorms</td>\n      <td>High</td>\n      <td>1</td>\n      <td>Drinks</td>\n      <td>scooter</td>\n      <td>1.0</td>\n      <td>No</td>\n      <td>Metropolitian</td>\n    </tr>\n    <tr>\n      <th>10289</th>\n      <td>0x22d4</td>\n      <td>VADRES03DEL02</td>\n      <td>27.0</td>\n      <td>4.7</td>\n      <td>22.320000</td>\n      <td>73.170000</td>\n      <td>22.450000</td>\n      <td>73.300000</td>\n      <td>2022-03-06</td>\n      <td>18:35:00</td>\n      <td>18:40:00</td>\n      <td>Sandstorms</td>\n      <td>Medium</td>\n      <td>0</td>\n      <td>Meal</td>\n      <td>motorcycle</td>\n      <td>0.0</td>\n      <td>No</td>\n      <td>Metropolitian</td>\n    </tr>\n    <tr>\n      <th>10290</th>\n      <td>0xb7be</td>\n      <td>CHENRES07DEL02</td>\n      <td>39.0</td>\n      <td>5.0</td>\n      <td>13.081878</td>\n      <td>80.248519</td>\n      <td>13.131878</td>\n      <td>80.298519</td>\n      <td>2022-03-24</td>\n      <td>22:20:00</td>\n      <td>22:25:00</td>\n      <td>Windy</td>\n      <td>Low</td>\n      <td>2</td>\n      <td>Drinks</td>\n      <td>motorcycle</td>\n      <td>1.0</td>\n      <td>No</td>\n      <td>Urban</td>\n    </tr>\n  </tbody>\n</table>\n<p>10291 rows × 19 columns</p>\n</div>"
     },
     "execution_count": 58,
     "metadata": {},
     "output_type": "execute_result"
    }
   ],
   "source": [
    "df = pd.read_csv('data/test_clean.csv', index_col=0, parse_dates=True)\n",
    "df"
   ],
   "metadata": {
    "collapsed": false,
    "pycharm": {
     "name": "#%%\n"
    }
   }
  },
  {
   "cell_type": "markdown",
   "source": [
    "# Time taken for driver to pick up order"
   ],
   "metadata": {
    "collapsed": false,
    "pycharm": {
     "name": "#%% md\n"
    }
   }
  },
  {
   "cell_type": "code",
   "execution_count": 59,
   "outputs": [],
   "source": [
    "# changing the date data\n",
    "df['Order_Date'] = pd.to_datetime(df['Order_Date'], infer_datetime_format=True)\n",
    "df['Time_Order_picked'] = pd.to_datetime(df['Time_Order_picked'], format='%H:%M:%S')\n",
    "df['Time_Orderd'] = pd.to_datetime(df['Time_Orderd'], format='%H:%M:%S')"
   ],
   "metadata": {
    "collapsed": false,
    "pycharm": {
     "name": "#%%\n"
    }
   }
  },
  {
   "cell_type": "code",
   "execution_count": 60,
   "outputs": [],
   "source": [
    "same_day = (df[df['Time_Orderd'] <= df['Time_Order_picked']]['Time_Order_picked'] - df[df['Time_Orderd'] <= df['Time_Order_picked']]['Time_Orderd']).dt.total_seconds()/60\n",
    "next_day = (df[df['Time_Orderd'] > df['Time_Order_picked']]['Time_Order_picked'] + pd.DateOffset(1) - df[df['Time_Orderd'] > df['Time_Order_picked']]['Time_Orderd']).dt.total_seconds()/60"
   ],
   "metadata": {
    "collapsed": false,
    "pycharm": {
     "name": "#%%\n"
    }
   }
  },
  {
   "cell_type": "code",
   "execution_count": 61,
   "outputs": [
    {
     "data": {
      "text/plain": "            ID Delivery_person_ID  Delivery_person_Age  \\\n0      0x3474     BANGRES15DEL01                  28.0   \n1      0x9420      JAPRES09DEL03                  23.0   \n2      0x72ee      JAPRES07DEL03                  21.0   \n3      0xa759     CHENRES19DEL01                  31.0   \n4      0xc4af      GOARES04DEL01                  26.0   \n...        ...                ...                  ...   \n10286  0xe240      BHPRES07DEL01                  31.0   \n10287  0x6909      JAPRES01DEL01                  35.0   \n10288  0x443b      JAPRES11DEL01                  33.0   \n10289  0x22d4      VADRES03DEL02                  27.0   \n10290  0xb7be     CHENRES07DEL02                  39.0   \n\n       Delivery_person_Ratings  Restaurant_latitude  Restaurant_longitude  \\\n0                          4.6            12.975377             77.696664   \n1                          4.5            26.911378             75.789034   \n2                          4.8            26.766536             75.837333   \n3                          4.6            12.986047             80.218114   \n4                          4.7            15.569600             73.742294   \n...                        ...                  ...                   ...   \n10286                      4.7             0.000000              0.000000   \n10287                      4.6            26.905190             75.810753   \n10288                      4.9            26.902940             75.793007   \n10289                      4.7            22.320000             73.170000   \n10290                      5.0            13.081878             80.248519   \n\n       Delivery_location_latitude  Delivery_location_longitude Order_Date  \\\n0                       13.085377                    77.806664 2022-03-29   \n1                       27.001378                    75.879034 2022-03-10   \n2                       26.856536                    75.927333 2022-04-02   \n3                       13.096047                    80.328114 2022-03-27   \n4                       15.579600                    73.752294 2022-02-15   \n...                           ...                          ...        ...   \n10286                    0.010000                     0.010000 2022-02-13   \n10287                   27.015190                    75.920753 2022-03-27   \n10288                   26.912940                    75.803007 2022-03-11   \n10289                   22.450000                    73.300000 2022-03-06   \n10290                   13.131878                    80.298519 2022-03-24   \n\n              Time_Orderd   Time_Order_picked Weatherconditions  \\\n0     1900-01-01 20:30:00 1900-01-01 20:35:00             Windy   \n1     1900-01-01 19:35:00 1900-01-01 19:45:00            Stormy   \n2     1900-01-01 17:15:00 1900-01-01 17:20:00               Fog   \n3     1900-01-01 18:25:00 1900-01-01 18:40:00             Sunny   \n4     1900-01-01 09:45:00 1900-01-01 09:55:00               Fog   \n...                   ...                 ...               ...   \n10286 1900-01-01 11:00:00 1900-01-01 11:10:00             Windy   \n10287 1900-01-01 21:35:00 1900-01-01 21:45:00             Sunny   \n10288 1900-01-01 11:40:00 1900-01-01 11:45:00        Sandstorms   \n10289 1900-01-01 18:35:00 1900-01-01 18:40:00        Sandstorms   \n10290 1900-01-01 22:20:00 1900-01-01 22:25:00             Windy   \n\n      Road_traffic_density  Vehicle_condition Type_of_order Type_of_vehicle  \\\n0                     Jam                   0        Snack      motorcycle    \n1                     Jam                   0       Drinks      motorcycle    \n2                  Medium                   1         Meal         scooter    \n3                  Medium                   2       Drinks         scooter    \n4                     Low                   0       Drinks      motorcycle    \n...                    ...                ...           ...             ...   \n10286                 Low                   2        Snack         scooter    \n10287                 Jam                   1        Snack         scooter    \n10288                High                   1       Drinks         scooter    \n10289              Medium                   0         Meal      motorcycle    \n10290                 Low                   2       Drinks      motorcycle    \n\n       multiple_deliveries Festival            City  Order_Pickup_Time  \n0                      1.0      No   Metropolitian                 5.0  \n1                      1.0      No   Metropolitian                10.0  \n2                      1.0      No   Metropolitian                 5.0  \n3                      1.0      No   Metropolitian                15.0  \n4                      1.0      No   Metropolitian                10.0  \n...                    ...      ...             ...                ...  \n10286                  1.0      No   Metropolitian                10.0  \n10287                  1.0      No   Metropolitian                10.0  \n10288                  1.0      No   Metropolitian                 5.0  \n10289                  0.0      No   Metropolitian                 5.0  \n10290                  1.0      No           Urban                 5.0  \n\n[10291 rows x 20 columns]",
      "text/html": "<div>\n<style scoped>\n    .dataframe tbody tr th:only-of-type {\n        vertical-align: middle;\n    }\n\n    .dataframe tbody tr th {\n        vertical-align: top;\n    }\n\n    .dataframe thead th {\n        text-align: right;\n    }\n</style>\n<table border=\"1\" class=\"dataframe\">\n  <thead>\n    <tr style=\"text-align: right;\">\n      <th></th>\n      <th>ID</th>\n      <th>Delivery_person_ID</th>\n      <th>Delivery_person_Age</th>\n      <th>Delivery_person_Ratings</th>\n      <th>Restaurant_latitude</th>\n      <th>Restaurant_longitude</th>\n      <th>Delivery_location_latitude</th>\n      <th>Delivery_location_longitude</th>\n      <th>Order_Date</th>\n      <th>Time_Orderd</th>\n      <th>Time_Order_picked</th>\n      <th>Weatherconditions</th>\n      <th>Road_traffic_density</th>\n      <th>Vehicle_condition</th>\n      <th>Type_of_order</th>\n      <th>Type_of_vehicle</th>\n      <th>multiple_deliveries</th>\n      <th>Festival</th>\n      <th>City</th>\n      <th>Order_Pickup_Time</th>\n    </tr>\n  </thead>\n  <tbody>\n    <tr>\n      <th>0</th>\n      <td>0x3474</td>\n      <td>BANGRES15DEL01</td>\n      <td>28.0</td>\n      <td>4.6</td>\n      <td>12.975377</td>\n      <td>77.696664</td>\n      <td>13.085377</td>\n      <td>77.806664</td>\n      <td>2022-03-29</td>\n      <td>1900-01-01 20:30:00</td>\n      <td>1900-01-01 20:35:00</td>\n      <td>Windy</td>\n      <td>Jam</td>\n      <td>0</td>\n      <td>Snack</td>\n      <td>motorcycle</td>\n      <td>1.0</td>\n      <td>No</td>\n      <td>Metropolitian</td>\n      <td>5.0</td>\n    </tr>\n    <tr>\n      <th>1</th>\n      <td>0x9420</td>\n      <td>JAPRES09DEL03</td>\n      <td>23.0</td>\n      <td>4.5</td>\n      <td>26.911378</td>\n      <td>75.789034</td>\n      <td>27.001378</td>\n      <td>75.879034</td>\n      <td>2022-03-10</td>\n      <td>1900-01-01 19:35:00</td>\n      <td>1900-01-01 19:45:00</td>\n      <td>Stormy</td>\n      <td>Jam</td>\n      <td>0</td>\n      <td>Drinks</td>\n      <td>motorcycle</td>\n      <td>1.0</td>\n      <td>No</td>\n      <td>Metropolitian</td>\n      <td>10.0</td>\n    </tr>\n    <tr>\n      <th>2</th>\n      <td>0x72ee</td>\n      <td>JAPRES07DEL03</td>\n      <td>21.0</td>\n      <td>4.8</td>\n      <td>26.766536</td>\n      <td>75.837333</td>\n      <td>26.856536</td>\n      <td>75.927333</td>\n      <td>2022-04-02</td>\n      <td>1900-01-01 17:15:00</td>\n      <td>1900-01-01 17:20:00</td>\n      <td>Fog</td>\n      <td>Medium</td>\n      <td>1</td>\n      <td>Meal</td>\n      <td>scooter</td>\n      <td>1.0</td>\n      <td>No</td>\n      <td>Metropolitian</td>\n      <td>5.0</td>\n    </tr>\n    <tr>\n      <th>3</th>\n      <td>0xa759</td>\n      <td>CHENRES19DEL01</td>\n      <td>31.0</td>\n      <td>4.6</td>\n      <td>12.986047</td>\n      <td>80.218114</td>\n      <td>13.096047</td>\n      <td>80.328114</td>\n      <td>2022-03-27</td>\n      <td>1900-01-01 18:25:00</td>\n      <td>1900-01-01 18:40:00</td>\n      <td>Sunny</td>\n      <td>Medium</td>\n      <td>2</td>\n      <td>Drinks</td>\n      <td>scooter</td>\n      <td>1.0</td>\n      <td>No</td>\n      <td>Metropolitian</td>\n      <td>15.0</td>\n    </tr>\n    <tr>\n      <th>4</th>\n      <td>0xc4af</td>\n      <td>GOARES04DEL01</td>\n      <td>26.0</td>\n      <td>4.7</td>\n      <td>15.569600</td>\n      <td>73.742294</td>\n      <td>15.579600</td>\n      <td>73.752294</td>\n      <td>2022-02-15</td>\n      <td>1900-01-01 09:45:00</td>\n      <td>1900-01-01 09:55:00</td>\n      <td>Fog</td>\n      <td>Low</td>\n      <td>0</td>\n      <td>Drinks</td>\n      <td>motorcycle</td>\n      <td>1.0</td>\n      <td>No</td>\n      <td>Metropolitian</td>\n      <td>10.0</td>\n    </tr>\n    <tr>\n      <th>...</th>\n      <td>...</td>\n      <td>...</td>\n      <td>...</td>\n      <td>...</td>\n      <td>...</td>\n      <td>...</td>\n      <td>...</td>\n      <td>...</td>\n      <td>...</td>\n      <td>...</td>\n      <td>...</td>\n      <td>...</td>\n      <td>...</td>\n      <td>...</td>\n      <td>...</td>\n      <td>...</td>\n      <td>...</td>\n      <td>...</td>\n      <td>...</td>\n      <td>...</td>\n    </tr>\n    <tr>\n      <th>10286</th>\n      <td>0xe240</td>\n      <td>BHPRES07DEL01</td>\n      <td>31.0</td>\n      <td>4.7</td>\n      <td>0.000000</td>\n      <td>0.000000</td>\n      <td>0.010000</td>\n      <td>0.010000</td>\n      <td>2022-02-13</td>\n      <td>1900-01-01 11:00:00</td>\n      <td>1900-01-01 11:10:00</td>\n      <td>Windy</td>\n      <td>Low</td>\n      <td>2</td>\n      <td>Snack</td>\n      <td>scooter</td>\n      <td>1.0</td>\n      <td>No</td>\n      <td>Metropolitian</td>\n      <td>10.0</td>\n    </tr>\n    <tr>\n      <th>10287</th>\n      <td>0x6909</td>\n      <td>JAPRES01DEL01</td>\n      <td>35.0</td>\n      <td>4.6</td>\n      <td>26.905190</td>\n      <td>75.810753</td>\n      <td>27.015190</td>\n      <td>75.920753</td>\n      <td>2022-03-27</td>\n      <td>1900-01-01 21:35:00</td>\n      <td>1900-01-01 21:45:00</td>\n      <td>Sunny</td>\n      <td>Jam</td>\n      <td>1</td>\n      <td>Snack</td>\n      <td>scooter</td>\n      <td>1.0</td>\n      <td>No</td>\n      <td>Metropolitian</td>\n      <td>10.0</td>\n    </tr>\n    <tr>\n      <th>10288</th>\n      <td>0x443b</td>\n      <td>JAPRES11DEL01</td>\n      <td>33.0</td>\n      <td>4.9</td>\n      <td>26.902940</td>\n      <td>75.793007</td>\n      <td>26.912940</td>\n      <td>75.803007</td>\n      <td>2022-03-11</td>\n      <td>1900-01-01 11:40:00</td>\n      <td>1900-01-01 11:45:00</td>\n      <td>Sandstorms</td>\n      <td>High</td>\n      <td>1</td>\n      <td>Drinks</td>\n      <td>scooter</td>\n      <td>1.0</td>\n      <td>No</td>\n      <td>Metropolitian</td>\n      <td>5.0</td>\n    </tr>\n    <tr>\n      <th>10289</th>\n      <td>0x22d4</td>\n      <td>VADRES03DEL02</td>\n      <td>27.0</td>\n      <td>4.7</td>\n      <td>22.320000</td>\n      <td>73.170000</td>\n      <td>22.450000</td>\n      <td>73.300000</td>\n      <td>2022-03-06</td>\n      <td>1900-01-01 18:35:00</td>\n      <td>1900-01-01 18:40:00</td>\n      <td>Sandstorms</td>\n      <td>Medium</td>\n      <td>0</td>\n      <td>Meal</td>\n      <td>motorcycle</td>\n      <td>0.0</td>\n      <td>No</td>\n      <td>Metropolitian</td>\n      <td>5.0</td>\n    </tr>\n    <tr>\n      <th>10290</th>\n      <td>0xb7be</td>\n      <td>CHENRES07DEL02</td>\n      <td>39.0</td>\n      <td>5.0</td>\n      <td>13.081878</td>\n      <td>80.248519</td>\n      <td>13.131878</td>\n      <td>80.298519</td>\n      <td>2022-03-24</td>\n      <td>1900-01-01 22:20:00</td>\n      <td>1900-01-01 22:25:00</td>\n      <td>Windy</td>\n      <td>Low</td>\n      <td>2</td>\n      <td>Drinks</td>\n      <td>motorcycle</td>\n      <td>1.0</td>\n      <td>No</td>\n      <td>Urban</td>\n      <td>5.0</td>\n    </tr>\n  </tbody>\n</table>\n<p>10291 rows × 20 columns</p>\n</div>"
     },
     "execution_count": 61,
     "metadata": {},
     "output_type": "execute_result"
    }
   ],
   "source": [
    "df.loc[next_day.index, 'Order_Pickup_Time'] = next_day\n",
    "df.loc[same_day.index, 'Order_Pickup_Time'] = same_day\n",
    "df"
   ],
   "metadata": {
    "collapsed": false,
    "pycharm": {
     "name": "#%%\n"
    }
   }
  },
  {
   "cell_type": "markdown",
   "source": [
    "# Adding in Distance Data"
   ],
   "metadata": {
    "collapsed": false,
    "pycharm": {
     "name": "#%% md\n"
    }
   }
  },
  {
   "cell_type": "code",
   "execution_count": 62,
   "outputs": [],
   "source": [
    "from math import radians, cos, sin, asin, sqrt"
   ],
   "metadata": {
    "collapsed": false,
    "pycharm": {
     "name": "#%%\n"
    }
   }
  },
  {
   "cell_type": "code",
   "execution_count": 63,
   "outputs": [
    {
     "data": {
      "text/plain": "            ID Delivery_person_ID  Delivery_person_Age  \\\n0      0x3474     BANGRES15DEL01                  28.0   \n1      0x9420      JAPRES09DEL03                  23.0   \n2      0x72ee      JAPRES07DEL03                  21.0   \n3      0xa759     CHENRES19DEL01                  31.0   \n4      0xc4af      GOARES04DEL01                  26.0   \n...        ...                ...                  ...   \n10286  0xe240      BHPRES07DEL01                  31.0   \n10287  0x6909      JAPRES01DEL01                  35.0   \n10288  0x443b      JAPRES11DEL01                  33.0   \n10289  0x22d4      VADRES03DEL02                  27.0   \n10290  0xb7be     CHENRES07DEL02                  39.0   \n\n       Delivery_person_Ratings  Restaurant_latitude  Restaurant_longitude  \\\n0                          4.6            12.975377             77.696664   \n1                          4.5            26.911378             75.789034   \n2                          4.8            26.766536             75.837333   \n3                          4.6            12.986047             80.218114   \n4                          4.7            15.569600             73.742294   \n...                        ...                  ...                   ...   \n10286                      4.7             0.000000              0.000000   \n10287                      4.6            26.905190             75.810753   \n10288                      4.9            26.902940             75.793007   \n10289                      4.7            22.320000             73.170000   \n10290                      5.0            13.081878             80.248519   \n\n       Delivery_location_latitude  Delivery_location_longitude Order_Date  \\\n0                       13.085377                    77.806664 2022-03-29   \n1                       27.001378                    75.879034 2022-03-10   \n2                       26.856536                    75.927333 2022-04-02   \n3                       13.096047                    80.328114 2022-03-27   \n4                       15.579600                    73.752294 2022-02-15   \n...                           ...                          ...        ...   \n10286                    0.010000                     0.010000 2022-02-13   \n10287                   27.015190                    75.920753 2022-03-27   \n10288                   26.912940                    75.803007 2022-03-11   \n10289                   22.450000                    73.300000 2022-03-06   \n10290                   13.131878                    80.298519 2022-03-24   \n\n              Time_Orderd  ... Weatherconditions Road_traffic_density  \\\n0     1900-01-01 20:30:00  ...             Windy                 Jam    \n1     1900-01-01 19:35:00  ...            Stormy                 Jam    \n2     1900-01-01 17:15:00  ...               Fog              Medium    \n3     1900-01-01 18:25:00  ...             Sunny              Medium    \n4     1900-01-01 09:45:00  ...               Fog                 Low    \n...                   ...  ...               ...                  ...   \n10286 1900-01-01 11:00:00  ...             Windy                 Low    \n10287 1900-01-01 21:35:00  ...             Sunny                 Jam    \n10288 1900-01-01 11:40:00  ...        Sandstorms                High    \n10289 1900-01-01 18:35:00  ...        Sandstorms              Medium    \n10290 1900-01-01 22:20:00  ...             Windy                 Low    \n\n      Vehicle_condition  Type_of_order Type_of_vehicle multiple_deliveries  \\\n0                     0         Snack      motorcycle                  1.0   \n1                     0        Drinks      motorcycle                  1.0   \n2                     1          Meal         scooter                  1.0   \n3                     2        Drinks         scooter                  1.0   \n4                     0        Drinks      motorcycle                  1.0   \n...                 ...            ...             ...                 ...   \n10286                 2         Snack         scooter                  1.0   \n10287                 1         Snack         scooter                  1.0   \n10288                 1        Drinks         scooter                  1.0   \n10289                 0          Meal      motorcycle                  0.0   \n10290                 2        Drinks      motorcycle                  1.0   \n\n       Festival            City Order_Pickup_Time  Delivery_Distance (m)  \n0           No   Metropolitian                5.0           17076.617427  \n1           No   Metropolitian               10.0           13406.029476  \n2           No   Metropolitian                5.0           13413.644078  \n3           No   Metropolitian               15.0           17076.258901  \n4           No   Metropolitian               10.0            1543.933291  \n...         ...             ...               ...                    ...  \n10286       No   Metropolitian               10.0            1572.533729  \n10287       No   Metropolitian               10.0           16384.900933  \n10288       No   Metropolitian                5.0            1489.842307  \n10289       No   Metropolitian                5.0           19687.776694  \n10290       No           Urban                5.0            7760.928147  \n\n[10291 rows x 21 columns]",
      "text/html": "<div>\n<style scoped>\n    .dataframe tbody tr th:only-of-type {\n        vertical-align: middle;\n    }\n\n    .dataframe tbody tr th {\n        vertical-align: top;\n    }\n\n    .dataframe thead th {\n        text-align: right;\n    }\n</style>\n<table border=\"1\" class=\"dataframe\">\n  <thead>\n    <tr style=\"text-align: right;\">\n      <th></th>\n      <th>ID</th>\n      <th>Delivery_person_ID</th>\n      <th>Delivery_person_Age</th>\n      <th>Delivery_person_Ratings</th>\n      <th>Restaurant_latitude</th>\n      <th>Restaurant_longitude</th>\n      <th>Delivery_location_latitude</th>\n      <th>Delivery_location_longitude</th>\n      <th>Order_Date</th>\n      <th>Time_Orderd</th>\n      <th>...</th>\n      <th>Weatherconditions</th>\n      <th>Road_traffic_density</th>\n      <th>Vehicle_condition</th>\n      <th>Type_of_order</th>\n      <th>Type_of_vehicle</th>\n      <th>multiple_deliveries</th>\n      <th>Festival</th>\n      <th>City</th>\n      <th>Order_Pickup_Time</th>\n      <th>Delivery_Distance (m)</th>\n    </tr>\n  </thead>\n  <tbody>\n    <tr>\n      <th>0</th>\n      <td>0x3474</td>\n      <td>BANGRES15DEL01</td>\n      <td>28.0</td>\n      <td>4.6</td>\n      <td>12.975377</td>\n      <td>77.696664</td>\n      <td>13.085377</td>\n      <td>77.806664</td>\n      <td>2022-03-29</td>\n      <td>1900-01-01 20:30:00</td>\n      <td>...</td>\n      <td>Windy</td>\n      <td>Jam</td>\n      <td>0</td>\n      <td>Snack</td>\n      <td>motorcycle</td>\n      <td>1.0</td>\n      <td>No</td>\n      <td>Metropolitian</td>\n      <td>5.0</td>\n      <td>17076.617427</td>\n    </tr>\n    <tr>\n      <th>1</th>\n      <td>0x9420</td>\n      <td>JAPRES09DEL03</td>\n      <td>23.0</td>\n      <td>4.5</td>\n      <td>26.911378</td>\n      <td>75.789034</td>\n      <td>27.001378</td>\n      <td>75.879034</td>\n      <td>2022-03-10</td>\n      <td>1900-01-01 19:35:00</td>\n      <td>...</td>\n      <td>Stormy</td>\n      <td>Jam</td>\n      <td>0</td>\n      <td>Drinks</td>\n      <td>motorcycle</td>\n      <td>1.0</td>\n      <td>No</td>\n      <td>Metropolitian</td>\n      <td>10.0</td>\n      <td>13406.029476</td>\n    </tr>\n    <tr>\n      <th>2</th>\n      <td>0x72ee</td>\n      <td>JAPRES07DEL03</td>\n      <td>21.0</td>\n      <td>4.8</td>\n      <td>26.766536</td>\n      <td>75.837333</td>\n      <td>26.856536</td>\n      <td>75.927333</td>\n      <td>2022-04-02</td>\n      <td>1900-01-01 17:15:00</td>\n      <td>...</td>\n      <td>Fog</td>\n      <td>Medium</td>\n      <td>1</td>\n      <td>Meal</td>\n      <td>scooter</td>\n      <td>1.0</td>\n      <td>No</td>\n      <td>Metropolitian</td>\n      <td>5.0</td>\n      <td>13413.644078</td>\n    </tr>\n    <tr>\n      <th>3</th>\n      <td>0xa759</td>\n      <td>CHENRES19DEL01</td>\n      <td>31.0</td>\n      <td>4.6</td>\n      <td>12.986047</td>\n      <td>80.218114</td>\n      <td>13.096047</td>\n      <td>80.328114</td>\n      <td>2022-03-27</td>\n      <td>1900-01-01 18:25:00</td>\n      <td>...</td>\n      <td>Sunny</td>\n      <td>Medium</td>\n      <td>2</td>\n      <td>Drinks</td>\n      <td>scooter</td>\n      <td>1.0</td>\n      <td>No</td>\n      <td>Metropolitian</td>\n      <td>15.0</td>\n      <td>17076.258901</td>\n    </tr>\n    <tr>\n      <th>4</th>\n      <td>0xc4af</td>\n      <td>GOARES04DEL01</td>\n      <td>26.0</td>\n      <td>4.7</td>\n      <td>15.569600</td>\n      <td>73.742294</td>\n      <td>15.579600</td>\n      <td>73.752294</td>\n      <td>2022-02-15</td>\n      <td>1900-01-01 09:45:00</td>\n      <td>...</td>\n      <td>Fog</td>\n      <td>Low</td>\n      <td>0</td>\n      <td>Drinks</td>\n      <td>motorcycle</td>\n      <td>1.0</td>\n      <td>No</td>\n      <td>Metropolitian</td>\n      <td>10.0</td>\n      <td>1543.933291</td>\n    </tr>\n    <tr>\n      <th>...</th>\n      <td>...</td>\n      <td>...</td>\n      <td>...</td>\n      <td>...</td>\n      <td>...</td>\n      <td>...</td>\n      <td>...</td>\n      <td>...</td>\n      <td>...</td>\n      <td>...</td>\n      <td>...</td>\n      <td>...</td>\n      <td>...</td>\n      <td>...</td>\n      <td>...</td>\n      <td>...</td>\n      <td>...</td>\n      <td>...</td>\n      <td>...</td>\n      <td>...</td>\n      <td>...</td>\n    </tr>\n    <tr>\n      <th>10286</th>\n      <td>0xe240</td>\n      <td>BHPRES07DEL01</td>\n      <td>31.0</td>\n      <td>4.7</td>\n      <td>0.000000</td>\n      <td>0.000000</td>\n      <td>0.010000</td>\n      <td>0.010000</td>\n      <td>2022-02-13</td>\n      <td>1900-01-01 11:00:00</td>\n      <td>...</td>\n      <td>Windy</td>\n      <td>Low</td>\n      <td>2</td>\n      <td>Snack</td>\n      <td>scooter</td>\n      <td>1.0</td>\n      <td>No</td>\n      <td>Metropolitian</td>\n      <td>10.0</td>\n      <td>1572.533729</td>\n    </tr>\n    <tr>\n      <th>10287</th>\n      <td>0x6909</td>\n      <td>JAPRES01DEL01</td>\n      <td>35.0</td>\n      <td>4.6</td>\n      <td>26.905190</td>\n      <td>75.810753</td>\n      <td>27.015190</td>\n      <td>75.920753</td>\n      <td>2022-03-27</td>\n      <td>1900-01-01 21:35:00</td>\n      <td>...</td>\n      <td>Sunny</td>\n      <td>Jam</td>\n      <td>1</td>\n      <td>Snack</td>\n      <td>scooter</td>\n      <td>1.0</td>\n      <td>No</td>\n      <td>Metropolitian</td>\n      <td>10.0</td>\n      <td>16384.900933</td>\n    </tr>\n    <tr>\n      <th>10288</th>\n      <td>0x443b</td>\n      <td>JAPRES11DEL01</td>\n      <td>33.0</td>\n      <td>4.9</td>\n      <td>26.902940</td>\n      <td>75.793007</td>\n      <td>26.912940</td>\n      <td>75.803007</td>\n      <td>2022-03-11</td>\n      <td>1900-01-01 11:40:00</td>\n      <td>...</td>\n      <td>Sandstorms</td>\n      <td>High</td>\n      <td>1</td>\n      <td>Drinks</td>\n      <td>scooter</td>\n      <td>1.0</td>\n      <td>No</td>\n      <td>Metropolitian</td>\n      <td>5.0</td>\n      <td>1489.842307</td>\n    </tr>\n    <tr>\n      <th>10289</th>\n      <td>0x22d4</td>\n      <td>VADRES03DEL02</td>\n      <td>27.0</td>\n      <td>4.7</td>\n      <td>22.320000</td>\n      <td>73.170000</td>\n      <td>22.450000</td>\n      <td>73.300000</td>\n      <td>2022-03-06</td>\n      <td>1900-01-01 18:35:00</td>\n      <td>...</td>\n      <td>Sandstorms</td>\n      <td>Medium</td>\n      <td>0</td>\n      <td>Meal</td>\n      <td>motorcycle</td>\n      <td>0.0</td>\n      <td>No</td>\n      <td>Metropolitian</td>\n      <td>5.0</td>\n      <td>19687.776694</td>\n    </tr>\n    <tr>\n      <th>10290</th>\n      <td>0xb7be</td>\n      <td>CHENRES07DEL02</td>\n      <td>39.0</td>\n      <td>5.0</td>\n      <td>13.081878</td>\n      <td>80.248519</td>\n      <td>13.131878</td>\n      <td>80.298519</td>\n      <td>2022-03-24</td>\n      <td>1900-01-01 22:20:00</td>\n      <td>...</td>\n      <td>Windy</td>\n      <td>Low</td>\n      <td>2</td>\n      <td>Drinks</td>\n      <td>motorcycle</td>\n      <td>1.0</td>\n      <td>No</td>\n      <td>Urban</td>\n      <td>5.0</td>\n      <td>7760.928147</td>\n    </tr>\n  </tbody>\n</table>\n<p>10291 rows × 21 columns</p>\n</div>"
     },
     "execution_count": 63,
     "metadata": {},
     "output_type": "execute_result"
    }
   ],
   "source": [
    "def haversine(lon1, lat1, lon2, lat2):\n",
    "    \"\"\"\n",
    "    Calculate the great circle distance between two points\n",
    "    on the earth (specified in decimal degrees)\n",
    "    \"\"\"\n",
    "    # convert decimal degrees to radians\n",
    "    lon1, lat1, lon2, lat2 = map(radians, [lon1, lat1, lon2, lat2])\n",
    "    # haversine formula\n",
    "    dlon = lon2 - lon1\n",
    "    dlat = lat2 - lat1\n",
    "    a = sin(dlat/2)**2 + cos(lat1) * cos(lat2) * sin(dlon/2)**2\n",
    "    c = 2 * asin(sqrt(a))\n",
    "    # Radius of earth in kilometers is 6371\n",
    "    m = 6371* c * 1000\n",
    "    return m\n",
    "\n",
    "df['Delivery_Distance (m)'] = [haversine(df['Restaurant_longitude'][i],df['Restaurant_latitude'][i],df['Delivery_location_longitude'][i],df['Delivery_location_latitude'][i]) for i in range(len(df))]\n",
    "df"
   ],
   "metadata": {
    "collapsed": false,
    "pycharm": {
     "name": "#%%\n"
    }
   }
  },
  {
   "cell_type": "markdown",
   "source": [
    "# Delivery Dates\n",
    "\n",
    "I suspect that delivery time varies by month due to conditions (ie. rainy, icy, dry, etc)"
   ],
   "metadata": {
    "collapsed": false,
    "pycharm": {
     "name": "#%% md\n"
    }
   }
  },
  {
   "cell_type": "code",
   "execution_count": 64,
   "outputs": [],
   "source": [
    "df['Ordered_month'] = df['Order_Date'].dt.month\n",
    "df['Ordered_year'] = df['Order_Date'].dt.year"
   ],
   "metadata": {
    "collapsed": false,
    "pycharm": {
     "name": "#%%\n"
    }
   }
  },
  {
   "cell_type": "markdown",
   "source": [
    "I also suspect that the road conditions on the day varies by what time it is"
   ],
   "metadata": {
    "collapsed": false,
    "pycharm": {
     "name": "#%% md\n"
    }
   }
  },
  {
   "cell_type": "code",
   "execution_count": 65,
   "outputs": [],
   "source": [
    "df['Ordered_time (mins)'] = df['Time_Orderd'].dt.hour * 60 + df['Time_Orderd'].dt.minute"
   ],
   "metadata": {
    "collapsed": false,
    "pycharm": {
     "name": "#%%\n"
    }
   }
  },
  {
   "cell_type": "code",
   "execution_count": 66,
   "outputs": [
    {
     "data": {
      "text/plain": "       Delivery_person_Age  Delivery_person_Ratings Weatherconditions  \\\n0                     28.0                      4.6             Windy   \n1                     23.0                      4.5            Stormy   \n2                     21.0                      4.8               Fog   \n3                     31.0                      4.6             Sunny   \n4                     26.0                      4.7               Fog   \n...                    ...                      ...               ...   \n10286                 31.0                      4.7             Windy   \n10287                 35.0                      4.6             Sunny   \n10288                 33.0                      4.9        Sandstorms   \n10289                 27.0                      4.7        Sandstorms   \n10290                 39.0                      5.0             Windy   \n\n      Road_traffic_density  Vehicle_condition Type_of_order Type_of_vehicle  \\\n0                     Jam                   0        Snack      motorcycle    \n1                     Jam                   0       Drinks      motorcycle    \n2                  Medium                   1         Meal         scooter    \n3                  Medium                   2       Drinks         scooter    \n4                     Low                   0       Drinks      motorcycle    \n...                    ...                ...           ...             ...   \n10286                 Low                   2        Snack         scooter    \n10287                 Jam                   1        Snack         scooter    \n10288                High                   1       Drinks         scooter    \n10289              Medium                   0         Meal      motorcycle    \n10290                 Low                   2       Drinks      motorcycle    \n\n       multiple_deliveries Festival            City  Order_Pickup_Time  \\\n0                      1.0      No   Metropolitian                 5.0   \n1                      1.0      No   Metropolitian                10.0   \n2                      1.0      No   Metropolitian                 5.0   \n3                      1.0      No   Metropolitian                15.0   \n4                      1.0      No   Metropolitian                10.0   \n...                    ...      ...             ...                ...   \n10286                  1.0      No   Metropolitian                10.0   \n10287                  1.0      No   Metropolitian                10.0   \n10288                  1.0      No   Metropolitian                 5.0   \n10289                  0.0      No   Metropolitian                 5.0   \n10290                  1.0      No           Urban                 5.0   \n\n       Delivery_Distance (m)  Ordered_month  Ordered_year  Ordered_time (mins)  \n0               17076.617427              3          2022                 1230  \n1               13406.029476              3          2022                 1175  \n2               13413.644078              4          2022                 1035  \n3               17076.258901              3          2022                 1105  \n4                1543.933291              2          2022                  585  \n...                      ...            ...           ...                  ...  \n10286            1572.533729              2          2022                  660  \n10287           16384.900933              3          2022                 1295  \n10288            1489.842307              3          2022                  700  \n10289           19687.776694              3          2022                 1115  \n10290            7760.928147              3          2022                 1340  \n\n[10291 rows x 15 columns]",
      "text/html": "<div>\n<style scoped>\n    .dataframe tbody tr th:only-of-type {\n        vertical-align: middle;\n    }\n\n    .dataframe tbody tr th {\n        vertical-align: top;\n    }\n\n    .dataframe thead th {\n        text-align: right;\n    }\n</style>\n<table border=\"1\" class=\"dataframe\">\n  <thead>\n    <tr style=\"text-align: right;\">\n      <th></th>\n      <th>Delivery_person_Age</th>\n      <th>Delivery_person_Ratings</th>\n      <th>Weatherconditions</th>\n      <th>Road_traffic_density</th>\n      <th>Vehicle_condition</th>\n      <th>Type_of_order</th>\n      <th>Type_of_vehicle</th>\n      <th>multiple_deliveries</th>\n      <th>Festival</th>\n      <th>City</th>\n      <th>Order_Pickup_Time</th>\n      <th>Delivery_Distance (m)</th>\n      <th>Ordered_month</th>\n      <th>Ordered_year</th>\n      <th>Ordered_time (mins)</th>\n    </tr>\n  </thead>\n  <tbody>\n    <tr>\n      <th>0</th>\n      <td>28.0</td>\n      <td>4.6</td>\n      <td>Windy</td>\n      <td>Jam</td>\n      <td>0</td>\n      <td>Snack</td>\n      <td>motorcycle</td>\n      <td>1.0</td>\n      <td>No</td>\n      <td>Metropolitian</td>\n      <td>5.0</td>\n      <td>17076.617427</td>\n      <td>3</td>\n      <td>2022</td>\n      <td>1230</td>\n    </tr>\n    <tr>\n      <th>1</th>\n      <td>23.0</td>\n      <td>4.5</td>\n      <td>Stormy</td>\n      <td>Jam</td>\n      <td>0</td>\n      <td>Drinks</td>\n      <td>motorcycle</td>\n      <td>1.0</td>\n      <td>No</td>\n      <td>Metropolitian</td>\n      <td>10.0</td>\n      <td>13406.029476</td>\n      <td>3</td>\n      <td>2022</td>\n      <td>1175</td>\n    </tr>\n    <tr>\n      <th>2</th>\n      <td>21.0</td>\n      <td>4.8</td>\n      <td>Fog</td>\n      <td>Medium</td>\n      <td>1</td>\n      <td>Meal</td>\n      <td>scooter</td>\n      <td>1.0</td>\n      <td>No</td>\n      <td>Metropolitian</td>\n      <td>5.0</td>\n      <td>13413.644078</td>\n      <td>4</td>\n      <td>2022</td>\n      <td>1035</td>\n    </tr>\n    <tr>\n      <th>3</th>\n      <td>31.0</td>\n      <td>4.6</td>\n      <td>Sunny</td>\n      <td>Medium</td>\n      <td>2</td>\n      <td>Drinks</td>\n      <td>scooter</td>\n      <td>1.0</td>\n      <td>No</td>\n      <td>Metropolitian</td>\n      <td>15.0</td>\n      <td>17076.258901</td>\n      <td>3</td>\n      <td>2022</td>\n      <td>1105</td>\n    </tr>\n    <tr>\n      <th>4</th>\n      <td>26.0</td>\n      <td>4.7</td>\n      <td>Fog</td>\n      <td>Low</td>\n      <td>0</td>\n      <td>Drinks</td>\n      <td>motorcycle</td>\n      <td>1.0</td>\n      <td>No</td>\n      <td>Metropolitian</td>\n      <td>10.0</td>\n      <td>1543.933291</td>\n      <td>2</td>\n      <td>2022</td>\n      <td>585</td>\n    </tr>\n    <tr>\n      <th>...</th>\n      <td>...</td>\n      <td>...</td>\n      <td>...</td>\n      <td>...</td>\n      <td>...</td>\n      <td>...</td>\n      <td>...</td>\n      <td>...</td>\n      <td>...</td>\n      <td>...</td>\n      <td>...</td>\n      <td>...</td>\n      <td>...</td>\n      <td>...</td>\n      <td>...</td>\n    </tr>\n    <tr>\n      <th>10286</th>\n      <td>31.0</td>\n      <td>4.7</td>\n      <td>Windy</td>\n      <td>Low</td>\n      <td>2</td>\n      <td>Snack</td>\n      <td>scooter</td>\n      <td>1.0</td>\n      <td>No</td>\n      <td>Metropolitian</td>\n      <td>10.0</td>\n      <td>1572.533729</td>\n      <td>2</td>\n      <td>2022</td>\n      <td>660</td>\n    </tr>\n    <tr>\n      <th>10287</th>\n      <td>35.0</td>\n      <td>4.6</td>\n      <td>Sunny</td>\n      <td>Jam</td>\n      <td>1</td>\n      <td>Snack</td>\n      <td>scooter</td>\n      <td>1.0</td>\n      <td>No</td>\n      <td>Metropolitian</td>\n      <td>10.0</td>\n      <td>16384.900933</td>\n      <td>3</td>\n      <td>2022</td>\n      <td>1295</td>\n    </tr>\n    <tr>\n      <th>10288</th>\n      <td>33.0</td>\n      <td>4.9</td>\n      <td>Sandstorms</td>\n      <td>High</td>\n      <td>1</td>\n      <td>Drinks</td>\n      <td>scooter</td>\n      <td>1.0</td>\n      <td>No</td>\n      <td>Metropolitian</td>\n      <td>5.0</td>\n      <td>1489.842307</td>\n      <td>3</td>\n      <td>2022</td>\n      <td>700</td>\n    </tr>\n    <tr>\n      <th>10289</th>\n      <td>27.0</td>\n      <td>4.7</td>\n      <td>Sandstorms</td>\n      <td>Medium</td>\n      <td>0</td>\n      <td>Meal</td>\n      <td>motorcycle</td>\n      <td>0.0</td>\n      <td>No</td>\n      <td>Metropolitian</td>\n      <td>5.0</td>\n      <td>19687.776694</td>\n      <td>3</td>\n      <td>2022</td>\n      <td>1115</td>\n    </tr>\n    <tr>\n      <th>10290</th>\n      <td>39.0</td>\n      <td>5.0</td>\n      <td>Windy</td>\n      <td>Low</td>\n      <td>2</td>\n      <td>Drinks</td>\n      <td>motorcycle</td>\n      <td>1.0</td>\n      <td>No</td>\n      <td>Urban</td>\n      <td>5.0</td>\n      <td>7760.928147</td>\n      <td>3</td>\n      <td>2022</td>\n      <td>1340</td>\n    </tr>\n  </tbody>\n</table>\n<p>10291 rows × 15 columns</p>\n</div>"
     },
     "execution_count": 66,
     "metadata": {},
     "output_type": "execute_result"
    }
   ],
   "source": [
    "df = df.drop(['ID', 'Delivery_person_ID', 'Restaurant_latitude', 'Restaurant_longitude', 'Delivery_location_latitude', 'Delivery_location_longitude','Order_Date', 'Time_Orderd', 'Time_Order_picked'], axis=1)\n",
    "df"
   ],
   "metadata": {
    "collapsed": false,
    "pycharm": {
     "name": "#%%\n"
    }
   }
  },
  {
   "cell_type": "markdown",
   "source": [
    "# Feature Importance\n",
    "- Removes features using the Random Forest model"
   ],
   "metadata": {
    "collapsed": false,
    "pycharm": {
     "name": "#%% md\n"
    }
   }
  },
  {
   "cell_type": "code",
   "execution_count": 67,
   "outputs": [],
   "source": [
    "df = df.drop(['Type_of_vehicle', 'Type_of_order', 'Ordered_year','City', 'Ordered_month', 'Order_Pickup_Time'], axis = 1)"
   ],
   "metadata": {
    "collapsed": false,
    "pycharm": {
     "name": "#%%\n"
    }
   }
  },
  {
   "cell_type": "markdown",
   "source": [
    "# Saves the Data"
   ],
   "metadata": {
    "collapsed": false,
    "pycharm": {
     "name": "#%% md\n"
    }
   }
  },
  {
   "cell_type": "code",
   "execution_count": 68,
   "outputs": [],
   "source": [
    "df.to_csv('data/test_engineered_feature_importance.csv', index=False)"
   ],
   "metadata": {
    "collapsed": false,
    "pycharm": {
     "name": "#%%\n"
    }
   }
  }
 ],
 "metadata": {
  "kernelspec": {
   "display_name": "Python 3",
   "language": "python",
   "name": "python3"
  },
  "language_info": {
   "codemirror_mode": {
    "name": "ipython",
    "version": 2
   },
   "file_extension": ".py",
   "mimetype": "text/x-python",
   "name": "python",
   "nbconvert_exporter": "python",
   "pygments_lexer": "ipython2",
   "version": "2.7.6"
  }
 },
 "nbformat": 4,
 "nbformat_minor": 0
}